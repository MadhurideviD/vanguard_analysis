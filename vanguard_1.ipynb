{
 "cells": [
  {
   "cell_type": "markdown",
   "id": "965034da",
   "metadata": {},
   "source": [
    "IMPORTING ALL THE LIBRARIES"
   ]
  },
  {
   "cell_type": "code",
<<<<<<< HEAD
   "execution_count": 235,
=======
   "execution_count": 1,
>>>>>>> b477f8597a6ea78a957d0fe22574cca83223552c
   "id": "45c7b863",
   "metadata": {},
   "outputs": [],
   "source": [
    "import glob\n",
    "import os\n",
    "import pandas as pd\n",
    "import numpy as np\n",
    "import csv\n",
    "import matplotlib.pyplot as plt\n",
    "import seaborn as sns"
   ]
  },
  {
   "cell_type": "markdown",
   "id": "0dcc2294",
   "metadata": {},
   "source": [
    "CONVERTING TEXT FILES TO CSV FILES"
   ]
  },
  {
   "cell_type": "code",
<<<<<<< HEAD
   "execution_count": 236,
=======
   "execution_count": 2,
>>>>>>> b477f8597a6ea78a957d0fe22574cca83223552c
   "id": "8dd6a4a1",
   "metadata": {},
   "outputs": [],
   "source": [
    "with open(r'/Users/jhenifheralmeida/vanguard_analysis/txt/df_final_demo.txt', 'r') as infile, open('df_final_demo.csv', 'w', newline='') as outfile:\n",
    "    reader = csv.reader(infile)       # reads comma-separated lines\n",
    "    writer = csv.writer(outfile)      # writes to CSV format\n",
    "\n",
    "    for row in reader:\n",
    "        clean_row = [cell.strip() for cell in row]\n",
    "        writer.writerow(clean_row)"
   ]
  },
  {
   "cell_type": "code",
<<<<<<< HEAD
   "execution_count": 237,
=======
   "execution_count": 3,
>>>>>>> b477f8597a6ea78a957d0fe22574cca83223552c
   "id": "b5c7dbfc",
   "metadata": {},
   "outputs": [],
   "source": [
    "df = pd.read_csv('df_final_demo.csv')"
   ]
  },
  {
   "cell_type": "code",
<<<<<<< HEAD
   "execution_count": 238,
=======
   "execution_count": 4,
>>>>>>> b477f8597a6ea78a957d0fe22574cca83223552c
   "id": "9cb3094d",
   "metadata": {},
   "outputs": [
    {
     "data": {
      "text/html": [
       "<div>\n",
       "<style scoped>\n",
       "    .dataframe tbody tr th:only-of-type {\n",
       "        vertical-align: middle;\n",
       "    }\n",
       "\n",
       "    .dataframe tbody tr th {\n",
       "        vertical-align: top;\n",
       "    }\n",
       "\n",
       "    .dataframe thead th {\n",
       "        text-align: right;\n",
       "    }\n",
       "</style>\n",
       "<table border=\"1\" class=\"dataframe\">\n",
       "  <thead>\n",
       "    <tr style=\"text-align: right;\">\n",
       "      <th></th>\n",
       "      <th>client_id</th>\n",
       "      <th>clnt_tenure_yr</th>\n",
       "      <th>clnt_tenure_mnth</th>\n",
       "      <th>clnt_age</th>\n",
       "      <th>gendr</th>\n",
       "      <th>num_accts</th>\n",
       "      <th>bal</th>\n",
       "      <th>calls_6_mnth</th>\n",
       "      <th>logons_6_mnth</th>\n",
       "    </tr>\n",
       "  </thead>\n",
       "  <tbody>\n",
       "    <tr>\n",
       "      <th>0</th>\n",
       "      <td>836976</td>\n",
       "      <td>6.0</td>\n",
       "      <td>73.0</td>\n",
       "      <td>60.5</td>\n",
       "      <td>U</td>\n",
       "      <td>2.0</td>\n",
       "      <td>45105.30</td>\n",
       "      <td>6.0</td>\n",
       "      <td>9.0</td>\n",
       "    </tr>\n",
       "    <tr>\n",
       "      <th>1</th>\n",
       "      <td>2304905</td>\n",
       "      <td>7.0</td>\n",
       "      <td>94.0</td>\n",
       "      <td>58.0</td>\n",
       "      <td>U</td>\n",
       "      <td>2.0</td>\n",
       "      <td>110860.30</td>\n",
       "      <td>6.0</td>\n",
       "      <td>9.0</td>\n",
       "    </tr>\n",
       "    <tr>\n",
       "      <th>2</th>\n",
       "      <td>1439522</td>\n",
       "      <td>5.0</td>\n",
       "      <td>64.0</td>\n",
       "      <td>32.0</td>\n",
       "      <td>U</td>\n",
       "      <td>2.0</td>\n",
       "      <td>52467.79</td>\n",
       "      <td>6.0</td>\n",
       "      <td>9.0</td>\n",
       "    </tr>\n",
       "    <tr>\n",
       "      <th>3</th>\n",
       "      <td>1562045</td>\n",
       "      <td>16.0</td>\n",
       "      <td>198.0</td>\n",
       "      <td>49.0</td>\n",
       "      <td>M</td>\n",
       "      <td>2.0</td>\n",
       "      <td>67454.65</td>\n",
       "      <td>3.0</td>\n",
       "      <td>6.0</td>\n",
       "    </tr>\n",
       "    <tr>\n",
       "      <th>4</th>\n",
       "      <td>5126305</td>\n",
       "      <td>12.0</td>\n",
       "      <td>145.0</td>\n",
       "      <td>33.0</td>\n",
       "      <td>F</td>\n",
       "      <td>2.0</td>\n",
       "      <td>103671.75</td>\n",
       "      <td>0.0</td>\n",
       "      <td>3.0</td>\n",
       "    </tr>\n",
       "    <tr>\n",
       "      <th>...</th>\n",
       "      <td>...</td>\n",
       "      <td>...</td>\n",
       "      <td>...</td>\n",
       "      <td>...</td>\n",
       "      <td>...</td>\n",
       "      <td>...</td>\n",
       "      <td>...</td>\n",
       "      <td>...</td>\n",
       "      <td>...</td>\n",
       "    </tr>\n",
       "    <tr>\n",
       "      <th>70604</th>\n",
       "      <td>7993686</td>\n",
       "      <td>4.0</td>\n",
       "      <td>56.0</td>\n",
       "      <td>38.5</td>\n",
       "      <td>U</td>\n",
       "      <td>3.0</td>\n",
       "      <td>1411062.68</td>\n",
       "      <td>5.0</td>\n",
       "      <td>5.0</td>\n",
       "    </tr>\n",
       "    <tr>\n",
       "      <th>70605</th>\n",
       "      <td>8981690</td>\n",
       "      <td>12.0</td>\n",
       "      <td>148.0</td>\n",
       "      <td>31.0</td>\n",
       "      <td>M</td>\n",
       "      <td>2.0</td>\n",
       "      <td>101867.07</td>\n",
       "      <td>6.0</td>\n",
       "      <td>6.0</td>\n",
       "    </tr>\n",
       "    <tr>\n",
       "      <th>70606</th>\n",
       "      <td>333913</td>\n",
       "      <td>16.0</td>\n",
       "      <td>198.0</td>\n",
       "      <td>61.5</td>\n",
       "      <td>F</td>\n",
       "      <td>2.0</td>\n",
       "      <td>40745.00</td>\n",
       "      <td>3.0</td>\n",
       "      <td>3.0</td>\n",
       "    </tr>\n",
       "    <tr>\n",
       "      <th>70607</th>\n",
       "      <td>1573142</td>\n",
       "      <td>21.0</td>\n",
       "      <td>255.0</td>\n",
       "      <td>68.0</td>\n",
       "      <td>M</td>\n",
       "      <td>3.0</td>\n",
       "      <td>475114.69</td>\n",
       "      <td>4.0</td>\n",
       "      <td>4.0</td>\n",
       "    </tr>\n",
       "    <tr>\n",
       "      <th>70608</th>\n",
       "      <td>5602139</td>\n",
       "      <td>21.0</td>\n",
       "      <td>254.0</td>\n",
       "      <td>59.5</td>\n",
       "      <td>F</td>\n",
       "      <td>3.0</td>\n",
       "      <td>157498.73</td>\n",
       "      <td>7.0</td>\n",
       "      <td>7.0</td>\n",
       "    </tr>\n",
       "  </tbody>\n",
       "</table>\n",
       "<p>70609 rows × 9 columns</p>\n",
       "</div>"
      ],
      "text/plain": [
       "       client_id  clnt_tenure_yr  clnt_tenure_mnth  clnt_age gendr  num_accts  \\\n",
       "0         836976             6.0              73.0      60.5     U        2.0   \n",
       "1        2304905             7.0              94.0      58.0     U        2.0   \n",
       "2        1439522             5.0              64.0      32.0     U        2.0   \n",
       "3        1562045            16.0             198.0      49.0     M        2.0   \n",
       "4        5126305            12.0             145.0      33.0     F        2.0   \n",
       "...          ...             ...               ...       ...   ...        ...   \n",
       "70604    7993686             4.0              56.0      38.5     U        3.0   \n",
       "70605    8981690            12.0             148.0      31.0     M        2.0   \n",
       "70606     333913            16.0             198.0      61.5     F        2.0   \n",
       "70607    1573142            21.0             255.0      68.0     M        3.0   \n",
       "70608    5602139            21.0             254.0      59.5     F        3.0   \n",
       "\n",
       "              bal  calls_6_mnth  logons_6_mnth  \n",
       "0        45105.30           6.0            9.0  \n",
       "1       110860.30           6.0            9.0  \n",
       "2        52467.79           6.0            9.0  \n",
       "3        67454.65           3.0            6.0  \n",
       "4       103671.75           0.0            3.0  \n",
       "...           ...           ...            ...  \n",
       "70604  1411062.68           5.0            5.0  \n",
       "70605   101867.07           6.0            6.0  \n",
       "70606    40745.00           3.0            3.0  \n",
       "70607   475114.69           4.0            4.0  \n",
       "70608   157498.73           7.0            7.0  \n",
       "\n",
       "[70609 rows x 9 columns]"
      ]
     },
<<<<<<< HEAD
     "execution_count": 238,
=======
     "execution_count": 4,
>>>>>>> b477f8597a6ea78a957d0fe22574cca83223552c
     "metadata": {},
     "output_type": "execute_result"
    }
   ],
   "source": [
    "df"
   ]
  },
  {
   "cell_type": "code",
<<<<<<< HEAD
   "execution_count": 239,
=======
   "execution_count": 5,
>>>>>>> b477f8597a6ea78a957d0fe22574cca83223552c
   "id": "ef9993e6",
   "metadata": {},
   "outputs": [],
   "source": [
    "with open(r'/Users/jhenifheralmeida/vanguard_analysis/txt/df_final_web_data_pt_1.txt', 'r') as infile, open('df_final_web_data_pt_1.csv', 'w', newline='') as outfile:\n",
    "    reader = csv.reader(infile)       # reads comma-separated lines\n",
    "    writer = csv.writer(outfile)      # writes to CSV format\n",
    "\n",
    "    for row in reader:\n",
    "        clean_row = [cell.strip() for cell in row]\n",
    "        writer.writerow(clean_row)"
   ]
  },
  {
   "cell_type": "code",
<<<<<<< HEAD
   "execution_count": 240,
=======
   "execution_count": 6,
>>>>>>> b477f8597a6ea78a957d0fe22574cca83223552c
   "id": "d49e8ba0",
   "metadata": {},
   "outputs": [
    {
     "data": {
      "text/html": [
       "<div>\n",
       "<style scoped>\n",
       "    .dataframe tbody tr th:only-of-type {\n",
       "        vertical-align: middle;\n",
       "    }\n",
       "\n",
       "    .dataframe tbody tr th {\n",
       "        vertical-align: top;\n",
       "    }\n",
       "\n",
       "    .dataframe thead th {\n",
       "        text-align: right;\n",
       "    }\n",
       "</style>\n",
       "<table border=\"1\" class=\"dataframe\">\n",
       "  <thead>\n",
       "    <tr style=\"text-align: right;\">\n",
       "      <th></th>\n",
       "      <th>client_id</th>\n",
       "      <th>visitor_id</th>\n",
       "      <th>visit_id</th>\n",
       "      <th>process_step</th>\n",
       "      <th>date_time</th>\n",
       "    </tr>\n",
       "  </thead>\n",
       "  <tbody>\n",
       "    <tr>\n",
       "      <th>0</th>\n",
       "      <td>9988021</td>\n",
       "      <td>580560515_7732621733</td>\n",
       "      <td>781255054_21935453173_531117</td>\n",
       "      <td>step_3</td>\n",
       "      <td>2017-04-17 15:27:07</td>\n",
       "    </tr>\n",
       "    <tr>\n",
       "      <th>1</th>\n",
       "      <td>9988021</td>\n",
       "      <td>580560515_7732621733</td>\n",
       "      <td>781255054_21935453173_531117</td>\n",
       "      <td>step_2</td>\n",
       "      <td>2017-04-17 15:26:51</td>\n",
       "    </tr>\n",
       "    <tr>\n",
       "      <th>2</th>\n",
       "      <td>9988021</td>\n",
       "      <td>580560515_7732621733</td>\n",
       "      <td>781255054_21935453173_531117</td>\n",
       "      <td>step_3</td>\n",
       "      <td>2017-04-17 15:19:22</td>\n",
       "    </tr>\n",
       "    <tr>\n",
       "      <th>3</th>\n",
       "      <td>9988021</td>\n",
       "      <td>580560515_7732621733</td>\n",
       "      <td>781255054_21935453173_531117</td>\n",
       "      <td>step_2</td>\n",
       "      <td>2017-04-17 15:19:13</td>\n",
       "    </tr>\n",
       "    <tr>\n",
       "      <th>4</th>\n",
       "      <td>9988021</td>\n",
       "      <td>580560515_7732621733</td>\n",
       "      <td>781255054_21935453173_531117</td>\n",
       "      <td>step_3</td>\n",
       "      <td>2017-04-17 15:18:04</td>\n",
       "    </tr>\n",
       "    <tr>\n",
       "      <th>...</th>\n",
       "      <td>...</td>\n",
       "      <td>...</td>\n",
       "      <td>...</td>\n",
       "      <td>...</td>\n",
       "      <td>...</td>\n",
       "    </tr>\n",
       "    <tr>\n",
       "      <th>343136</th>\n",
       "      <td>2443347</td>\n",
       "      <td>465784886_73090545671</td>\n",
       "      <td>136329900_10529659391_316129</td>\n",
       "      <td>confirm</td>\n",
       "      <td>2017-03-31 15:15:46</td>\n",
       "    </tr>\n",
       "    <tr>\n",
       "      <th>343137</th>\n",
       "      <td>2443347</td>\n",
       "      <td>465784886_73090545671</td>\n",
       "      <td>136329900_10529659391_316129</td>\n",
       "      <td>step_3</td>\n",
       "      <td>2017-03-31 15:14:53</td>\n",
       "    </tr>\n",
       "    <tr>\n",
       "      <th>343138</th>\n",
       "      <td>2443347</td>\n",
       "      <td>465784886_73090545671</td>\n",
       "      <td>136329900_10529659391_316129</td>\n",
       "      <td>step_2</td>\n",
       "      <td>2017-03-31 15:12:08</td>\n",
       "    </tr>\n",
       "    <tr>\n",
       "      <th>343139</th>\n",
       "      <td>2443347</td>\n",
       "      <td>465784886_73090545671</td>\n",
       "      <td>136329900_10529659391_316129</td>\n",
       "      <td>step_1</td>\n",
       "      <td>2017-03-31 15:11:37</td>\n",
       "    </tr>\n",
       "    <tr>\n",
       "      <th>343140</th>\n",
       "      <td>2443347</td>\n",
       "      <td>465784886_73090545671</td>\n",
       "      <td>136329900_10529659391_316129</td>\n",
       "      <td>start</td>\n",
       "      <td>2017-03-31 15:10:47</td>\n",
       "    </tr>\n",
       "  </tbody>\n",
       "</table>\n",
       "<p>343141 rows × 5 columns</p>\n",
       "</div>"
      ],
      "text/plain": [
       "        client_id             visitor_id                      visit_id  \\\n",
       "0         9988021   580560515_7732621733  781255054_21935453173_531117   \n",
       "1         9988021   580560515_7732621733  781255054_21935453173_531117   \n",
       "2         9988021   580560515_7732621733  781255054_21935453173_531117   \n",
       "3         9988021   580560515_7732621733  781255054_21935453173_531117   \n",
       "4         9988021   580560515_7732621733  781255054_21935453173_531117   \n",
       "...           ...                    ...                           ...   \n",
       "343136    2443347  465784886_73090545671  136329900_10529659391_316129   \n",
       "343137    2443347  465784886_73090545671  136329900_10529659391_316129   \n",
       "343138    2443347  465784886_73090545671  136329900_10529659391_316129   \n",
       "343139    2443347  465784886_73090545671  136329900_10529659391_316129   \n",
       "343140    2443347  465784886_73090545671  136329900_10529659391_316129   \n",
       "\n",
       "       process_step            date_time  \n",
       "0            step_3  2017-04-17 15:27:07  \n",
       "1            step_2  2017-04-17 15:26:51  \n",
       "2            step_3  2017-04-17 15:19:22  \n",
       "3            step_2  2017-04-17 15:19:13  \n",
       "4            step_3  2017-04-17 15:18:04  \n",
       "...             ...                  ...  \n",
       "343136      confirm  2017-03-31 15:15:46  \n",
       "343137       step_3  2017-03-31 15:14:53  \n",
       "343138       step_2  2017-03-31 15:12:08  \n",
       "343139       step_1  2017-03-31 15:11:37  \n",
       "343140        start  2017-03-31 15:10:47  \n",
       "\n",
       "[343141 rows x 5 columns]"
      ]
     },
<<<<<<< HEAD
     "execution_count": 240,
=======
     "execution_count": 6,
>>>>>>> b477f8597a6ea78a957d0fe22574cca83223552c
     "metadata": {},
     "output_type": "execute_result"
    }
   ],
   "source": [
    "df_1 = pd.read_csv('df_final_web_data_pt_1.csv')\n",
    "df_1"
   ]
  },
  {
   "cell_type": "code",
<<<<<<< HEAD
   "execution_count": 241,
=======
   "execution_count": 7,
>>>>>>> b477f8597a6ea78a957d0fe22574cca83223552c
   "id": "de1a5d68",
   "metadata": {},
   "outputs": [],
   "source": [
    "with open(r'/Users/jhenifheralmeida/vanguard_analysis/txt/df_final_web_data_pt_2.txt', 'r') as infile, open('df_final_web_data_pt_2.csv', 'w', newline='') as outfile:\n",
    "    reader = csv.reader(infile)       # reads comma-separated lines\n",
    "    writer = csv.writer(outfile)      # writes to CSV format\n",
    "\n",
    "    for row in reader:\n",
    "        clean_row = [cell.strip() for cell in row]\n",
    "        writer.writerow(clean_row)"
   ]
  },
  {
   "cell_type": "code",
<<<<<<< HEAD
   "execution_count": 242,
=======
   "execution_count": 8,
>>>>>>> b477f8597a6ea78a957d0fe22574cca83223552c
   "id": "ae58fcaf",
   "metadata": {},
   "outputs": [
    {
     "data": {
      "text/html": [
       "<div>\n",
       "<style scoped>\n",
       "    .dataframe tbody tr th:only-of-type {\n",
       "        vertical-align: middle;\n",
       "    }\n",
       "\n",
       "    .dataframe tbody tr th {\n",
       "        vertical-align: top;\n",
       "    }\n",
       "\n",
       "    .dataframe thead th {\n",
       "        text-align: right;\n",
       "    }\n",
       "</style>\n",
       "<table border=\"1\" class=\"dataframe\">\n",
       "  <thead>\n",
       "    <tr style=\"text-align: right;\">\n",
       "      <th></th>\n",
       "      <th>client_id</th>\n",
       "      <th>visitor_id</th>\n",
       "      <th>visit_id</th>\n",
       "      <th>process_step</th>\n",
       "      <th>date_time</th>\n",
       "    </tr>\n",
       "  </thead>\n",
       "  <tbody>\n",
       "    <tr>\n",
       "      <th>0</th>\n",
       "      <td>763412</td>\n",
       "      <td>601952081_10457207388</td>\n",
       "      <td>397475557_40440946728_419634</td>\n",
       "      <td>confirm</td>\n",
       "      <td>2017-06-06 08:56:00</td>\n",
       "    </tr>\n",
       "    <tr>\n",
       "      <th>1</th>\n",
       "      <td>6019349</td>\n",
       "      <td>442094451_91531546617</td>\n",
       "      <td>154620534_35331068705_522317</td>\n",
       "      <td>confirm</td>\n",
       "      <td>2017-06-01 11:59:27</td>\n",
       "    </tr>\n",
       "    <tr>\n",
       "      <th>2</th>\n",
       "      <td>6019349</td>\n",
       "      <td>442094451_91531546617</td>\n",
       "      <td>154620534_35331068705_522317</td>\n",
       "      <td>step_3</td>\n",
       "      <td>2017-06-01 11:58:48</td>\n",
       "    </tr>\n",
       "    <tr>\n",
       "      <th>3</th>\n",
       "      <td>6019349</td>\n",
       "      <td>442094451_91531546617</td>\n",
       "      <td>154620534_35331068705_522317</td>\n",
       "      <td>step_2</td>\n",
       "      <td>2017-06-01 11:58:08</td>\n",
       "    </tr>\n",
       "    <tr>\n",
       "      <th>4</th>\n",
       "      <td>6019349</td>\n",
       "      <td>442094451_91531546617</td>\n",
       "      <td>154620534_35331068705_522317</td>\n",
       "      <td>step_1</td>\n",
       "      <td>2017-06-01 11:57:58</td>\n",
       "    </tr>\n",
       "    <tr>\n",
       "      <th>...</th>\n",
       "      <td>...</td>\n",
       "      <td>...</td>\n",
       "      <td>...</td>\n",
       "      <td>...</td>\n",
       "      <td>...</td>\n",
       "    </tr>\n",
       "    <tr>\n",
       "      <th>412259</th>\n",
       "      <td>9668240</td>\n",
       "      <td>388766751_9038881013</td>\n",
       "      <td>922267647_3096648104_968866</td>\n",
       "      <td>start</td>\n",
       "      <td>2017-05-24 18:46:10</td>\n",
       "    </tr>\n",
       "    <tr>\n",
       "      <th>412260</th>\n",
       "      <td>9668240</td>\n",
       "      <td>388766751_9038881013</td>\n",
       "      <td>922267647_3096648104_968866</td>\n",
       "      <td>start</td>\n",
       "      <td>2017-05-24 18:45:29</td>\n",
       "    </tr>\n",
       "    <tr>\n",
       "      <th>412261</th>\n",
       "      <td>9668240</td>\n",
       "      <td>388766751_9038881013</td>\n",
       "      <td>922267647_3096648104_968866</td>\n",
       "      <td>step_1</td>\n",
       "      <td>2017-05-24 18:44:51</td>\n",
       "    </tr>\n",
       "    <tr>\n",
       "      <th>412262</th>\n",
       "      <td>9668240</td>\n",
       "      <td>388766751_9038881013</td>\n",
       "      <td>922267647_3096648104_968866</td>\n",
       "      <td>start</td>\n",
       "      <td>2017-05-24 18:44:34</td>\n",
       "    </tr>\n",
       "    <tr>\n",
       "      <th>412263</th>\n",
       "      <td>674799</td>\n",
       "      <td>947159805_81558194550</td>\n",
       "      <td>86152093_47511127657_716022</td>\n",
       "      <td>start</td>\n",
       "      <td>2017-06-03 12:17:09</td>\n",
       "    </tr>\n",
       "  </tbody>\n",
       "</table>\n",
       "<p>412264 rows × 5 columns</p>\n",
       "</div>"
      ],
      "text/plain": [
       "        client_id             visitor_id                      visit_id  \\\n",
       "0          763412  601952081_10457207388  397475557_40440946728_419634   \n",
       "1         6019349  442094451_91531546617  154620534_35331068705_522317   \n",
       "2         6019349  442094451_91531546617  154620534_35331068705_522317   \n",
       "3         6019349  442094451_91531546617  154620534_35331068705_522317   \n",
       "4         6019349  442094451_91531546617  154620534_35331068705_522317   \n",
       "...           ...                    ...                           ...   \n",
       "412259    9668240   388766751_9038881013   922267647_3096648104_968866   \n",
       "412260    9668240   388766751_9038881013   922267647_3096648104_968866   \n",
       "412261    9668240   388766751_9038881013   922267647_3096648104_968866   \n",
       "412262    9668240   388766751_9038881013   922267647_3096648104_968866   \n",
       "412263     674799  947159805_81558194550   86152093_47511127657_716022   \n",
       "\n",
       "       process_step            date_time  \n",
       "0           confirm  2017-06-06 08:56:00  \n",
       "1           confirm  2017-06-01 11:59:27  \n",
       "2            step_3  2017-06-01 11:58:48  \n",
       "3            step_2  2017-06-01 11:58:08  \n",
       "4            step_1  2017-06-01 11:57:58  \n",
       "...             ...                  ...  \n",
       "412259        start  2017-05-24 18:46:10  \n",
       "412260        start  2017-05-24 18:45:29  \n",
       "412261       step_1  2017-05-24 18:44:51  \n",
       "412262        start  2017-05-24 18:44:34  \n",
       "412263        start  2017-06-03 12:17:09  \n",
       "\n",
       "[412264 rows x 5 columns]"
      ]
     },
<<<<<<< HEAD
     "execution_count": 242,
=======
     "execution_count": 8,
>>>>>>> b477f8597a6ea78a957d0fe22574cca83223552c
     "metadata": {},
     "output_type": "execute_result"
    }
   ],
   "source": [
    "df_2 = pd.read_csv('df_final_web_data_pt_2.csv')\n",
    "df_2"
   ]
  },
  {
   "cell_type": "code",
<<<<<<< HEAD
   "execution_count": 243,
=======
   "execution_count": 9,
>>>>>>> b477f8597a6ea78a957d0fe22574cca83223552c
   "id": "32fd6ece",
   "metadata": {},
   "outputs": [],
   "source": [
    "with open(r'/Users/jhenifheralmeida/vanguard_analysis/txt/df_final_experiment_clients.txt', 'r') as infile, open('df_final_experiment_clients.txt.csv', 'w', newline='') as outfile:\n",
    "    reader = csv.reader(infile)       # reads comma-separated lines\n",
    "    writer = csv.writer(outfile)      # writes to CSV format\n",
    "\n",
    "    for row in reader:\n",
    "        clean_row = [cell.strip() for cell in row]\n",
    "        writer.writerow(clean_row)"
   ]
  },
  {
   "cell_type": "code",
<<<<<<< HEAD
   "execution_count": 244,
=======
   "execution_count": 10,
>>>>>>> b477f8597a6ea78a957d0fe22574cca83223552c
   "id": "fb22467f",
   "metadata": {},
   "outputs": [
    {
     "data": {
      "text/html": [
       "<div>\n",
       "<style scoped>\n",
       "    .dataframe tbody tr th:only-of-type {\n",
       "        vertical-align: middle;\n",
       "    }\n",
       "\n",
       "    .dataframe tbody tr th {\n",
       "        vertical-align: top;\n",
       "    }\n",
       "\n",
       "    .dataframe thead th {\n",
       "        text-align: right;\n",
       "    }\n",
       "</style>\n",
       "<table border=\"1\" class=\"dataframe\">\n",
       "  <thead>\n",
       "    <tr style=\"text-align: right;\">\n",
       "      <th></th>\n",
       "      <th>client_id</th>\n",
       "      <th>Variation</th>\n",
       "    </tr>\n",
       "  </thead>\n",
       "  <tbody>\n",
       "    <tr>\n",
       "      <th>0</th>\n",
       "      <td>9988021</td>\n",
       "      <td>Test</td>\n",
       "    </tr>\n",
       "    <tr>\n",
       "      <th>1</th>\n",
       "      <td>8320017</td>\n",
       "      <td>Test</td>\n",
       "    </tr>\n",
       "    <tr>\n",
       "      <th>2</th>\n",
       "      <td>4033851</td>\n",
       "      <td>Control</td>\n",
       "    </tr>\n",
       "    <tr>\n",
       "      <th>3</th>\n",
       "      <td>1982004</td>\n",
       "      <td>Test</td>\n",
       "    </tr>\n",
       "    <tr>\n",
       "      <th>4</th>\n",
       "      <td>9294070</td>\n",
       "      <td>Control</td>\n",
       "    </tr>\n",
       "    <tr>\n",
       "      <th>...</th>\n",
       "      <td>...</td>\n",
       "      <td>...</td>\n",
       "    </tr>\n",
       "    <tr>\n",
       "      <th>70604</th>\n",
       "      <td>2443347</td>\n",
       "      <td>NaN</td>\n",
       "    </tr>\n",
       "    <tr>\n",
       "      <th>70605</th>\n",
       "      <td>8788427</td>\n",
       "      <td>NaN</td>\n",
       "    </tr>\n",
       "    <tr>\n",
       "      <th>70606</th>\n",
       "      <td>266828</td>\n",
       "      <td>NaN</td>\n",
       "    </tr>\n",
       "    <tr>\n",
       "      <th>70607</th>\n",
       "      <td>1266421</td>\n",
       "      <td>NaN</td>\n",
       "    </tr>\n",
       "    <tr>\n",
       "      <th>70608</th>\n",
       "      <td>9895983</td>\n",
       "      <td>NaN</td>\n",
       "    </tr>\n",
       "  </tbody>\n",
       "</table>\n",
       "<p>70609 rows × 2 columns</p>\n",
       "</div>"
      ],
      "text/plain": [
       "       client_id Variation\n",
       "0        9988021      Test\n",
       "1        8320017      Test\n",
       "2        4033851   Control\n",
       "3        1982004      Test\n",
       "4        9294070   Control\n",
       "...          ...       ...\n",
       "70604    2443347       NaN\n",
       "70605    8788427       NaN\n",
       "70606     266828       NaN\n",
       "70607    1266421       NaN\n",
       "70608    9895983       NaN\n",
       "\n",
       "[70609 rows x 2 columns]"
      ]
     },
<<<<<<< HEAD
     "execution_count": 244,
=======
     "execution_count": 10,
>>>>>>> b477f8597a6ea78a957d0fe22574cca83223552c
     "metadata": {},
     "output_type": "execute_result"
    }
   ],
   "source": [
    "df_experiment = pd.read_csv('df_final_experiment_clients.txt.csv')\n",
    "df_experiment"
   ]
  },
  {
   "cell_type": "markdown",
   "id": "f2d5a36c",
   "metadata": {},
   "source": [
    "DATA CLEANING"
   ]
  },
  {
   "cell_type": "code",
<<<<<<< HEAD
   "execution_count": 245,
=======
   "execution_count": 11,
>>>>>>> b477f8597a6ea78a957d0fe22574cca83223552c
   "id": "9ed2bf1d",
   "metadata": {},
   "outputs": [
    {
     "data": {
      "text/html": [
       "<div>\n",
       "<style scoped>\n",
       "    .dataframe tbody tr th:only-of-type {\n",
       "        vertical-align: middle;\n",
       "    }\n",
       "\n",
       "    .dataframe tbody tr th {\n",
       "        vertical-align: top;\n",
       "    }\n",
       "\n",
       "    .dataframe thead th {\n",
       "        text-align: right;\n",
       "    }\n",
       "</style>\n",
       "<table border=\"1\" class=\"dataframe\">\n",
       "  <thead>\n",
       "    <tr style=\"text-align: right;\">\n",
       "      <th></th>\n",
       "      <th>client_id</th>\n",
       "      <th>clnt_tenure_yr</th>\n",
       "      <th>clnt_tenure_mnth</th>\n",
       "      <th>clnt_age</th>\n",
       "      <th>gendr</th>\n",
       "      <th>num_accts</th>\n",
       "      <th>bal</th>\n",
       "      <th>calls_6_mnth</th>\n",
       "      <th>logons_6_mnth</th>\n",
       "    </tr>\n",
       "  </thead>\n",
       "  <tbody>\n",
       "    <tr>\n",
       "      <th>0</th>\n",
       "      <td>836976</td>\n",
       "      <td>6.0</td>\n",
       "      <td>73.0</td>\n",
       "      <td>60.5</td>\n",
       "      <td>U</td>\n",
       "      <td>2.0</td>\n",
       "      <td>45105.30</td>\n",
       "      <td>6.0</td>\n",
       "      <td>9.0</td>\n",
       "    </tr>\n",
       "    <tr>\n",
       "      <th>1</th>\n",
       "      <td>2304905</td>\n",
       "      <td>7.0</td>\n",
       "      <td>94.0</td>\n",
       "      <td>58.0</td>\n",
       "      <td>U</td>\n",
       "      <td>2.0</td>\n",
       "      <td>110860.30</td>\n",
       "      <td>6.0</td>\n",
       "      <td>9.0</td>\n",
       "    </tr>\n",
       "    <tr>\n",
       "      <th>2</th>\n",
       "      <td>1439522</td>\n",
       "      <td>5.0</td>\n",
       "      <td>64.0</td>\n",
       "      <td>32.0</td>\n",
       "      <td>U</td>\n",
       "      <td>2.0</td>\n",
       "      <td>52467.79</td>\n",
       "      <td>6.0</td>\n",
       "      <td>9.0</td>\n",
       "    </tr>\n",
       "    <tr>\n",
       "      <th>3</th>\n",
       "      <td>1562045</td>\n",
       "      <td>16.0</td>\n",
       "      <td>198.0</td>\n",
       "      <td>49.0</td>\n",
       "      <td>M</td>\n",
       "      <td>2.0</td>\n",
       "      <td>67454.65</td>\n",
       "      <td>3.0</td>\n",
       "      <td>6.0</td>\n",
       "    </tr>\n",
       "    <tr>\n",
       "      <th>4</th>\n",
       "      <td>5126305</td>\n",
       "      <td>12.0</td>\n",
       "      <td>145.0</td>\n",
       "      <td>33.0</td>\n",
       "      <td>F</td>\n",
       "      <td>2.0</td>\n",
       "      <td>103671.75</td>\n",
       "      <td>0.0</td>\n",
       "      <td>3.0</td>\n",
       "    </tr>\n",
       "    <tr>\n",
       "      <th>...</th>\n",
       "      <td>...</td>\n",
       "      <td>...</td>\n",
       "      <td>...</td>\n",
       "      <td>...</td>\n",
       "      <td>...</td>\n",
       "      <td>...</td>\n",
       "      <td>...</td>\n",
       "      <td>...</td>\n",
       "      <td>...</td>\n",
       "    </tr>\n",
       "    <tr>\n",
       "      <th>70604</th>\n",
       "      <td>7993686</td>\n",
       "      <td>4.0</td>\n",
       "      <td>56.0</td>\n",
       "      <td>38.5</td>\n",
       "      <td>U</td>\n",
       "      <td>3.0</td>\n",
       "      <td>1411062.68</td>\n",
       "      <td>5.0</td>\n",
       "      <td>5.0</td>\n",
       "    </tr>\n",
       "    <tr>\n",
       "      <th>70605</th>\n",
       "      <td>8981690</td>\n",
       "      <td>12.0</td>\n",
       "      <td>148.0</td>\n",
       "      <td>31.0</td>\n",
       "      <td>M</td>\n",
       "      <td>2.0</td>\n",
       "      <td>101867.07</td>\n",
       "      <td>6.0</td>\n",
       "      <td>6.0</td>\n",
       "    </tr>\n",
       "    <tr>\n",
       "      <th>70606</th>\n",
       "      <td>333913</td>\n",
       "      <td>16.0</td>\n",
       "      <td>198.0</td>\n",
       "      <td>61.5</td>\n",
       "      <td>F</td>\n",
       "      <td>2.0</td>\n",
       "      <td>40745.00</td>\n",
       "      <td>3.0</td>\n",
       "      <td>3.0</td>\n",
       "    </tr>\n",
       "    <tr>\n",
       "      <th>70607</th>\n",
       "      <td>1573142</td>\n",
       "      <td>21.0</td>\n",
       "      <td>255.0</td>\n",
       "      <td>68.0</td>\n",
       "      <td>M</td>\n",
       "      <td>3.0</td>\n",
       "      <td>475114.69</td>\n",
       "      <td>4.0</td>\n",
       "      <td>4.0</td>\n",
       "    </tr>\n",
       "    <tr>\n",
       "      <th>70608</th>\n",
       "      <td>5602139</td>\n",
       "      <td>21.0</td>\n",
       "      <td>254.0</td>\n",
       "      <td>59.5</td>\n",
       "      <td>F</td>\n",
       "      <td>3.0</td>\n",
       "      <td>157498.73</td>\n",
       "      <td>7.0</td>\n",
       "      <td>7.0</td>\n",
       "    </tr>\n",
       "  </tbody>\n",
       "</table>\n",
       "<p>70609 rows × 9 columns</p>\n",
       "</div>"
      ],
      "text/plain": [
       "       client_id  clnt_tenure_yr  clnt_tenure_mnth  clnt_age gendr  num_accts  \\\n",
       "0         836976             6.0              73.0      60.5     U        2.0   \n",
       "1        2304905             7.0              94.0      58.0     U        2.0   \n",
       "2        1439522             5.0              64.0      32.0     U        2.0   \n",
       "3        1562045            16.0             198.0      49.0     M        2.0   \n",
       "4        5126305            12.0             145.0      33.0     F        2.0   \n",
       "...          ...             ...               ...       ...   ...        ...   \n",
       "70604    7993686             4.0              56.0      38.5     U        3.0   \n",
       "70605    8981690            12.0             148.0      31.0     M        2.0   \n",
       "70606     333913            16.0             198.0      61.5     F        2.0   \n",
       "70607    1573142            21.0             255.0      68.0     M        3.0   \n",
       "70608    5602139            21.0             254.0      59.5     F        3.0   \n",
       "\n",
       "              bal  calls_6_mnth  logons_6_mnth  \n",
       "0        45105.30           6.0            9.0  \n",
       "1       110860.30           6.0            9.0  \n",
       "2        52467.79           6.0            9.0  \n",
       "3        67454.65           3.0            6.0  \n",
       "4       103671.75           0.0            3.0  \n",
       "...           ...           ...            ...  \n",
       "70604  1411062.68           5.0            5.0  \n",
       "70605   101867.07           6.0            6.0  \n",
       "70606    40745.00           3.0            3.0  \n",
       "70607   475114.69           4.0            4.0  \n",
       "70608   157498.73           7.0            7.0  \n",
       "\n",
       "[70609 rows x 9 columns]"
      ]
     },
<<<<<<< HEAD
     "execution_count": 245,
=======
     "execution_count": 11,
>>>>>>> b477f8597a6ea78a957d0fe22574cca83223552c
     "metadata": {},
     "output_type": "execute_result"
    }
   ],
   "source": [
    "df"
   ]
  },
  {
   "cell_type": "code",
<<<<<<< HEAD
   "execution_count": 246,
=======
   "execution_count": 12,
>>>>>>> b477f8597a6ea78a957d0fe22574cca83223552c
   "id": "773ffa9e",
   "metadata": {},
   "outputs": [
    {
     "data": {
      "text/plain": [
       "Index(['client_id', 'clnt_tenure_yr', 'clnt_tenure_mnth', 'clnt_age', 'gendr',\n",
       "       'num_accts', 'bal', 'calls_6_mnth', 'logons_6_mnth'],\n",
       "      dtype='object')"
      ]
     },
<<<<<<< HEAD
     "execution_count": 246,
=======
     "execution_count": 12,
>>>>>>> b477f8597a6ea78a957d0fe22574cca83223552c
     "metadata": {},
     "output_type": "execute_result"
    }
   ],
   "source": [
    "df.columns"
   ]
  },
  {
   "cell_type": "markdown",
   "id": "9ae3eab8",
   "metadata": {},
   "source": [
    "RENAMING THE COLUMN FOR BETTER READING"
   ]
  },
  {
   "cell_type": "code",
<<<<<<< HEAD
   "execution_count": 247,
=======
   "execution_count": 13,
>>>>>>> b477f8597a6ea78a957d0fe22574cca83223552c
   "id": "9fc52109",
   "metadata": {},
   "outputs": [],
   "source": [
    "df.rename(columns={\n",
    "    'client_id' : 'client_id',\n",
    "    'clnt_tenure_yr' : 'client_tenure_year',\n",
    "    'clnt_tenure_mnth' : 'client_tenure_month',\n",
    "    'clnt_age' : 'client_age',\n",
    "    'gendr' : 'gender',\n",
    "    'num_accts' : 'number_of_accounts',\n",
    "    'bal' : 'balance',\n",
    "    'calls_6_mnth' : 'calls_last_6_months',\n",
    "    'logons_6_mnth' : 'logins_last_6_months',\n",
    "},inplace=True)"
   ]
  },
  {
   "cell_type": "code",
<<<<<<< HEAD
   "execution_count": 248,
=======
   "execution_count": 14,
>>>>>>> b477f8597a6ea78a957d0fe22574cca83223552c
   "id": "41888ef6",
   "metadata": {},
   "outputs": [
    {
     "data": {
      "text/plain": [
       "Index(['client_id', 'client_tenure_year', 'client_tenure_month', 'client_age',\n",
       "       'gender', 'number_of_accounts', 'balance', 'calls_last_6_months',\n",
       "       'logins_last_6_months'],\n",
       "      dtype='object')"
      ]
     },
<<<<<<< HEAD
     "execution_count": 248,
=======
     "execution_count": 14,
>>>>>>> b477f8597a6ea78a957d0fe22574cca83223552c
     "metadata": {},
     "output_type": "execute_result"
    }
   ],
   "source": [
    "df.columns"
   ]
  },
  {
   "cell_type": "markdown",
   "id": "300f67b0",
   "metadata": {},
   "source": [
    "CHECKING FOR NULL VALUES"
   ]
  },
  {
   "cell_type": "code",
<<<<<<< HEAD
   "execution_count": 249,
=======
   "execution_count": 15,
>>>>>>> b477f8597a6ea78a957d0fe22574cca83223552c
   "id": "dd9cfa91",
   "metadata": {},
   "outputs": [
    {
     "data": {
      "text/plain": [
       "client_id                0\n",
       "client_tenure_year      14\n",
       "client_tenure_month     14\n",
       "client_age              15\n",
       "gender                  14\n",
       "number_of_accounts      14\n",
       "balance                 14\n",
       "calls_last_6_months     14\n",
       "logins_last_6_months    14\n",
       "dtype: int64"
      ]
     },
<<<<<<< HEAD
     "execution_count": 249,
=======
     "execution_count": 15,
>>>>>>> b477f8597a6ea78a957d0fe22574cca83223552c
     "metadata": {},
     "output_type": "execute_result"
    }
   ],
   "source": [
    "df.isna().sum()\n"
   ]
  },
  {
   "cell_type": "code",
<<<<<<< HEAD
   "execution_count": 250,
=======
   "execution_count": 16,
>>>>>>> b477f8597a6ea78a957d0fe22574cca83223552c
   "id": "3407fc4c",
   "metadata": {},
   "outputs": [
    {
     "data": {
      "text/html": [
       "<div>\n",
       "<style scoped>\n",
       "    .dataframe tbody tr th:only-of-type {\n",
       "        vertical-align: middle;\n",
       "    }\n",
       "\n",
       "    .dataframe tbody tr th {\n",
       "        vertical-align: top;\n",
       "    }\n",
       "\n",
       "    .dataframe thead th {\n",
       "        text-align: right;\n",
       "    }\n",
       "</style>\n",
       "<table border=\"1\" class=\"dataframe\">\n",
       "  <thead>\n",
       "    <tr style=\"text-align: right;\">\n",
       "      <th></th>\n",
       "      <th>client_id</th>\n",
       "      <th>client_tenure_year</th>\n",
       "      <th>client_tenure_month</th>\n",
       "      <th>client_age</th>\n",
       "      <th>gender</th>\n",
       "      <th>number_of_accounts</th>\n",
       "      <th>balance</th>\n",
       "      <th>calls_last_6_months</th>\n",
       "      <th>logins_last_6_months</th>\n",
       "    </tr>\n",
       "  </thead>\n",
       "  <tbody>\n",
       "    <tr>\n",
       "      <th>4164</th>\n",
       "      <td>7402828</td>\n",
       "      <td>NaN</td>\n",
       "      <td>NaN</td>\n",
       "      <td>NaN</td>\n",
       "      <td>NaN</td>\n",
       "      <td>NaN</td>\n",
       "      <td>NaN</td>\n",
       "      <td>NaN</td>\n",
       "      <td>NaN</td>\n",
       "    </tr>\n",
       "    <tr>\n",
       "      <th>8316</th>\n",
       "      <td>355337</td>\n",
       "      <td>NaN</td>\n",
       "      <td>NaN</td>\n",
       "      <td>NaN</td>\n",
       "      <td>NaN</td>\n",
       "      <td>NaN</td>\n",
       "      <td>NaN</td>\n",
       "      <td>NaN</td>\n",
       "      <td>NaN</td>\n",
       "    </tr>\n",
       "    <tr>\n",
       "      <th>8677</th>\n",
       "      <td>8412164</td>\n",
       "      <td>NaN</td>\n",
       "      <td>NaN</td>\n",
       "      <td>NaN</td>\n",
       "      <td>NaN</td>\n",
       "      <td>NaN</td>\n",
       "      <td>NaN</td>\n",
       "      <td>NaN</td>\n",
       "      <td>NaN</td>\n",
       "    </tr>\n",
       "    <tr>\n",
       "      <th>13444</th>\n",
       "      <td>2222915</td>\n",
       "      <td>NaN</td>\n",
       "      <td>NaN</td>\n",
       "      <td>NaN</td>\n",
       "      <td>NaN</td>\n",
       "      <td>NaN</td>\n",
       "      <td>NaN</td>\n",
       "      <td>NaN</td>\n",
       "      <td>NaN</td>\n",
       "    </tr>\n",
       "    <tr>\n",
       "      <th>18066</th>\n",
       "      <td>4876926</td>\n",
       "      <td>NaN</td>\n",
       "      <td>NaN</td>\n",
       "      <td>NaN</td>\n",
       "      <td>NaN</td>\n",
       "      <td>NaN</td>\n",
       "      <td>NaN</td>\n",
       "      <td>NaN</td>\n",
       "      <td>NaN</td>\n",
       "    </tr>\n",
       "    <tr>\n",
       "      <th>25961</th>\n",
       "      <td>5277910</td>\n",
       "      <td>NaN</td>\n",
       "      <td>NaN</td>\n",
       "      <td>NaN</td>\n",
       "      <td>NaN</td>\n",
       "      <td>NaN</td>\n",
       "      <td>NaN</td>\n",
       "      <td>NaN</td>\n",
       "      <td>NaN</td>\n",
       "    </tr>\n",
       "    <tr>\n",
       "      <th>28432</th>\n",
       "      <td>7616759</td>\n",
       "      <td>NaN</td>\n",
       "      <td>NaN</td>\n",
       "      <td>NaN</td>\n",
       "      <td>NaN</td>\n",
       "      <td>NaN</td>\n",
       "      <td>NaN</td>\n",
       "      <td>NaN</td>\n",
       "      <td>NaN</td>\n",
       "    </tr>\n",
       "    <tr>\n",
       "      <th>35323</th>\n",
       "      <td>8191345</td>\n",
       "      <td>NaN</td>\n",
       "      <td>NaN</td>\n",
       "      <td>NaN</td>\n",
       "      <td>NaN</td>\n",
       "      <td>NaN</td>\n",
       "      <td>NaN</td>\n",
       "      <td>NaN</td>\n",
       "      <td>NaN</td>\n",
       "    </tr>\n",
       "    <tr>\n",
       "      <th>43518</th>\n",
       "      <td>1227228</td>\n",
       "      <td>NaN</td>\n",
       "      <td>NaN</td>\n",
       "      <td>NaN</td>\n",
       "      <td>NaN</td>\n",
       "      <td>NaN</td>\n",
       "      <td>NaN</td>\n",
       "      <td>NaN</td>\n",
       "      <td>NaN</td>\n",
       "    </tr>\n",
       "    <tr>\n",
       "      <th>46076</th>\n",
       "      <td>8611797</td>\n",
       "      <td>NaN</td>\n",
       "      <td>NaN</td>\n",
       "      <td>NaN</td>\n",
       "      <td>NaN</td>\n",
       "      <td>NaN</td>\n",
       "      <td>NaN</td>\n",
       "      <td>NaN</td>\n",
       "      <td>NaN</td>\n",
       "    </tr>\n",
       "    <tr>\n",
       "      <th>47189</th>\n",
       "      <td>5144725</td>\n",
       "      <td>NaN</td>\n",
       "      <td>NaN</td>\n",
       "      <td>NaN</td>\n",
       "      <td>NaN</td>\n",
       "      <td>NaN</td>\n",
       "      <td>NaN</td>\n",
       "      <td>NaN</td>\n",
       "      <td>NaN</td>\n",
       "    </tr>\n",
       "    <tr>\n",
       "      <th>49846</th>\n",
       "      <td>1037867</td>\n",
       "      <td>NaN</td>\n",
       "      <td>NaN</td>\n",
       "      <td>NaN</td>\n",
       "      <td>NaN</td>\n",
       "      <td>NaN</td>\n",
       "      <td>NaN</td>\n",
       "      <td>NaN</td>\n",
       "      <td>NaN</td>\n",
       "    </tr>\n",
       "    <tr>\n",
       "      <th>63701</th>\n",
       "      <td>1618749</td>\n",
       "      <td>NaN</td>\n",
       "      <td>NaN</td>\n",
       "      <td>NaN</td>\n",
       "      <td>NaN</td>\n",
       "      <td>NaN</td>\n",
       "      <td>NaN</td>\n",
       "      <td>NaN</td>\n",
       "      <td>NaN</td>\n",
       "    </tr>\n",
       "    <tr>\n",
       "      <th>66219</th>\n",
       "      <td>6021001</td>\n",
       "      <td>NaN</td>\n",
       "      <td>NaN</td>\n",
       "      <td>NaN</td>\n",
       "      <td>NaN</td>\n",
       "      <td>NaN</td>\n",
       "      <td>NaN</td>\n",
       "      <td>NaN</td>\n",
       "      <td>NaN</td>\n",
       "    </tr>\n",
       "  </tbody>\n",
       "</table>\n",
       "</div>"
      ],
      "text/plain": [
       "       client_id  client_tenure_year  client_tenure_month  client_age gender  \\\n",
       "4164     7402828                 NaN                  NaN         NaN    NaN   \n",
       "8316      355337                 NaN                  NaN         NaN    NaN   \n",
       "8677     8412164                 NaN                  NaN         NaN    NaN   \n",
       "13444    2222915                 NaN                  NaN         NaN    NaN   \n",
       "18066    4876926                 NaN                  NaN         NaN    NaN   \n",
       "25961    5277910                 NaN                  NaN         NaN    NaN   \n",
       "28432    7616759                 NaN                  NaN         NaN    NaN   \n",
       "35323    8191345                 NaN                  NaN         NaN    NaN   \n",
       "43518    1227228                 NaN                  NaN         NaN    NaN   \n",
       "46076    8611797                 NaN                  NaN         NaN    NaN   \n",
       "47189    5144725                 NaN                  NaN         NaN    NaN   \n",
       "49846    1037867                 NaN                  NaN         NaN    NaN   \n",
       "63701    1618749                 NaN                  NaN         NaN    NaN   \n",
       "66219    6021001                 NaN                  NaN         NaN    NaN   \n",
       "\n",
       "       number_of_accounts  balance  calls_last_6_months  logins_last_6_months  \n",
       "4164                  NaN      NaN                  NaN                   NaN  \n",
       "8316                  NaN      NaN                  NaN                   NaN  \n",
       "8677                  NaN      NaN                  NaN                   NaN  \n",
       "13444                 NaN      NaN                  NaN                   NaN  \n",
       "18066                 NaN      NaN                  NaN                   NaN  \n",
       "25961                 NaN      NaN                  NaN                   NaN  \n",
       "28432                 NaN      NaN                  NaN                   NaN  \n",
       "35323                 NaN      NaN                  NaN                   NaN  \n",
       "43518                 NaN      NaN                  NaN                   NaN  \n",
       "46076                 NaN      NaN                  NaN                   NaN  \n",
       "47189                 NaN      NaN                  NaN                   NaN  \n",
       "49846                 NaN      NaN                  NaN                   NaN  \n",
       "63701                 NaN      NaN                  NaN                   NaN  \n",
       "66219                 NaN      NaN                  NaN                   NaN  "
      ]
     },
<<<<<<< HEAD
     "execution_count": 250,
=======
     "execution_count": 16,
>>>>>>> b477f8597a6ea78a957d0fe22574cca83223552c
     "metadata": {},
     "output_type": "execute_result"
    }
   ],
   "source": [
    "df[df['client_tenure_year'].isna()]"
   ]
  },
  {
   "cell_type": "code",
<<<<<<< HEAD
   "execution_count": 251,
=======
   "execution_count": 17,
>>>>>>> b477f8597a6ea78a957d0fe22574cca83223552c
   "id": "cd505a28",
   "metadata": {},
   "outputs": [],
   "source": [
    "df_droped = df.dropna(subset='client_tenure_year')"
   ]
  },
  {
   "cell_type": "code",
<<<<<<< HEAD
   "execution_count": 252,
=======
   "execution_count": 18,
>>>>>>> b477f8597a6ea78a957d0fe22574cca83223552c
   "id": "865006ae",
   "metadata": {},
   "outputs": [
    {
     "data": {
      "text/html": [
       "<div>\n",
       "<style scoped>\n",
       "    .dataframe tbody tr th:only-of-type {\n",
       "        vertical-align: middle;\n",
       "    }\n",
       "\n",
       "    .dataframe tbody tr th {\n",
       "        vertical-align: top;\n",
       "    }\n",
       "\n",
       "    .dataframe thead th {\n",
       "        text-align: right;\n",
       "    }\n",
       "</style>\n",
       "<table border=\"1\" class=\"dataframe\">\n",
       "  <thead>\n",
       "    <tr style=\"text-align: right;\">\n",
       "      <th></th>\n",
       "      <th>client_id</th>\n",
       "      <th>client_tenure_year</th>\n",
       "      <th>client_tenure_month</th>\n",
       "      <th>client_age</th>\n",
       "      <th>gender</th>\n",
       "      <th>number_of_accounts</th>\n",
       "      <th>balance</th>\n",
       "      <th>calls_last_6_months</th>\n",
       "      <th>logins_last_6_months</th>\n",
       "    </tr>\n",
       "  </thead>\n",
       "  <tbody>\n",
       "    <tr>\n",
       "      <th>0</th>\n",
       "      <td>836976</td>\n",
       "      <td>6.0</td>\n",
       "      <td>73.0</td>\n",
       "      <td>60.5</td>\n",
       "      <td>U</td>\n",
       "      <td>2.0</td>\n",
       "      <td>45105.30</td>\n",
       "      <td>6.0</td>\n",
       "      <td>9.0</td>\n",
       "    </tr>\n",
       "    <tr>\n",
       "      <th>1</th>\n",
       "      <td>2304905</td>\n",
       "      <td>7.0</td>\n",
       "      <td>94.0</td>\n",
       "      <td>58.0</td>\n",
       "      <td>U</td>\n",
       "      <td>2.0</td>\n",
       "      <td>110860.30</td>\n",
       "      <td>6.0</td>\n",
       "      <td>9.0</td>\n",
       "    </tr>\n",
       "    <tr>\n",
       "      <th>2</th>\n",
       "      <td>1439522</td>\n",
       "      <td>5.0</td>\n",
       "      <td>64.0</td>\n",
       "      <td>32.0</td>\n",
       "      <td>U</td>\n",
       "      <td>2.0</td>\n",
       "      <td>52467.79</td>\n",
       "      <td>6.0</td>\n",
       "      <td>9.0</td>\n",
       "    </tr>\n",
       "    <tr>\n",
       "      <th>3</th>\n",
       "      <td>1562045</td>\n",
       "      <td>16.0</td>\n",
       "      <td>198.0</td>\n",
       "      <td>49.0</td>\n",
       "      <td>M</td>\n",
       "      <td>2.0</td>\n",
       "      <td>67454.65</td>\n",
       "      <td>3.0</td>\n",
       "      <td>6.0</td>\n",
       "    </tr>\n",
       "    <tr>\n",
       "      <th>4</th>\n",
       "      <td>5126305</td>\n",
       "      <td>12.0</td>\n",
       "      <td>145.0</td>\n",
       "      <td>33.0</td>\n",
       "      <td>F</td>\n",
       "      <td>2.0</td>\n",
       "      <td>103671.75</td>\n",
       "      <td>0.0</td>\n",
       "      <td>3.0</td>\n",
       "    </tr>\n",
       "    <tr>\n",
       "      <th>...</th>\n",
       "      <td>...</td>\n",
       "      <td>...</td>\n",
       "      <td>...</td>\n",
       "      <td>...</td>\n",
       "      <td>...</td>\n",
       "      <td>...</td>\n",
       "      <td>...</td>\n",
       "      <td>...</td>\n",
       "      <td>...</td>\n",
       "    </tr>\n",
       "    <tr>\n",
       "      <th>70604</th>\n",
       "      <td>7993686</td>\n",
       "      <td>4.0</td>\n",
       "      <td>56.0</td>\n",
       "      <td>38.5</td>\n",
       "      <td>U</td>\n",
       "      <td>3.0</td>\n",
       "      <td>1411062.68</td>\n",
       "      <td>5.0</td>\n",
       "      <td>5.0</td>\n",
       "    </tr>\n",
       "    <tr>\n",
       "      <th>70605</th>\n",
       "      <td>8981690</td>\n",
       "      <td>12.0</td>\n",
       "      <td>148.0</td>\n",
       "      <td>31.0</td>\n",
       "      <td>M</td>\n",
       "      <td>2.0</td>\n",
       "      <td>101867.07</td>\n",
       "      <td>6.0</td>\n",
       "      <td>6.0</td>\n",
       "    </tr>\n",
       "    <tr>\n",
       "      <th>70606</th>\n",
       "      <td>333913</td>\n",
       "      <td>16.0</td>\n",
       "      <td>198.0</td>\n",
       "      <td>61.5</td>\n",
       "      <td>F</td>\n",
       "      <td>2.0</td>\n",
       "      <td>40745.00</td>\n",
       "      <td>3.0</td>\n",
       "      <td>3.0</td>\n",
       "    </tr>\n",
       "    <tr>\n",
       "      <th>70607</th>\n",
       "      <td>1573142</td>\n",
       "      <td>21.0</td>\n",
       "      <td>255.0</td>\n",
       "      <td>68.0</td>\n",
       "      <td>M</td>\n",
       "      <td>3.0</td>\n",
       "      <td>475114.69</td>\n",
       "      <td>4.0</td>\n",
       "      <td>4.0</td>\n",
       "    </tr>\n",
       "    <tr>\n",
       "      <th>70608</th>\n",
       "      <td>5602139</td>\n",
       "      <td>21.0</td>\n",
       "      <td>254.0</td>\n",
       "      <td>59.5</td>\n",
       "      <td>F</td>\n",
       "      <td>3.0</td>\n",
       "      <td>157498.73</td>\n",
       "      <td>7.0</td>\n",
       "      <td>7.0</td>\n",
       "    </tr>\n",
       "  </tbody>\n",
       "</table>\n",
       "<p>70595 rows × 9 columns</p>\n",
       "</div>"
      ],
      "text/plain": [
       "       client_id  client_tenure_year  client_tenure_month  client_age gender  \\\n",
       "0         836976                 6.0                 73.0        60.5      U   \n",
       "1        2304905                 7.0                 94.0        58.0      U   \n",
       "2        1439522                 5.0                 64.0        32.0      U   \n",
       "3        1562045                16.0                198.0        49.0      M   \n",
       "4        5126305                12.0                145.0        33.0      F   \n",
       "...          ...                 ...                  ...         ...    ...   \n",
       "70604    7993686                 4.0                 56.0        38.5      U   \n",
       "70605    8981690                12.0                148.0        31.0      M   \n",
       "70606     333913                16.0                198.0        61.5      F   \n",
       "70607    1573142                21.0                255.0        68.0      M   \n",
       "70608    5602139                21.0                254.0        59.5      F   \n",
       "\n",
       "       number_of_accounts     balance  calls_last_6_months  \\\n",
       "0                     2.0    45105.30                  6.0   \n",
       "1                     2.0   110860.30                  6.0   \n",
       "2                     2.0    52467.79                  6.0   \n",
       "3                     2.0    67454.65                  3.0   \n",
       "4                     2.0   103671.75                  0.0   \n",
       "...                   ...         ...                  ...   \n",
       "70604                 3.0  1411062.68                  5.0   \n",
       "70605                 2.0   101867.07                  6.0   \n",
       "70606                 2.0    40745.00                  3.0   \n",
       "70607                 3.0   475114.69                  4.0   \n",
       "70608                 3.0   157498.73                  7.0   \n",
       "\n",
       "       logins_last_6_months  \n",
       "0                       9.0  \n",
       "1                       9.0  \n",
       "2                       9.0  \n",
       "3                       6.0  \n",
       "4                       3.0  \n",
       "...                     ...  \n",
       "70604                   5.0  \n",
       "70605                   6.0  \n",
       "70606                   3.0  \n",
       "70607                   4.0  \n",
       "70608                   7.0  \n",
       "\n",
       "[70595 rows x 9 columns]"
      ]
     },
<<<<<<< HEAD
     "execution_count": 252,
=======
     "execution_count": 18,
>>>>>>> b477f8597a6ea78a957d0fe22574cca83223552c
     "metadata": {},
     "output_type": "execute_result"
    }
   ],
   "source": [
    "df_droped"
   ]
  },
  {
   "cell_type": "code",
<<<<<<< HEAD
   "execution_count": 253,
=======
   "execution_count": 19,
>>>>>>> b477f8597a6ea78a957d0fe22574cca83223552c
   "id": "068ea05c",
   "metadata": {},
   "outputs": [
    {
     "data": {
      "text/html": [
       "<div>\n",
       "<style scoped>\n",
       "    .dataframe tbody tr th:only-of-type {\n",
       "        vertical-align: middle;\n",
       "    }\n",
       "\n",
       "    .dataframe tbody tr th {\n",
       "        vertical-align: top;\n",
       "    }\n",
       "\n",
       "    .dataframe thead th {\n",
       "        text-align: right;\n",
       "    }\n",
       "</style>\n",
       "<table border=\"1\" class=\"dataframe\">\n",
       "  <thead>\n",
       "    <tr style=\"text-align: right;\">\n",
       "      <th></th>\n",
       "      <th>client_id</th>\n",
       "      <th>client_tenure_year</th>\n",
       "      <th>client_tenure_month</th>\n",
       "      <th>client_age</th>\n",
       "      <th>gender</th>\n",
       "      <th>number_of_accounts</th>\n",
       "      <th>balance</th>\n",
       "      <th>calls_last_6_months</th>\n",
       "      <th>logins_last_6_months</th>\n",
       "    </tr>\n",
       "  </thead>\n",
       "  <tbody>\n",
       "    <tr>\n",
       "      <th>9583</th>\n",
       "      <td>4666211</td>\n",
       "      <td>8.0</td>\n",
       "      <td>106.0</td>\n",
       "      <td>NaN</td>\n",
       "      <td>F</td>\n",
       "      <td>2.0</td>\n",
       "      <td>42550.55</td>\n",
       "      <td>4.0</td>\n",
       "      <td>7.0</td>\n",
       "    </tr>\n",
       "  </tbody>\n",
       "</table>\n",
       "</div>"
      ],
      "text/plain": [
       "      client_id  client_tenure_year  client_tenure_month  client_age gender  \\\n",
       "9583    4666211                 8.0                106.0         NaN      F   \n",
       "\n",
       "      number_of_accounts   balance  calls_last_6_months  logins_last_6_months  \n",
       "9583                 2.0  42550.55                  4.0                   7.0  "
      ]
     },
<<<<<<< HEAD
     "execution_count": 253,
=======
     "execution_count": 19,
>>>>>>> b477f8597a6ea78a957d0fe22574cca83223552c
     "metadata": {},
     "output_type": "execute_result"
    }
   ],
   "source": [
    "df_droped[df_droped['client_age'].isna()]"
   ]
  },
  {
   "cell_type": "code",
<<<<<<< HEAD
   "execution_count": 254,
=======
   "execution_count": 20,
>>>>>>> b477f8597a6ea78a957d0fe22574cca83223552c
   "id": "d8919e05",
   "metadata": {},
   "outputs": [
    {
     "name": "stdout",
     "output_type": "stream",
     "text": [
      "client_id                 int64\n",
      "client_tenure_year      float64\n",
      "client_tenure_month     float64\n",
      "client_age              float64\n",
      "gender                   object\n",
      "number_of_accounts      float64\n",
      "balance                 float64\n",
      "calls_last_6_months     float64\n",
      "logins_last_6_months    float64\n",
      "dtype: object\n"
     ]
    }
   ],
   "source": [
    "print(df_droped.dtypes)"
   ]
  },
  {
   "cell_type": "code",
<<<<<<< HEAD
   "execution_count": 255,
=======
   "execution_count": 21,
>>>>>>> b477f8597a6ea78a957d0fe22574cca83223552c
   "id": "33f0aecb",
   "metadata": {},
   "outputs": [],
   "source": [
    "df_droped = df.dropna(subset='client_age')"
   ]
  },
  {
   "cell_type": "markdown",
   "id": "8da0ef89",
   "metadata": {},
   "source": [
    "CHECKING FOR THE DUPLICATES"
   ]
  },
  {
   "cell_type": "code",
<<<<<<< HEAD
   "execution_count": 256,
=======
   "execution_count": 22,
>>>>>>> b477f8597a6ea78a957d0fe22574cca83223552c
   "id": "f45d7a6b",
   "metadata": {},
   "outputs": [
    {
     "name": "stdout",
     "output_type": "stream",
     "text": [
      "Empty DataFrame\n",
      "Columns: [client_id, client_tenure_year, client_tenure_month, client_age, gender, number_of_accounts, balance, calls_last_6_months, logins_last_6_months]\n",
      "Index: []\n"
     ]
    }
   ],
   "source": [
    "duplicate_rows = df_droped[df_droped.duplicated()]\n",
    "print(duplicate_rows)"
   ]
  },
  {
   "cell_type": "code",
<<<<<<< HEAD
   "execution_count": 257,
=======
   "execution_count": 23,
>>>>>>> b477f8597a6ea78a957d0fe22574cca83223552c
   "id": "5fb4eb91",
   "metadata": {},
   "outputs": [
    {
     "data": {
      "text/plain": [
       "array(['U', 'M', 'F', 'X'], dtype=object)"
      ]
     },
<<<<<<< HEAD
     "execution_count": 257,
=======
     "execution_count": 23,
>>>>>>> b477f8597a6ea78a957d0fe22574cca83223552c
     "metadata": {},
     "output_type": "execute_result"
    }
   ],
   "source": [
    "df_droped['gender'].unique()"
   ]
  },
  {
   "cell_type": "code",
<<<<<<< HEAD
   "execution_count": 258,
=======
   "execution_count": 24,
>>>>>>> b477f8597a6ea78a957d0fe22574cca83223552c
   "id": "69b7a8db",
   "metadata": {},
   "outputs": [
    {
     "data": {
      "text/plain": [
       "gender\n",
       "F    22745\n",
       "M    23724\n",
       "U    24122\n",
       "X        3\n",
       "dtype: int64"
      ]
     },
<<<<<<< HEAD
     "execution_count": 258,
=======
     "execution_count": 24,
>>>>>>> b477f8597a6ea78a957d0fe22574cca83223552c
     "metadata": {},
     "output_type": "execute_result"
    }
   ],
   "source": [
    "df_droped.groupby('gender').size()"
   ]
  },
  {
   "cell_type": "code",
<<<<<<< HEAD
   "execution_count": 259,
=======
   "execution_count": 25,
>>>>>>> b477f8597a6ea78a957d0fe22574cca83223552c
   "id": "24680292",
   "metadata": {},
   "outputs": [],
   "source": [
    "df_droped = df_droped[df_droped['gender']!= 'X']"
   ]
  },
  {
   "cell_type": "code",
<<<<<<< HEAD
   "execution_count": 260,
=======
   "execution_count": 26,
>>>>>>> b477f8597a6ea78a957d0fe22574cca83223552c
   "id": "b475d954",
   "metadata": {},
   "outputs": [
    {
     "data": {
      "text/plain": [
       "array(['U', 'M', 'F'], dtype=object)"
      ]
     },
<<<<<<< HEAD
     "execution_count": 260,
=======
     "execution_count": 26,
>>>>>>> b477f8597a6ea78a957d0fe22574cca83223552c
     "metadata": {},
     "output_type": "execute_result"
    }
   ],
   "source": [
    "df_droped['gender'].unique()"
   ]
  },
  {
   "cell_type": "code",
<<<<<<< HEAD
   "execution_count": 261,
=======
   "execution_count": 27,
>>>>>>> b477f8597a6ea78a957d0fe22574cca83223552c
   "id": "d9589841",
   "metadata": {},
   "outputs": [],
   "source": [
    "\n",
    "df_droped['gender'] = df_droped['gender'].replace({\n",
    "    'M':'Male',\n",
    "    'F':'Female',\n",
    "    'U' :'Unknown'\n",
    "   })"
   ]
  },
  {
   "cell_type": "markdown",
   "id": "899d44ba",
   "metadata": {},
   "source": [
    "CHANGING THE TYPES TO BE CLEAN"
   ]
  },
  {
   "cell_type": "code",
<<<<<<< HEAD
   "execution_count": 262,
=======
   "execution_count": 28,
>>>>>>> b477f8597a6ea78a957d0fe22574cca83223552c
   "id": "21990c90",
   "metadata": {},
   "outputs": [],
   "source": [
    "df_droped['client_tenure_year'] = df_droped['client_tenure_year'].astype(int)"
   ]
  },
  {
   "cell_type": "code",
<<<<<<< HEAD
   "execution_count": 263,
=======
   "execution_count": 29,
>>>>>>> b477f8597a6ea78a957d0fe22574cca83223552c
   "id": "c6cb9dfe",
   "metadata": {},
   "outputs": [],
   "source": [
    "df_droped['client_tenure_month'] = df_droped['client_tenure_month'].astype(int)"
   ]
  },
  {
   "cell_type": "code",
<<<<<<< HEAD
   "execution_count": 264,
=======
   "execution_count": 30,
>>>>>>> b477f8597a6ea78a957d0fe22574cca83223552c
   "id": "fbd29bde",
   "metadata": {},
   "outputs": [],
   "source": [
    "df_droped['number_of_accounts'] = df_droped['number_of_accounts'].astype(int)"
   ]
  },
  {
   "cell_type": "code",
<<<<<<< HEAD
   "execution_count": 265,
=======
   "execution_count": 31,
>>>>>>> b477f8597a6ea78a957d0fe22574cca83223552c
   "id": "0a550903",
   "metadata": {},
   "outputs": [],
   "source": [
    "df_droped['calls_last_6_months'] = df_droped['calls_last_6_months'].astype(int)"
   ]
  },
  {
   "cell_type": "code",
<<<<<<< HEAD
   "execution_count": 266,
=======
   "execution_count": 32,
>>>>>>> b477f8597a6ea78a957d0fe22574cca83223552c
   "id": "774840ef",
   "metadata": {},
   "outputs": [],
   "source": [
    "df_droped['logins_last_6_months'] = df_droped['logins_last_6_months'].astype(int)"
   ]
  },
  {
   "cell_type": "code",
<<<<<<< HEAD
   "execution_count": 267,
=======
   "execution_count": 33,
>>>>>>> b477f8597a6ea78a957d0fe22574cca83223552c
   "id": "f8bd6d96",
   "metadata": {},
   "outputs": [
    {
     "name": "stdout",
     "output_type": "stream",
     "text": [
      "client_id                 int64\n",
      "client_tenure_year        int64\n",
      "client_tenure_month       int64\n",
      "client_age              float64\n",
      "gender                   object\n",
      "number_of_accounts        int64\n",
      "balance                 float64\n",
      "calls_last_6_months       int64\n",
      "logins_last_6_months      int64\n",
      "dtype: object\n"
     ]
    }
   ],
   "source": [
    "print(df_droped.dtypes)"
   ]
  },
  {
   "cell_type": "markdown",
   "id": "7c2922b1",
   "metadata": {},
   "source": [
    "CHECKING SECOUND FILE"
   ]
  },
  {
   "cell_type": "code",
<<<<<<< HEAD
   "execution_count": 268,
=======
   "execution_count": 34,
>>>>>>> b477f8597a6ea78a957d0fe22574cca83223552c
   "id": "42ebb233",
   "metadata": {},
   "outputs": [
    {
     "data": {
      "text/html": [
       "<div>\n",
       "<style scoped>\n",
       "    .dataframe tbody tr th:only-of-type {\n",
       "        vertical-align: middle;\n",
       "    }\n",
       "\n",
       "    .dataframe tbody tr th {\n",
       "        vertical-align: top;\n",
       "    }\n",
       "\n",
       "    .dataframe thead th {\n",
       "        text-align: right;\n",
       "    }\n",
       "</style>\n",
       "<table border=\"1\" class=\"dataframe\">\n",
       "  <thead>\n",
       "    <tr style=\"text-align: right;\">\n",
       "      <th></th>\n",
       "      <th>client_id</th>\n",
       "      <th>visitor_id</th>\n",
       "      <th>visit_id</th>\n",
       "      <th>process_step</th>\n",
       "      <th>date_time</th>\n",
       "    </tr>\n",
       "  </thead>\n",
       "  <tbody>\n",
       "    <tr>\n",
       "      <th>0</th>\n",
       "      <td>9988021</td>\n",
       "      <td>580560515_7732621733</td>\n",
       "      <td>781255054_21935453173_531117</td>\n",
       "      <td>step_3</td>\n",
       "      <td>2017-04-17 15:27:07</td>\n",
       "    </tr>\n",
       "    <tr>\n",
       "      <th>1</th>\n",
       "      <td>9988021</td>\n",
       "      <td>580560515_7732621733</td>\n",
       "      <td>781255054_21935453173_531117</td>\n",
       "      <td>step_2</td>\n",
       "      <td>2017-04-17 15:26:51</td>\n",
       "    </tr>\n",
       "    <tr>\n",
       "      <th>2</th>\n",
       "      <td>9988021</td>\n",
       "      <td>580560515_7732621733</td>\n",
       "      <td>781255054_21935453173_531117</td>\n",
       "      <td>step_3</td>\n",
       "      <td>2017-04-17 15:19:22</td>\n",
       "    </tr>\n",
       "    <tr>\n",
       "      <th>3</th>\n",
       "      <td>9988021</td>\n",
       "      <td>580560515_7732621733</td>\n",
       "      <td>781255054_21935453173_531117</td>\n",
       "      <td>step_2</td>\n",
       "      <td>2017-04-17 15:19:13</td>\n",
       "    </tr>\n",
       "    <tr>\n",
       "      <th>4</th>\n",
       "      <td>9988021</td>\n",
       "      <td>580560515_7732621733</td>\n",
       "      <td>781255054_21935453173_531117</td>\n",
       "      <td>step_3</td>\n",
       "      <td>2017-04-17 15:18:04</td>\n",
       "    </tr>\n",
       "    <tr>\n",
       "      <th>...</th>\n",
       "      <td>...</td>\n",
       "      <td>...</td>\n",
       "      <td>...</td>\n",
       "      <td>...</td>\n",
       "      <td>...</td>\n",
       "    </tr>\n",
       "    <tr>\n",
       "      <th>343136</th>\n",
       "      <td>2443347</td>\n",
       "      <td>465784886_73090545671</td>\n",
       "      <td>136329900_10529659391_316129</td>\n",
       "      <td>confirm</td>\n",
       "      <td>2017-03-31 15:15:46</td>\n",
       "    </tr>\n",
       "    <tr>\n",
       "      <th>343137</th>\n",
       "      <td>2443347</td>\n",
       "      <td>465784886_73090545671</td>\n",
       "      <td>136329900_10529659391_316129</td>\n",
       "      <td>step_3</td>\n",
       "      <td>2017-03-31 15:14:53</td>\n",
       "    </tr>\n",
       "    <tr>\n",
       "      <th>343138</th>\n",
       "      <td>2443347</td>\n",
       "      <td>465784886_73090545671</td>\n",
       "      <td>136329900_10529659391_316129</td>\n",
       "      <td>step_2</td>\n",
       "      <td>2017-03-31 15:12:08</td>\n",
       "    </tr>\n",
       "    <tr>\n",
       "      <th>343139</th>\n",
       "      <td>2443347</td>\n",
       "      <td>465784886_73090545671</td>\n",
       "      <td>136329900_10529659391_316129</td>\n",
       "      <td>step_1</td>\n",
       "      <td>2017-03-31 15:11:37</td>\n",
       "    </tr>\n",
       "    <tr>\n",
       "      <th>343140</th>\n",
       "      <td>2443347</td>\n",
       "      <td>465784886_73090545671</td>\n",
       "      <td>136329900_10529659391_316129</td>\n",
       "      <td>start</td>\n",
       "      <td>2017-03-31 15:10:47</td>\n",
       "    </tr>\n",
       "  </tbody>\n",
       "</table>\n",
       "<p>343141 rows × 5 columns</p>\n",
       "</div>"
      ],
      "text/plain": [
       "        client_id             visitor_id                      visit_id  \\\n",
       "0         9988021   580560515_7732621733  781255054_21935453173_531117   \n",
       "1         9988021   580560515_7732621733  781255054_21935453173_531117   \n",
       "2         9988021   580560515_7732621733  781255054_21935453173_531117   \n",
       "3         9988021   580560515_7732621733  781255054_21935453173_531117   \n",
       "4         9988021   580560515_7732621733  781255054_21935453173_531117   \n",
       "...           ...                    ...                           ...   \n",
       "343136    2443347  465784886_73090545671  136329900_10529659391_316129   \n",
       "343137    2443347  465784886_73090545671  136329900_10529659391_316129   \n",
       "343138    2443347  465784886_73090545671  136329900_10529659391_316129   \n",
       "343139    2443347  465784886_73090545671  136329900_10529659391_316129   \n",
       "343140    2443347  465784886_73090545671  136329900_10529659391_316129   \n",
       "\n",
       "       process_step            date_time  \n",
       "0            step_3  2017-04-17 15:27:07  \n",
       "1            step_2  2017-04-17 15:26:51  \n",
       "2            step_3  2017-04-17 15:19:22  \n",
       "3            step_2  2017-04-17 15:19:13  \n",
       "4            step_3  2017-04-17 15:18:04  \n",
       "...             ...                  ...  \n",
       "343136      confirm  2017-03-31 15:15:46  \n",
       "343137       step_3  2017-03-31 15:14:53  \n",
       "343138       step_2  2017-03-31 15:12:08  \n",
       "343139       step_1  2017-03-31 15:11:37  \n",
       "343140        start  2017-03-31 15:10:47  \n",
       "\n",
       "[343141 rows x 5 columns]"
      ]
     },
<<<<<<< HEAD
     "execution_count": 268,
=======
     "execution_count": 34,
>>>>>>> b477f8597a6ea78a957d0fe22574cca83223552c
     "metadata": {},
     "output_type": "execute_result"
    }
   ],
   "source": [
    "df_1"
   ]
  },
  {
   "cell_type": "code",
<<<<<<< HEAD
   "execution_count": 269,
=======
   "execution_count": 35,
>>>>>>> b477f8597a6ea78a957d0fe22574cca83223552c
   "id": "31a6118d",
   "metadata": {},
   "outputs": [
    {
     "data": {
      "text/plain": [
       "client_id       0\n",
       "visitor_id      0\n",
       "visit_id        0\n",
       "process_step    0\n",
       "date_time       0\n",
       "dtype: int64"
      ]
     },
<<<<<<< HEAD
     "execution_count": 269,
=======
     "execution_count": 35,
>>>>>>> b477f8597a6ea78a957d0fe22574cca83223552c
     "metadata": {},
     "output_type": "execute_result"
    }
   ],
   "source": [
    "df_1.isna().sum()"
   ]
  },
  {
   "cell_type": "code",
<<<<<<< HEAD
   "execution_count": 270,
=======
   "execution_count": 36,
>>>>>>> b477f8597a6ea78a957d0fe22574cca83223552c
   "id": "d5877123",
   "metadata": {},
   "outputs": [
    {
     "name": "stdout",
     "output_type": "stream",
     "text": [
      "        client_id             visitor_id                      visit_id  \\\n",
      "365       9358626  148475529_63668223960  223297395_36250329195_832161   \n",
      "368       5376894  622509328_44408201172  688984457_43441834354_912755   \n",
      "383        438567  923318467_50708963627  330543236_29863358529_771432   \n",
      "785       1423857  716830992_81930238382   568819166_80596727019_75889   \n",
      "1816       372523  730241475_25771921122   25331354_74479847014_854987   \n",
      "...           ...                    ...                           ...   \n",
      "342621    1853345  831456815_77348510380  596026060_87178689141_910423   \n",
      "342677    1251269  791822615_78146852845   763845944_55757914723_70888   \n",
      "342679    1251269  791822615_78146852845   763845944_55757914723_70888   \n",
      "342685    8350388  304440669_31040182888  143359398_96671536668_299057   \n",
      "342945    4553664  795008403_33653570753  439592710_65772985411_546352   \n",
      "\n",
      "       process_step            date_time  \n",
      "365           start  2017-04-28 12:27:28  \n",
      "368           start  2017-04-28 14:20:01  \n",
      "383           start  2017-04-28 02:52:29  \n",
      "785         confirm  2017-04-10 22:44:58  \n",
      "1816          start  2017-04-27 10:51:26  \n",
      "...             ...                  ...  \n",
      "342621       step_3  2017-04-13 19:39:24  \n",
      "342677        start  2017-04-28 10:20:33  \n",
      "342679        start  2017-04-28 10:18:20  \n",
      "342685        start  2017-04-28 12:44:21  \n",
      "342945        start  2017-04-28 07:07:17  \n",
      "\n",
      "[2095 rows x 5 columns]\n"
     ]
    }
   ],
   "source": [
    "duplicate_rows = df_1[df_1.duplicated()]\n",
    "print(duplicate_rows)"
   ]
  },
  {
   "cell_type": "code",
<<<<<<< HEAD
   "execution_count": 271,
=======
   "execution_count": 37,
>>>>>>> b477f8597a6ea78a957d0fe22574cca83223552c
   "id": "48175dff",
   "metadata": {},
   "outputs": [
    {
     "name": "stdout",
     "output_type": "stream",
     "text": [
      "Original + duplicated rows:\n",
      "        client_id             visitor_id                      visit_id  \\\n",
      "364       9358626  148475529_63668223960  223297395_36250329195_832161   \n",
      "365       9358626  148475529_63668223960  223297395_36250329195_832161   \n",
      "367       5376894  622509328_44408201172  688984457_43441834354_912755   \n",
      "368       5376894  622509328_44408201172  688984457_43441834354_912755   \n",
      "382        438567  923318467_50708963627  330543236_29863358529_771432   \n",
      "...           ...                    ...                           ...   \n",
      "342679    1251269  791822615_78146852845   763845944_55757914723_70888   \n",
      "342684    8350388  304440669_31040182888  143359398_96671536668_299057   \n",
      "342685    8350388  304440669_31040182888  143359398_96671536668_299057   \n",
      "342944    4553664  795008403_33653570753  439592710_65772985411_546352   \n",
      "342945    4553664  795008403_33653570753  439592710_65772985411_546352   \n",
      "\n",
      "       process_step            date_time  \n",
      "364           start  2017-04-28 12:27:28  \n",
      "365           start  2017-04-28 12:27:28  \n",
      "367           start  2017-04-28 14:20:01  \n",
      "368           start  2017-04-28 14:20:01  \n",
      "382           start  2017-04-28 02:52:29  \n",
      "...             ...                  ...  \n",
      "342679        start  2017-04-28 10:18:20  \n",
      "342684        start  2017-04-28 12:44:21  \n",
      "342685        start  2017-04-28 12:44:21  \n",
      "342944        start  2017-04-28 07:07:17  \n",
      "342945        start  2017-04-28 07:07:17  \n",
      "\n",
      "[4124 rows x 5 columns]\n"
     ]
    }
   ],
   "source": [
    "duplicates_all = df_1[df_1.duplicated(keep=False)]\n",
    "\n",
    "print(\"Original + duplicated rows:\")\n",
    "print(duplicates_all)"
   ]
  },
  {
   "cell_type": "code",
<<<<<<< HEAD
   "execution_count": 272,
=======
   "execution_count": 38,
>>>>>>> b477f8597a6ea78a957d0fe22574cca83223552c
   "id": "9bf49db5",
   "metadata": {},
   "outputs": [],
   "source": [
    "df_1.drop_duplicates(inplace=True)"
   ]
  },
  {
   "cell_type": "code",
<<<<<<< HEAD
   "execution_count": 273,
=======
   "execution_count": 39,
>>>>>>> b477f8597a6ea78a957d0fe22574cca83223552c
   "id": "43144b70",
   "metadata": {},
   "outputs": [
    {
     "data": {
      "text/plain": [
       "(341046, 5)"
      ]
     },
<<<<<<< HEAD
     "execution_count": 273,
=======
     "execution_count": 39,
>>>>>>> b477f8597a6ea78a957d0fe22574cca83223552c
     "metadata": {},
     "output_type": "execute_result"
    }
   ],
   "source": [
    "df_1.shape"
   ]
  },
  {
   "cell_type": "code",
<<<<<<< HEAD
   "execution_count": 274,
=======
   "execution_count": 40,
>>>>>>> b477f8597a6ea78a957d0fe22574cca83223552c
   "id": "27b36427",
   "metadata": {},
   "outputs": [
    {
     "name": "stdout",
     "output_type": "stream",
     "text": [
      "client_id        int64\n",
      "visitor_id      object\n",
      "visit_id        object\n",
      "process_step    object\n",
      "date_time       object\n",
      "dtype: object\n"
     ]
    }
   ],
   "source": [
    "print(df_1.dtypes)"
   ]
  },
  {
   "cell_type": "markdown",
   "id": "fa290c4e",
   "metadata": {},
   "source": [
    "CHECKING THIRD FILE"
   ]
  },
  {
   "cell_type": "code",
<<<<<<< HEAD
   "execution_count": 275,
=======
   "execution_count": 41,
>>>>>>> b477f8597a6ea78a957d0fe22574cca83223552c
   "id": "28d01836",
   "metadata": {},
   "outputs": [
    {
     "data": {
      "text/html": [
       "<div>\n",
       "<style scoped>\n",
       "    .dataframe tbody tr th:only-of-type {\n",
       "        vertical-align: middle;\n",
       "    }\n",
       "\n",
       "    .dataframe tbody tr th {\n",
       "        vertical-align: top;\n",
       "    }\n",
       "\n",
       "    .dataframe thead th {\n",
       "        text-align: right;\n",
       "    }\n",
       "</style>\n",
       "<table border=\"1\" class=\"dataframe\">\n",
       "  <thead>\n",
       "    <tr style=\"text-align: right;\">\n",
       "      <th></th>\n",
       "      <th>client_id</th>\n",
       "      <th>visitor_id</th>\n",
       "      <th>visit_id</th>\n",
       "      <th>process_step</th>\n",
       "      <th>date_time</th>\n",
       "    </tr>\n",
       "  </thead>\n",
       "  <tbody>\n",
       "    <tr>\n",
       "      <th>0</th>\n",
       "      <td>763412</td>\n",
       "      <td>601952081_10457207388</td>\n",
       "      <td>397475557_40440946728_419634</td>\n",
       "      <td>confirm</td>\n",
       "      <td>2017-06-06 08:56:00</td>\n",
       "    </tr>\n",
       "    <tr>\n",
       "      <th>1</th>\n",
       "      <td>6019349</td>\n",
       "      <td>442094451_91531546617</td>\n",
       "      <td>154620534_35331068705_522317</td>\n",
       "      <td>confirm</td>\n",
       "      <td>2017-06-01 11:59:27</td>\n",
       "    </tr>\n",
       "    <tr>\n",
       "      <th>2</th>\n",
       "      <td>6019349</td>\n",
       "      <td>442094451_91531546617</td>\n",
       "      <td>154620534_35331068705_522317</td>\n",
       "      <td>step_3</td>\n",
       "      <td>2017-06-01 11:58:48</td>\n",
       "    </tr>\n",
       "    <tr>\n",
       "      <th>3</th>\n",
       "      <td>6019349</td>\n",
       "      <td>442094451_91531546617</td>\n",
       "      <td>154620534_35331068705_522317</td>\n",
       "      <td>step_2</td>\n",
       "      <td>2017-06-01 11:58:08</td>\n",
       "    </tr>\n",
       "    <tr>\n",
       "      <th>4</th>\n",
       "      <td>6019349</td>\n",
       "      <td>442094451_91531546617</td>\n",
       "      <td>154620534_35331068705_522317</td>\n",
       "      <td>step_1</td>\n",
       "      <td>2017-06-01 11:57:58</td>\n",
       "    </tr>\n",
       "    <tr>\n",
       "      <th>...</th>\n",
       "      <td>...</td>\n",
       "      <td>...</td>\n",
       "      <td>...</td>\n",
       "      <td>...</td>\n",
       "      <td>...</td>\n",
       "    </tr>\n",
       "    <tr>\n",
       "      <th>412259</th>\n",
       "      <td>9668240</td>\n",
       "      <td>388766751_9038881013</td>\n",
       "      <td>922267647_3096648104_968866</td>\n",
       "      <td>start</td>\n",
       "      <td>2017-05-24 18:46:10</td>\n",
       "    </tr>\n",
       "    <tr>\n",
       "      <th>412260</th>\n",
       "      <td>9668240</td>\n",
       "      <td>388766751_9038881013</td>\n",
       "      <td>922267647_3096648104_968866</td>\n",
       "      <td>start</td>\n",
       "      <td>2017-05-24 18:45:29</td>\n",
       "    </tr>\n",
       "    <tr>\n",
       "      <th>412261</th>\n",
       "      <td>9668240</td>\n",
       "      <td>388766751_9038881013</td>\n",
       "      <td>922267647_3096648104_968866</td>\n",
       "      <td>step_1</td>\n",
       "      <td>2017-05-24 18:44:51</td>\n",
       "    </tr>\n",
       "    <tr>\n",
       "      <th>412262</th>\n",
       "      <td>9668240</td>\n",
       "      <td>388766751_9038881013</td>\n",
       "      <td>922267647_3096648104_968866</td>\n",
       "      <td>start</td>\n",
       "      <td>2017-05-24 18:44:34</td>\n",
       "    </tr>\n",
       "    <tr>\n",
       "      <th>412263</th>\n",
       "      <td>674799</td>\n",
       "      <td>947159805_81558194550</td>\n",
       "      <td>86152093_47511127657_716022</td>\n",
       "      <td>start</td>\n",
       "      <td>2017-06-03 12:17:09</td>\n",
       "    </tr>\n",
       "  </tbody>\n",
       "</table>\n",
       "<p>412264 rows × 5 columns</p>\n",
       "</div>"
      ],
      "text/plain": [
       "        client_id             visitor_id                      visit_id  \\\n",
       "0          763412  601952081_10457207388  397475557_40440946728_419634   \n",
       "1         6019349  442094451_91531546617  154620534_35331068705_522317   \n",
       "2         6019349  442094451_91531546617  154620534_35331068705_522317   \n",
       "3         6019349  442094451_91531546617  154620534_35331068705_522317   \n",
       "4         6019349  442094451_91531546617  154620534_35331068705_522317   \n",
       "...           ...                    ...                           ...   \n",
       "412259    9668240   388766751_9038881013   922267647_3096648104_968866   \n",
       "412260    9668240   388766751_9038881013   922267647_3096648104_968866   \n",
       "412261    9668240   388766751_9038881013   922267647_3096648104_968866   \n",
       "412262    9668240   388766751_9038881013   922267647_3096648104_968866   \n",
       "412263     674799  947159805_81558194550   86152093_47511127657_716022   \n",
       "\n",
       "       process_step            date_time  \n",
       "0           confirm  2017-06-06 08:56:00  \n",
       "1           confirm  2017-06-01 11:59:27  \n",
       "2            step_3  2017-06-01 11:58:48  \n",
       "3            step_2  2017-06-01 11:58:08  \n",
       "4            step_1  2017-06-01 11:57:58  \n",
       "...             ...                  ...  \n",
       "412259        start  2017-05-24 18:46:10  \n",
       "412260        start  2017-05-24 18:45:29  \n",
       "412261       step_1  2017-05-24 18:44:51  \n",
       "412262        start  2017-05-24 18:44:34  \n",
       "412263        start  2017-06-03 12:17:09  \n",
       "\n",
       "[412264 rows x 5 columns]"
      ]
     },
<<<<<<< HEAD
     "execution_count": 275,
=======
     "execution_count": 41,
>>>>>>> b477f8597a6ea78a957d0fe22574cca83223552c
     "metadata": {},
     "output_type": "execute_result"
    }
   ],
   "source": [
    "df_2"
   ]
  },
  {
   "cell_type": "code",
<<<<<<< HEAD
   "execution_count": 276,
=======
   "execution_count": 42,
>>>>>>> b477f8597a6ea78a957d0fe22574cca83223552c
   "id": "618b1c9d",
   "metadata": {},
   "outputs": [
    {
     "data": {
      "text/plain": [
       "client_id       0\n",
       "visitor_id      0\n",
       "visit_id        0\n",
       "process_step    0\n",
       "date_time       0\n",
       "dtype: int64"
      ]
     },
<<<<<<< HEAD
     "execution_count": 276,
=======
     "execution_count": 42,
>>>>>>> b477f8597a6ea78a957d0fe22574cca83223552c
     "metadata": {},
     "output_type": "execute_result"
    }
   ],
   "source": [
    "df_2.isna().sum()"
   ]
  },
  {
   "cell_type": "code",
<<<<<<< HEAD
   "execution_count": 277,
=======
   "execution_count": 43,
>>>>>>> b477f8597a6ea78a957d0fe22574cca83223552c
   "id": "7d271a52",
   "metadata": {},
   "outputs": [
    {
     "name": "stdout",
     "output_type": "stream",
     "text": [
      "        client_id             visitor_id                      visit_id  \\\n",
      "125       3751049  937925261_74821699083  628817270_45049432060_475841   \n",
      "143       9912156  746623513_52101087617  780044921_57678038107_984942   \n",
      "326       5786602  893139880_61416949586  747153834_69434320996_858907   \n",
      "328       5786602  893139880_61416949586  747153834_69434320996_858907   \n",
      "375       5786602  893139880_61416949586   119968876_5423296886_390511   \n",
      "...           ...                    ...                           ...   \n",
      "412120    1672289  658797407_91003097342  430110748_90347503221_597628   \n",
      "412163    4408245   14058946_73585431797  994148957_84373994761_991865   \n",
      "412165    4408245   14058946_73585431797  994148957_84373994761_991865   \n",
      "412167    4408245   14058946_73585431797  994148957_84373994761_991865   \n",
      "412217    3897324   80177429_24869309091  149796456_64325617570_112561   \n",
      "\n",
      "       process_step            date_time  \n",
      "125           start  2017-05-15 23:09:44  \n",
      "143           start  2017-05-03 14:09:52  \n",
      "326           start  2017-05-10 01:49:09  \n",
      "328           start  2017-05-10 01:48:45  \n",
      "375           start  2017-06-08 02:14:09  \n",
      "...             ...                  ...  \n",
      "412120        start  2017-05-01 19:28:53  \n",
      "412163        start  2017-06-06 09:17:23  \n",
      "412165        start  2017-06-06 09:09:44  \n",
      "412167        start  2017-06-06 08:51:16  \n",
      "412217        start  2017-05-04 08:21:30  \n",
      "\n",
      "[8669 rows x 5 columns]\n"
     ]
    }
   ],
   "source": [
    "duplicated_rows = df_2[df_2.duplicated()]\n",
    "print(duplicated_rows)"
   ]
  },
  {
   "cell_type": "code",
<<<<<<< HEAD
   "execution_count": 278,
=======
   "execution_count": 44,
>>>>>>> b477f8597a6ea78a957d0fe22574cca83223552c
   "id": "52f1acbf",
   "metadata": {},
   "outputs": [],
   "source": [
    "df_2.drop_duplicates(inplace=True)"
   ]
  },
  {
   "cell_type": "code",
<<<<<<< HEAD
   "execution_count": 279,
=======
   "execution_count": 45,
>>>>>>> b477f8597a6ea78a957d0fe22574cca83223552c
   "id": "7997cfd6",
   "metadata": {},
   "outputs": [
    {
     "data": {
      "text/plain": [
       "(403595, 5)"
      ]
     },
<<<<<<< HEAD
     "execution_count": 279,
=======
     "execution_count": 45,
>>>>>>> b477f8597a6ea78a957d0fe22574cca83223552c
     "metadata": {},
     "output_type": "execute_result"
    }
   ],
   "source": [
    "df_2.shape"
   ]
  },
  {
   "cell_type": "code",
<<<<<<< HEAD
   "execution_count": 280,
=======
   "execution_count": 46,
>>>>>>> b477f8597a6ea78a957d0fe22574cca83223552c
   "id": "b79c2557",
   "metadata": {},
   "outputs": [
    {
     "name": "stdout",
     "output_type": "stream",
     "text": [
      "client_id        int64\n",
      "visitor_id      object\n",
      "visit_id        object\n",
      "process_step    object\n",
      "date_time       object\n",
      "dtype: object\n"
     ]
    }
   ],
   "source": [
    "print(df_2.dtypes)"
   ]
  },
  {
   "cell_type": "markdown",
   "id": "39343872",
   "metadata": {},
   "source": [
    "CHECKING FOURTH FILE"
   ]
  },
  {
   "cell_type": "code",
<<<<<<< HEAD
   "execution_count": 281,
=======
   "execution_count": 47,
>>>>>>> b477f8597a6ea78a957d0fe22574cca83223552c
   "id": "385fb913",
   "metadata": {},
   "outputs": [
    {
     "data": {
      "text/html": [
       "<div>\n",
       "<style scoped>\n",
       "    .dataframe tbody tr th:only-of-type {\n",
       "        vertical-align: middle;\n",
       "    }\n",
       "\n",
       "    .dataframe tbody tr th {\n",
       "        vertical-align: top;\n",
       "    }\n",
       "\n",
       "    .dataframe thead th {\n",
       "        text-align: right;\n",
       "    }\n",
       "</style>\n",
       "<table border=\"1\" class=\"dataframe\">\n",
       "  <thead>\n",
       "    <tr style=\"text-align: right;\">\n",
       "      <th></th>\n",
       "      <th>client_id</th>\n",
       "      <th>Variation</th>\n",
       "    </tr>\n",
       "  </thead>\n",
       "  <tbody>\n",
       "    <tr>\n",
       "      <th>0</th>\n",
       "      <td>9988021</td>\n",
       "      <td>Test</td>\n",
       "    </tr>\n",
       "    <tr>\n",
       "      <th>1</th>\n",
       "      <td>8320017</td>\n",
       "      <td>Test</td>\n",
       "    </tr>\n",
       "    <tr>\n",
       "      <th>2</th>\n",
       "      <td>4033851</td>\n",
       "      <td>Control</td>\n",
       "    </tr>\n",
       "    <tr>\n",
       "      <th>3</th>\n",
       "      <td>1982004</td>\n",
       "      <td>Test</td>\n",
       "    </tr>\n",
       "    <tr>\n",
       "      <th>4</th>\n",
       "      <td>9294070</td>\n",
       "      <td>Control</td>\n",
       "    </tr>\n",
       "    <tr>\n",
       "      <th>...</th>\n",
       "      <td>...</td>\n",
       "      <td>...</td>\n",
       "    </tr>\n",
       "    <tr>\n",
       "      <th>70604</th>\n",
       "      <td>2443347</td>\n",
       "      <td>NaN</td>\n",
       "    </tr>\n",
       "    <tr>\n",
       "      <th>70605</th>\n",
       "      <td>8788427</td>\n",
       "      <td>NaN</td>\n",
       "    </tr>\n",
       "    <tr>\n",
       "      <th>70606</th>\n",
       "      <td>266828</td>\n",
       "      <td>NaN</td>\n",
       "    </tr>\n",
       "    <tr>\n",
       "      <th>70607</th>\n",
       "      <td>1266421</td>\n",
       "      <td>NaN</td>\n",
       "    </tr>\n",
       "    <tr>\n",
       "      <th>70608</th>\n",
       "      <td>9895983</td>\n",
       "      <td>NaN</td>\n",
       "    </tr>\n",
       "  </tbody>\n",
       "</table>\n",
       "<p>70609 rows × 2 columns</p>\n",
       "</div>"
      ],
      "text/plain": [
       "       client_id Variation\n",
       "0        9988021      Test\n",
       "1        8320017      Test\n",
       "2        4033851   Control\n",
       "3        1982004      Test\n",
       "4        9294070   Control\n",
       "...          ...       ...\n",
       "70604    2443347       NaN\n",
       "70605    8788427       NaN\n",
       "70606     266828       NaN\n",
       "70607    1266421       NaN\n",
       "70608    9895983       NaN\n",
       "\n",
       "[70609 rows x 2 columns]"
      ]
     },
<<<<<<< HEAD
     "execution_count": 281,
=======
     "execution_count": 47,
>>>>>>> b477f8597a6ea78a957d0fe22574cca83223552c
     "metadata": {},
     "output_type": "execute_result"
    }
   ],
   "source": [
    "df_experiment"
   ]
  },
  {
   "cell_type": "code",
<<<<<<< HEAD
   "execution_count": 282,
=======
   "execution_count": 48,
>>>>>>> b477f8597a6ea78a957d0fe22574cca83223552c
   "id": "c67bca1b",
   "metadata": {},
   "outputs": [
    {
     "data": {
      "text/plain": [
       "client_id        0\n",
       "Variation    20109\n",
       "dtype: int64"
      ]
     },
<<<<<<< HEAD
     "execution_count": 282,
=======
     "execution_count": 48,
>>>>>>> b477f8597a6ea78a957d0fe22574cca83223552c
     "metadata": {},
     "output_type": "execute_result"
    }
   ],
   "source": [
    "df_experiment.isna().sum()"
   ]
  },
  {
   "cell_type": "code",
<<<<<<< HEAD
   "execution_count": 283,
=======
   "execution_count": 49,
>>>>>>> b477f8597a6ea78a957d0fe22574cca83223552c
   "id": "a44db1d3",
   "metadata": {},
   "outputs": [
    {
     "data": {
      "text/plain": [
       "array(['Test', 'Control', nan], dtype=object)"
      ]
     },
<<<<<<< HEAD
     "execution_count": 283,
=======
     "execution_count": 49,
>>>>>>> b477f8597a6ea78a957d0fe22574cca83223552c
     "metadata": {},
     "output_type": "execute_result"
    }
   ],
   "source": [
    "df_experiment['Variation'].unique()"
   ]
  },
  {
   "cell_type": "code",
<<<<<<< HEAD
   "execution_count": 284,
=======
   "execution_count": 50,
>>>>>>> b477f8597a6ea78a957d0fe22574cca83223552c
   "id": "79a23dfa",
   "metadata": {},
   "outputs": [],
   "source": [
    "df_cleaned = df_experiment.dropna()"
   ]
  },
  {
   "cell_type": "code",
<<<<<<< HEAD
   "execution_count": 285,
=======
   "execution_count": 51,
>>>>>>> b477f8597a6ea78a957d0fe22574cca83223552c
   "id": "f8aa7114",
   "metadata": {},
   "outputs": [
    {
     "data": {
      "text/plain": [
       "(50500, 2)"
      ]
     },
<<<<<<< HEAD
     "execution_count": 285,
=======
     "execution_count": 51,
>>>>>>> b477f8597a6ea78a957d0fe22574cca83223552c
     "metadata": {},
     "output_type": "execute_result"
    }
   ],
   "source": [
    "df_cleaned.shape"
   ]
  },
  {
   "cell_type": "code",
<<<<<<< HEAD
   "execution_count": 286,
=======
   "execution_count": 52,
>>>>>>> b477f8597a6ea78a957d0fe22574cca83223552c
   "id": "dcbf19b9",
   "metadata": {},
   "outputs": [
    {
     "name": "stdout",
     "output_type": "stream",
     "text": [
      "client_id     int64\n",
      "Variation    object\n",
      "dtype: object\n"
     ]
    }
   ],
   "source": [
    "print(df_cleaned.dtypes)"
   ]
  },
  {
   "cell_type": "markdown",
   "id": "afb4575b",
   "metadata": {},
   "source": [
    "MERGING THE FILES"
   ]
  },
  {
   "cell_type": "code",
<<<<<<< HEAD
   "execution_count": 287,
=======
   "execution_count": 53,
>>>>>>> b477f8597a6ea78a957d0fe22574cca83223552c
   "id": "d9b574fa",
   "metadata": {},
   "outputs": [],
   "source": [
    "merged_df = pd.concat([df_1, df_2], ignore_index=True)"
   ]
  },
  {
   "cell_type": "code",
<<<<<<< HEAD
   "execution_count": 288,
=======
   "execution_count": 54,
>>>>>>> b477f8597a6ea78a957d0fe22574cca83223552c
   "id": "5b101c71",
   "metadata": {},
   "outputs": [
    {
     "data": {
      "text/html": [
       "<div>\n",
       "<style scoped>\n",
       "    .dataframe tbody tr th:only-of-type {\n",
       "        vertical-align: middle;\n",
       "    }\n",
       "\n",
       "    .dataframe tbody tr th {\n",
       "        vertical-align: top;\n",
       "    }\n",
       "\n",
       "    .dataframe thead th {\n",
       "        text-align: right;\n",
       "    }\n",
       "</style>\n",
       "<table border=\"1\" class=\"dataframe\">\n",
       "  <thead>\n",
       "    <tr style=\"text-align: right;\">\n",
       "      <th></th>\n",
       "      <th>client_id</th>\n",
       "      <th>visitor_id</th>\n",
       "      <th>visit_id</th>\n",
       "      <th>process_step</th>\n",
       "      <th>date_time</th>\n",
       "    </tr>\n",
       "  </thead>\n",
       "  <tbody>\n",
       "    <tr>\n",
       "      <th>0</th>\n",
       "      <td>9988021</td>\n",
       "      <td>580560515_7732621733</td>\n",
       "      <td>781255054_21935453173_531117</td>\n",
       "      <td>step_3</td>\n",
       "      <td>2017-04-17 15:27:07</td>\n",
       "    </tr>\n",
       "    <tr>\n",
       "      <th>1</th>\n",
       "      <td>9988021</td>\n",
       "      <td>580560515_7732621733</td>\n",
       "      <td>781255054_21935453173_531117</td>\n",
       "      <td>step_2</td>\n",
       "      <td>2017-04-17 15:26:51</td>\n",
       "    </tr>\n",
       "    <tr>\n",
       "      <th>2</th>\n",
       "      <td>9988021</td>\n",
       "      <td>580560515_7732621733</td>\n",
       "      <td>781255054_21935453173_531117</td>\n",
       "      <td>step_3</td>\n",
       "      <td>2017-04-17 15:19:22</td>\n",
       "    </tr>\n",
       "    <tr>\n",
       "      <th>3</th>\n",
       "      <td>9988021</td>\n",
       "      <td>580560515_7732621733</td>\n",
       "      <td>781255054_21935453173_531117</td>\n",
       "      <td>step_2</td>\n",
       "      <td>2017-04-17 15:19:13</td>\n",
       "    </tr>\n",
       "    <tr>\n",
       "      <th>4</th>\n",
       "      <td>9988021</td>\n",
       "      <td>580560515_7732621733</td>\n",
       "      <td>781255054_21935453173_531117</td>\n",
       "      <td>step_3</td>\n",
       "      <td>2017-04-17 15:18:04</td>\n",
       "    </tr>\n",
       "    <tr>\n",
       "      <th>...</th>\n",
       "      <td>...</td>\n",
       "      <td>...</td>\n",
       "      <td>...</td>\n",
       "      <td>...</td>\n",
       "      <td>...</td>\n",
       "    </tr>\n",
       "    <tr>\n",
       "      <th>744636</th>\n",
       "      <td>9668240</td>\n",
       "      <td>388766751_9038881013</td>\n",
       "      <td>922267647_3096648104_968866</td>\n",
       "      <td>start</td>\n",
       "      <td>2017-05-24 18:46:10</td>\n",
       "    </tr>\n",
       "    <tr>\n",
       "      <th>744637</th>\n",
       "      <td>9668240</td>\n",
       "      <td>388766751_9038881013</td>\n",
       "      <td>922267647_3096648104_968866</td>\n",
       "      <td>start</td>\n",
       "      <td>2017-05-24 18:45:29</td>\n",
       "    </tr>\n",
       "    <tr>\n",
       "      <th>744638</th>\n",
       "      <td>9668240</td>\n",
       "      <td>388766751_9038881013</td>\n",
       "      <td>922267647_3096648104_968866</td>\n",
       "      <td>step_1</td>\n",
       "      <td>2017-05-24 18:44:51</td>\n",
       "    </tr>\n",
       "    <tr>\n",
       "      <th>744639</th>\n",
       "      <td>9668240</td>\n",
       "      <td>388766751_9038881013</td>\n",
       "      <td>922267647_3096648104_968866</td>\n",
       "      <td>start</td>\n",
       "      <td>2017-05-24 18:44:34</td>\n",
       "    </tr>\n",
       "    <tr>\n",
       "      <th>744640</th>\n",
       "      <td>674799</td>\n",
       "      <td>947159805_81558194550</td>\n",
       "      <td>86152093_47511127657_716022</td>\n",
       "      <td>start</td>\n",
       "      <td>2017-06-03 12:17:09</td>\n",
       "    </tr>\n",
       "  </tbody>\n",
       "</table>\n",
       "<p>744641 rows × 5 columns</p>\n",
       "</div>"
      ],
      "text/plain": [
       "        client_id             visitor_id                      visit_id  \\\n",
       "0         9988021   580560515_7732621733  781255054_21935453173_531117   \n",
       "1         9988021   580560515_7732621733  781255054_21935453173_531117   \n",
       "2         9988021   580560515_7732621733  781255054_21935453173_531117   \n",
       "3         9988021   580560515_7732621733  781255054_21935453173_531117   \n",
       "4         9988021   580560515_7732621733  781255054_21935453173_531117   \n",
       "...           ...                    ...                           ...   \n",
       "744636    9668240   388766751_9038881013   922267647_3096648104_968866   \n",
       "744637    9668240   388766751_9038881013   922267647_3096648104_968866   \n",
       "744638    9668240   388766751_9038881013   922267647_3096648104_968866   \n",
       "744639    9668240   388766751_9038881013   922267647_3096648104_968866   \n",
       "744640     674799  947159805_81558194550   86152093_47511127657_716022   \n",
       "\n",
       "       process_step            date_time  \n",
       "0            step_3  2017-04-17 15:27:07  \n",
       "1            step_2  2017-04-17 15:26:51  \n",
       "2            step_3  2017-04-17 15:19:22  \n",
       "3            step_2  2017-04-17 15:19:13  \n",
       "4            step_3  2017-04-17 15:18:04  \n",
       "...             ...                  ...  \n",
       "744636        start  2017-05-24 18:46:10  \n",
       "744637        start  2017-05-24 18:45:29  \n",
       "744638       step_1  2017-05-24 18:44:51  \n",
       "744639        start  2017-05-24 18:44:34  \n",
       "744640        start  2017-06-03 12:17:09  \n",
       "\n",
       "[744641 rows x 5 columns]"
      ]
     },
<<<<<<< HEAD
     "execution_count": 288,
=======
     "execution_count": 54,
>>>>>>> b477f8597a6ea78a957d0fe22574cca83223552c
     "metadata": {},
     "output_type": "execute_result"
    }
   ],
   "source": [
    "merged_df"
   ]
  },
  {
   "cell_type": "markdown",
   "id": "1373ee7c",
   "metadata": {},
   "source": [
    "ANALYSING THE FILES"
   ]
  },
  {
   "cell_type": "code",
<<<<<<< HEAD
   "execution_count": 289,
=======
   "execution_count": 55,
>>>>>>> b477f8597a6ea78a957d0fe22574cca83223552c
   "id": "fc33f260",
   "metadata": {},
   "outputs": [
    {
     "data": {
      "text/html": [
       "<div>\n",
       "<style scoped>\n",
       "    .dataframe tbody tr th:only-of-type {\n",
       "        vertical-align: middle;\n",
       "    }\n",
       "\n",
       "    .dataframe tbody tr th {\n",
       "        vertical-align: top;\n",
       "    }\n",
       "\n",
       "    .dataframe thead th {\n",
       "        text-align: right;\n",
       "    }\n",
       "</style>\n",
       "<table border=\"1\" class=\"dataframe\">\n",
       "  <thead>\n",
       "    <tr style=\"text-align: right;\">\n",
       "      <th></th>\n",
       "      <th>client_id</th>\n",
       "      <th>client_tenure_year</th>\n",
       "      <th>client_tenure_month</th>\n",
       "      <th>client_age</th>\n",
       "      <th>gender</th>\n",
       "      <th>number_of_accounts</th>\n",
       "      <th>balance</th>\n",
       "      <th>calls_last_6_months</th>\n",
       "      <th>logins_last_6_months</th>\n",
       "    </tr>\n",
       "  </thead>\n",
       "  <tbody>\n",
       "    <tr>\n",
       "      <th>0</th>\n",
       "      <td>836976</td>\n",
       "      <td>6</td>\n",
       "      <td>73</td>\n",
       "      <td>60.5</td>\n",
       "      <td>Unknown</td>\n",
       "      <td>2</td>\n",
       "      <td>45105.30</td>\n",
       "      <td>6</td>\n",
       "      <td>9</td>\n",
       "    </tr>\n",
       "    <tr>\n",
       "      <th>1</th>\n",
       "      <td>2304905</td>\n",
       "      <td>7</td>\n",
       "      <td>94</td>\n",
       "      <td>58.0</td>\n",
       "      <td>Unknown</td>\n",
       "      <td>2</td>\n",
       "      <td>110860.30</td>\n",
       "      <td>6</td>\n",
       "      <td>9</td>\n",
       "    </tr>\n",
       "    <tr>\n",
       "      <th>2</th>\n",
       "      <td>1439522</td>\n",
       "      <td>5</td>\n",
       "      <td>64</td>\n",
       "      <td>32.0</td>\n",
       "      <td>Unknown</td>\n",
       "      <td>2</td>\n",
       "      <td>52467.79</td>\n",
       "      <td>6</td>\n",
       "      <td>9</td>\n",
       "    </tr>\n",
       "    <tr>\n",
       "      <th>3</th>\n",
       "      <td>1562045</td>\n",
       "      <td>16</td>\n",
       "      <td>198</td>\n",
       "      <td>49.0</td>\n",
       "      <td>Male</td>\n",
       "      <td>2</td>\n",
       "      <td>67454.65</td>\n",
       "      <td>3</td>\n",
       "      <td>6</td>\n",
       "    </tr>\n",
       "    <tr>\n",
       "      <th>4</th>\n",
       "      <td>5126305</td>\n",
       "      <td>12</td>\n",
       "      <td>145</td>\n",
       "      <td>33.0</td>\n",
       "      <td>Female</td>\n",
       "      <td>2</td>\n",
       "      <td>103671.75</td>\n",
       "      <td>0</td>\n",
       "      <td>3</td>\n",
       "    </tr>\n",
       "    <tr>\n",
       "      <th>...</th>\n",
       "      <td>...</td>\n",
       "      <td>...</td>\n",
       "      <td>...</td>\n",
       "      <td>...</td>\n",
       "      <td>...</td>\n",
       "      <td>...</td>\n",
       "      <td>...</td>\n",
       "      <td>...</td>\n",
       "      <td>...</td>\n",
       "    </tr>\n",
       "    <tr>\n",
       "      <th>70604</th>\n",
       "      <td>7993686</td>\n",
       "      <td>4</td>\n",
       "      <td>56</td>\n",
       "      <td>38.5</td>\n",
       "      <td>Unknown</td>\n",
       "      <td>3</td>\n",
       "      <td>1411062.68</td>\n",
       "      <td>5</td>\n",
       "      <td>5</td>\n",
       "    </tr>\n",
       "    <tr>\n",
       "      <th>70605</th>\n",
       "      <td>8981690</td>\n",
       "      <td>12</td>\n",
       "      <td>148</td>\n",
       "      <td>31.0</td>\n",
       "      <td>Male</td>\n",
       "      <td>2</td>\n",
       "      <td>101867.07</td>\n",
       "      <td>6</td>\n",
       "      <td>6</td>\n",
       "    </tr>\n",
       "    <tr>\n",
       "      <th>70606</th>\n",
       "      <td>333913</td>\n",
       "      <td>16</td>\n",
       "      <td>198</td>\n",
       "      <td>61.5</td>\n",
       "      <td>Female</td>\n",
       "      <td>2</td>\n",
       "      <td>40745.00</td>\n",
       "      <td>3</td>\n",
       "      <td>3</td>\n",
       "    </tr>\n",
       "    <tr>\n",
       "      <th>70607</th>\n",
       "      <td>1573142</td>\n",
       "      <td>21</td>\n",
       "      <td>255</td>\n",
       "      <td>68.0</td>\n",
       "      <td>Male</td>\n",
       "      <td>3</td>\n",
       "      <td>475114.69</td>\n",
       "      <td>4</td>\n",
       "      <td>4</td>\n",
       "    </tr>\n",
       "    <tr>\n",
       "      <th>70608</th>\n",
       "      <td>5602139</td>\n",
       "      <td>21</td>\n",
       "      <td>254</td>\n",
       "      <td>59.5</td>\n",
       "      <td>Female</td>\n",
       "      <td>3</td>\n",
       "      <td>157498.73</td>\n",
       "      <td>7</td>\n",
       "      <td>7</td>\n",
       "    </tr>\n",
       "  </tbody>\n",
       "</table>\n",
       "<p>70591 rows × 9 columns</p>\n",
       "</div>"
      ],
      "text/plain": [
       "       client_id  client_tenure_year  client_tenure_month  client_age  \\\n",
       "0         836976                   6                   73        60.5   \n",
       "1        2304905                   7                   94        58.0   \n",
       "2        1439522                   5                   64        32.0   \n",
       "3        1562045                  16                  198        49.0   \n",
       "4        5126305                  12                  145        33.0   \n",
       "...          ...                 ...                  ...         ...   \n",
       "70604    7993686                   4                   56        38.5   \n",
       "70605    8981690                  12                  148        31.0   \n",
       "70606     333913                  16                  198        61.5   \n",
       "70607    1573142                  21                  255        68.0   \n",
       "70608    5602139                  21                  254        59.5   \n",
       "\n",
       "        gender  number_of_accounts     balance  calls_last_6_months  \\\n",
       "0      Unknown                   2    45105.30                    6   \n",
       "1      Unknown                   2   110860.30                    6   \n",
       "2      Unknown                   2    52467.79                    6   \n",
       "3         Male                   2    67454.65                    3   \n",
       "4       Female                   2   103671.75                    0   \n",
       "...        ...                 ...         ...                  ...   \n",
       "70604  Unknown                   3  1411062.68                    5   \n",
       "70605     Male                   2   101867.07                    6   \n",
       "70606   Female                   2    40745.00                    3   \n",
       "70607     Male                   3   475114.69                    4   \n",
       "70608   Female                   3   157498.73                    7   \n",
       "\n",
       "       logins_last_6_months  \n",
       "0                         9  \n",
       "1                         9  \n",
       "2                         9  \n",
       "3                         6  \n",
       "4                         3  \n",
       "...                     ...  \n",
       "70604                     5  \n",
       "70605                     6  \n",
       "70606                     3  \n",
       "70607                     4  \n",
       "70608                     7  \n",
       "\n",
       "[70591 rows x 9 columns]"
      ]
     },
<<<<<<< HEAD
     "execution_count": 289,
=======
     "execution_count": 55,
>>>>>>> b477f8597a6ea78a957d0fe22574cca83223552c
     "metadata": {},
     "output_type": "execute_result"
    }
   ],
   "source": [
    "df_droped"
   ]
  },
  {
   "cell_type": "code",
<<<<<<< HEAD
   "execution_count": 290,
=======
   "execution_count": 56,
>>>>>>> b477f8597a6ea78a957d0fe22574cca83223552c
   "id": "c47355a5",
   "metadata": {},
   "outputs": [
    {
     "data": {
      "text/html": [
       "<div>\n",
       "<style scoped>\n",
       "    .dataframe tbody tr th:only-of-type {\n",
       "        vertical-align: middle;\n",
       "    }\n",
       "\n",
       "    .dataframe tbody tr th {\n",
       "        vertical-align: top;\n",
       "    }\n",
       "\n",
       "    .dataframe thead th {\n",
       "        text-align: right;\n",
       "    }\n",
       "</style>\n",
       "<table border=\"1\" class=\"dataframe\">\n",
       "  <thead>\n",
       "    <tr style=\"text-align: right;\">\n",
       "      <th></th>\n",
       "      <th>client_id</th>\n",
       "      <th>visitor_id</th>\n",
       "      <th>visit_id</th>\n",
       "      <th>process_step</th>\n",
       "      <th>date_time</th>\n",
       "    </tr>\n",
       "  </thead>\n",
       "  <tbody>\n",
       "    <tr>\n",
       "      <th>0</th>\n",
       "      <td>9988021</td>\n",
       "      <td>580560515_7732621733</td>\n",
       "      <td>781255054_21935453173_531117</td>\n",
       "      <td>step_3</td>\n",
       "      <td>2017-04-17 15:27:07</td>\n",
       "    </tr>\n",
       "    <tr>\n",
       "      <th>1</th>\n",
       "      <td>9988021</td>\n",
       "      <td>580560515_7732621733</td>\n",
       "      <td>781255054_21935453173_531117</td>\n",
       "      <td>step_2</td>\n",
       "      <td>2017-04-17 15:26:51</td>\n",
       "    </tr>\n",
       "    <tr>\n",
       "      <th>2</th>\n",
       "      <td>9988021</td>\n",
       "      <td>580560515_7732621733</td>\n",
       "      <td>781255054_21935453173_531117</td>\n",
       "      <td>step_3</td>\n",
       "      <td>2017-04-17 15:19:22</td>\n",
       "    </tr>\n",
       "    <tr>\n",
       "      <th>3</th>\n",
       "      <td>9988021</td>\n",
       "      <td>580560515_7732621733</td>\n",
       "      <td>781255054_21935453173_531117</td>\n",
       "      <td>step_2</td>\n",
       "      <td>2017-04-17 15:19:13</td>\n",
       "    </tr>\n",
       "    <tr>\n",
       "      <th>4</th>\n",
       "      <td>9988021</td>\n",
       "      <td>580560515_7732621733</td>\n",
       "      <td>781255054_21935453173_531117</td>\n",
       "      <td>step_3</td>\n",
       "      <td>2017-04-17 15:18:04</td>\n",
       "    </tr>\n",
       "    <tr>\n",
       "      <th>...</th>\n",
       "      <td>...</td>\n",
       "      <td>...</td>\n",
       "      <td>...</td>\n",
       "      <td>...</td>\n",
       "      <td>...</td>\n",
       "    </tr>\n",
       "    <tr>\n",
       "      <th>744636</th>\n",
       "      <td>9668240</td>\n",
       "      <td>388766751_9038881013</td>\n",
       "      <td>922267647_3096648104_968866</td>\n",
       "      <td>start</td>\n",
       "      <td>2017-05-24 18:46:10</td>\n",
       "    </tr>\n",
       "    <tr>\n",
       "      <th>744637</th>\n",
       "      <td>9668240</td>\n",
       "      <td>388766751_9038881013</td>\n",
       "      <td>922267647_3096648104_968866</td>\n",
       "      <td>start</td>\n",
       "      <td>2017-05-24 18:45:29</td>\n",
       "    </tr>\n",
       "    <tr>\n",
       "      <th>744638</th>\n",
       "      <td>9668240</td>\n",
       "      <td>388766751_9038881013</td>\n",
       "      <td>922267647_3096648104_968866</td>\n",
       "      <td>step_1</td>\n",
       "      <td>2017-05-24 18:44:51</td>\n",
       "    </tr>\n",
       "    <tr>\n",
       "      <th>744639</th>\n",
       "      <td>9668240</td>\n",
       "      <td>388766751_9038881013</td>\n",
       "      <td>922267647_3096648104_968866</td>\n",
       "      <td>start</td>\n",
       "      <td>2017-05-24 18:44:34</td>\n",
       "    </tr>\n",
       "    <tr>\n",
       "      <th>744640</th>\n",
       "      <td>674799</td>\n",
       "      <td>947159805_81558194550</td>\n",
       "      <td>86152093_47511127657_716022</td>\n",
       "      <td>start</td>\n",
       "      <td>2017-06-03 12:17:09</td>\n",
       "    </tr>\n",
       "  </tbody>\n",
       "</table>\n",
       "<p>744641 rows × 5 columns</p>\n",
       "</div>"
      ],
      "text/plain": [
       "        client_id             visitor_id                      visit_id  \\\n",
       "0         9988021   580560515_7732621733  781255054_21935453173_531117   \n",
       "1         9988021   580560515_7732621733  781255054_21935453173_531117   \n",
       "2         9988021   580560515_7732621733  781255054_21935453173_531117   \n",
       "3         9988021   580560515_7732621733  781255054_21935453173_531117   \n",
       "4         9988021   580560515_7732621733  781255054_21935453173_531117   \n",
       "...           ...                    ...                           ...   \n",
       "744636    9668240   388766751_9038881013   922267647_3096648104_968866   \n",
       "744637    9668240   388766751_9038881013   922267647_3096648104_968866   \n",
       "744638    9668240   388766751_9038881013   922267647_3096648104_968866   \n",
       "744639    9668240   388766751_9038881013   922267647_3096648104_968866   \n",
       "744640     674799  947159805_81558194550   86152093_47511127657_716022   \n",
       "\n",
       "       process_step            date_time  \n",
       "0            step_3  2017-04-17 15:27:07  \n",
       "1            step_2  2017-04-17 15:26:51  \n",
       "2            step_3  2017-04-17 15:19:22  \n",
       "3            step_2  2017-04-17 15:19:13  \n",
       "4            step_3  2017-04-17 15:18:04  \n",
       "...             ...                  ...  \n",
       "744636        start  2017-05-24 18:46:10  \n",
       "744637        start  2017-05-24 18:45:29  \n",
       "744638       step_1  2017-05-24 18:44:51  \n",
       "744639        start  2017-05-24 18:44:34  \n",
       "744640        start  2017-06-03 12:17:09  \n",
       "\n",
       "[744641 rows x 5 columns]"
      ]
     },
<<<<<<< HEAD
     "execution_count": 290,
=======
     "execution_count": 56,
>>>>>>> b477f8597a6ea78a957d0fe22574cca83223552c
     "metadata": {},
     "output_type": "execute_result"
    }
   ],
   "source": [
    "merged_df"
   ]
  },
  {
   "cell_type": "code",
<<<<<<< HEAD
   "execution_count": 291,
=======
   "execution_count": 57,
>>>>>>> b477f8597a6ea78a957d0fe22574cca83223552c
   "id": "1ee503e9",
   "metadata": {},
   "outputs": [
    {
     "data": {
      "text/html": [
       "<div>\n",
       "<style scoped>\n",
       "    .dataframe tbody tr th:only-of-type {\n",
       "        vertical-align: middle;\n",
       "    }\n",
       "\n",
       "    .dataframe tbody tr th {\n",
       "        vertical-align: top;\n",
       "    }\n",
       "\n",
       "    .dataframe thead th {\n",
       "        text-align: right;\n",
       "    }\n",
       "</style>\n",
       "<table border=\"1\" class=\"dataframe\">\n",
       "  <thead>\n",
       "    <tr style=\"text-align: right;\">\n",
       "      <th></th>\n",
       "      <th>client_id</th>\n",
       "      <th>Variation</th>\n",
       "    </tr>\n",
       "  </thead>\n",
       "  <tbody>\n",
       "    <tr>\n",
       "      <th>0</th>\n",
       "      <td>9988021</td>\n",
       "      <td>Test</td>\n",
       "    </tr>\n",
       "    <tr>\n",
       "      <th>1</th>\n",
       "      <td>8320017</td>\n",
       "      <td>Test</td>\n",
       "    </tr>\n",
       "    <tr>\n",
       "      <th>2</th>\n",
       "      <td>4033851</td>\n",
       "      <td>Control</td>\n",
       "    </tr>\n",
       "    <tr>\n",
       "      <th>3</th>\n",
       "      <td>1982004</td>\n",
       "      <td>Test</td>\n",
       "    </tr>\n",
       "    <tr>\n",
       "      <th>4</th>\n",
       "      <td>9294070</td>\n",
       "      <td>Control</td>\n",
       "    </tr>\n",
       "    <tr>\n",
       "      <th>...</th>\n",
       "      <td>...</td>\n",
       "      <td>...</td>\n",
       "    </tr>\n",
       "    <tr>\n",
       "      <th>50495</th>\n",
       "      <td>393005</td>\n",
       "      <td>Control</td>\n",
       "    </tr>\n",
       "    <tr>\n",
       "      <th>50496</th>\n",
       "      <td>2908510</td>\n",
       "      <td>Control</td>\n",
       "    </tr>\n",
       "    <tr>\n",
       "      <th>50497</th>\n",
       "      <td>7230446</td>\n",
       "      <td>Test</td>\n",
       "    </tr>\n",
       "    <tr>\n",
       "      <th>50498</th>\n",
       "      <td>5230357</td>\n",
       "      <td>Test</td>\n",
       "    </tr>\n",
       "    <tr>\n",
       "      <th>50499</th>\n",
       "      <td>6334360</td>\n",
       "      <td>Test</td>\n",
       "    </tr>\n",
       "  </tbody>\n",
       "</table>\n",
       "<p>50500 rows × 2 columns</p>\n",
       "</div>"
      ],
      "text/plain": [
       "       client_id Variation\n",
       "0        9988021      Test\n",
       "1        8320017      Test\n",
       "2        4033851   Control\n",
       "3        1982004      Test\n",
       "4        9294070   Control\n",
       "...          ...       ...\n",
       "50495     393005   Control\n",
       "50496    2908510   Control\n",
       "50497    7230446      Test\n",
       "50498    5230357      Test\n",
       "50499    6334360      Test\n",
       "\n",
       "[50500 rows x 2 columns]"
      ]
     },
<<<<<<< HEAD
     "execution_count": 291,
=======
     "execution_count": 57,
>>>>>>> b477f8597a6ea78a957d0fe22574cca83223552c
     "metadata": {},
     "output_type": "execute_result"
    }
   ],
   "source": [
    "df_cleaned\n"
   ]
  },
  {
   "cell_type": "code",
<<<<<<< HEAD
   "execution_count": 292,
=======
   "execution_count": 58,
>>>>>>> b477f8597a6ea78a957d0fe22574cca83223552c
   "id": "3f76af9c",
   "metadata": {},
   "outputs": [
    {
     "data": {
      "text/plain": [
       "array([9, 6, 3, 5, 4, 8, 7, 1, 2])"
      ]
     },
<<<<<<< HEAD
     "execution_count": 292,
=======
     "execution_count": 58,
>>>>>>> b477f8597a6ea78a957d0fe22574cca83223552c
     "metadata": {},
     "output_type": "execute_result"
    }
   ],
   "source": [
    "df_droped['logins_last_6_months'].unique()"
   ]
  },
  {
   "cell_type": "code",
<<<<<<< HEAD
   "execution_count": 293,
=======
   "execution_count": 59,
>>>>>>> b477f8597a6ea78a957d0fe22574cca83223552c
   "id": "3f2fd70a",
   "metadata": {},
   "outputs": [
    {
     "data": {
      "text/plain": [
       "array(['step_3', 'step_2', 'step_1', 'start', 'confirm'], dtype=object)"
      ]
     },
<<<<<<< HEAD
     "execution_count": 293,
=======
     "execution_count": 59,
>>>>>>> b477f8597a6ea78a957d0fe22574cca83223552c
     "metadata": {},
     "output_type": "execute_result"
    }
   ],
   "source": [
    "merged_df['process_step'].unique()"
   ]
  },
  {
   "cell_type": "code",
<<<<<<< HEAD
   "execution_count": 294,
=======
   "execution_count": 60,
>>>>>>> b477f8597a6ea78a957d0fe22574cca83223552c
   "id": "2c9e2b18",
   "metadata": {},
   "outputs": [
    {
     "data": {
      "text/plain": [
       "array(['Test', 'Control'], dtype=object)"
      ]
     },
<<<<<<< HEAD
     "execution_count": 294,
=======
     "execution_count": 60,
>>>>>>> b477f8597a6ea78a957d0fe22574cca83223552c
     "metadata": {},
     "output_type": "execute_result"
    }
   ],
   "source": [
    "df_cleaned['Variation'].unique()"
   ]
  },
  {
   "cell_type": "markdown",
   "id": "1bdff394",
   "metadata": {},
   "source": [
    "MERGING THE CLEANED DATAFRAMES\n"
   ]
  },
  {
   "cell_type": "code",
<<<<<<< HEAD
   "execution_count": 295,
=======
   "execution_count": 61,
>>>>>>> b477f8597a6ea78a957d0fe22574cca83223552c
   "id": "8fc406f2",
   "metadata": {},
   "outputs": [],
   "source": [
    "df_client = pd.merge(df_droped,df_cleaned, on='client_id', how='inner')"
   ]
  },
  {
   "cell_type": "code",
<<<<<<< HEAD
   "execution_count": 296,
=======
   "execution_count": 62,
>>>>>>> b477f8597a6ea78a957d0fe22574cca83223552c
   "id": "0f63b88b",
   "metadata": {},
   "outputs": [
    {
     "data": {
      "text/html": [
       "<div>\n",
       "<style scoped>\n",
       "    .dataframe tbody tr th:only-of-type {\n",
       "        vertical-align: middle;\n",
       "    }\n",
       "\n",
       "    .dataframe tbody tr th {\n",
       "        vertical-align: top;\n",
       "    }\n",
       "\n",
       "    .dataframe thead th {\n",
       "        text-align: right;\n",
       "    }\n",
       "</style>\n",
       "<table border=\"1\" class=\"dataframe\">\n",
       "  <thead>\n",
       "    <tr style=\"text-align: right;\">\n",
       "      <th></th>\n",
       "      <th>client_id</th>\n",
       "      <th>client_tenure_year</th>\n",
       "      <th>client_tenure_month</th>\n",
       "      <th>client_age</th>\n",
       "      <th>gender</th>\n",
       "      <th>number_of_accounts</th>\n",
       "      <th>balance</th>\n",
       "      <th>calls_last_6_months</th>\n",
       "      <th>logins_last_6_months</th>\n",
       "      <th>Variation</th>\n",
       "    </tr>\n",
       "  </thead>\n",
       "  <tbody>\n",
       "    <tr>\n",
       "      <th>0</th>\n",
       "      <td>836976</td>\n",
       "      <td>6</td>\n",
       "      <td>73</td>\n",
       "      <td>60.5</td>\n",
       "      <td>Unknown</td>\n",
       "      <td>2</td>\n",
       "      <td>45105.30</td>\n",
       "      <td>6</td>\n",
       "      <td>9</td>\n",
       "      <td>Test</td>\n",
       "    </tr>\n",
       "    <tr>\n",
       "      <th>1</th>\n",
       "      <td>2304905</td>\n",
       "      <td>7</td>\n",
       "      <td>94</td>\n",
       "      <td>58.0</td>\n",
       "      <td>Unknown</td>\n",
       "      <td>2</td>\n",
       "      <td>110860.30</td>\n",
       "      <td>6</td>\n",
       "      <td>9</td>\n",
       "      <td>Control</td>\n",
       "    </tr>\n",
       "    <tr>\n",
       "      <th>2</th>\n",
       "      <td>1439522</td>\n",
       "      <td>5</td>\n",
       "      <td>64</td>\n",
       "      <td>32.0</td>\n",
       "      <td>Unknown</td>\n",
       "      <td>2</td>\n",
       "      <td>52467.79</td>\n",
       "      <td>6</td>\n",
       "      <td>9</td>\n",
       "      <td>Test</td>\n",
       "    </tr>\n",
       "    <tr>\n",
       "      <th>3</th>\n",
       "      <td>1562045</td>\n",
       "      <td>16</td>\n",
       "      <td>198</td>\n",
       "      <td>49.0</td>\n",
       "      <td>Male</td>\n",
       "      <td>2</td>\n",
       "      <td>67454.65</td>\n",
       "      <td>3</td>\n",
       "      <td>6</td>\n",
       "      <td>Test</td>\n",
       "    </tr>\n",
       "    <tr>\n",
       "      <th>4</th>\n",
       "      <td>5126305</td>\n",
       "      <td>12</td>\n",
       "      <td>145</td>\n",
       "      <td>33.0</td>\n",
       "      <td>Female</td>\n",
       "      <td>2</td>\n",
       "      <td>103671.75</td>\n",
       "      <td>0</td>\n",
       "      <td>3</td>\n",
       "      <td>Control</td>\n",
       "    </tr>\n",
       "    <tr>\n",
       "      <th>...</th>\n",
       "      <td>...</td>\n",
       "      <td>...</td>\n",
       "      <td>...</td>\n",
       "      <td>...</td>\n",
       "      <td>...</td>\n",
       "      <td>...</td>\n",
       "      <td>...</td>\n",
       "      <td>...</td>\n",
       "      <td>...</td>\n",
       "      <td>...</td>\n",
       "    </tr>\n",
       "    <tr>\n",
       "      <th>50480</th>\n",
       "      <td>1780858</td>\n",
       "      <td>21</td>\n",
       "      <td>262</td>\n",
       "      <td>68.5</td>\n",
       "      <td>Male</td>\n",
       "      <td>3</td>\n",
       "      <td>372100.59</td>\n",
       "      <td>6</td>\n",
       "      <td>9</td>\n",
       "      <td>Test</td>\n",
       "    </tr>\n",
       "    <tr>\n",
       "      <th>50481</th>\n",
       "      <td>6967120</td>\n",
       "      <td>21</td>\n",
       "      <td>260</td>\n",
       "      <td>68.5</td>\n",
       "      <td>Male</td>\n",
       "      <td>3</td>\n",
       "      <td>4279873.38</td>\n",
       "      <td>6</td>\n",
       "      <td>9</td>\n",
       "      <td>Control</td>\n",
       "    </tr>\n",
       "    <tr>\n",
       "      <th>50482</th>\n",
       "      <td>5826160</td>\n",
       "      <td>20</td>\n",
       "      <td>249</td>\n",
       "      <td>56.5</td>\n",
       "      <td>Female</td>\n",
       "      <td>2</td>\n",
       "      <td>44837.16</td>\n",
       "      <td>2</td>\n",
       "      <td>5</td>\n",
       "      <td>Test</td>\n",
       "    </tr>\n",
       "    <tr>\n",
       "      <th>50483</th>\n",
       "      <td>8739285</td>\n",
       "      <td>19</td>\n",
       "      <td>229</td>\n",
       "      <td>69.5</td>\n",
       "      <td>Female</td>\n",
       "      <td>2</td>\n",
       "      <td>44994.24</td>\n",
       "      <td>1</td>\n",
       "      <td>4</td>\n",
       "      <td>Test</td>\n",
       "    </tr>\n",
       "    <tr>\n",
       "      <th>50484</th>\n",
       "      <td>7468138</td>\n",
       "      <td>18</td>\n",
       "      <td>222</td>\n",
       "      <td>61.0</td>\n",
       "      <td>Female</td>\n",
       "      <td>3</td>\n",
       "      <td>209278.15</td>\n",
       "      <td>0</td>\n",
       "      <td>3</td>\n",
       "      <td>Test</td>\n",
       "    </tr>\n",
       "  </tbody>\n",
       "</table>\n",
       "<p>50485 rows × 10 columns</p>\n",
       "</div>"
      ],
      "text/plain": [
       "       client_id  client_tenure_year  client_tenure_month  client_age  \\\n",
       "0         836976                   6                   73        60.5   \n",
       "1        2304905                   7                   94        58.0   \n",
       "2        1439522                   5                   64        32.0   \n",
       "3        1562045                  16                  198        49.0   \n",
       "4        5126305                  12                  145        33.0   \n",
       "...          ...                 ...                  ...         ...   \n",
       "50480    1780858                  21                  262        68.5   \n",
       "50481    6967120                  21                  260        68.5   \n",
       "50482    5826160                  20                  249        56.5   \n",
       "50483    8739285                  19                  229        69.5   \n",
       "50484    7468138                  18                  222        61.0   \n",
       "\n",
       "        gender  number_of_accounts     balance  calls_last_6_months  \\\n",
       "0      Unknown                   2    45105.30                    6   \n",
       "1      Unknown                   2   110860.30                    6   \n",
       "2      Unknown                   2    52467.79                    6   \n",
       "3         Male                   2    67454.65                    3   \n",
       "4       Female                   2   103671.75                    0   \n",
       "...        ...                 ...         ...                  ...   \n",
       "50480     Male                   3   372100.59                    6   \n",
       "50481     Male                   3  4279873.38                    6   \n",
       "50482   Female                   2    44837.16                    2   \n",
       "50483   Female                   2    44994.24                    1   \n",
       "50484   Female                   3   209278.15                    0   \n",
       "\n",
       "       logins_last_6_months Variation  \n",
       "0                         9      Test  \n",
       "1                         9   Control  \n",
       "2                         9      Test  \n",
       "3                         6      Test  \n",
       "4                         3   Control  \n",
       "...                     ...       ...  \n",
       "50480                     9      Test  \n",
       "50481                     9   Control  \n",
       "50482                     5      Test  \n",
       "50483                     4      Test  \n",
       "50484                     3      Test  \n",
       "\n",
       "[50485 rows x 10 columns]"
      ]
     },
<<<<<<< HEAD
     "execution_count": 296,
=======
     "execution_count": 62,
>>>>>>> b477f8597a6ea78a957d0fe22574cca83223552c
     "metadata": {},
     "output_type": "execute_result"
    }
   ],
   "source": [
    "df_client"
   ]
  },
  {
   "cell_type": "markdown",
   "id": "edae7e5f",
   "metadata": {},
   "source": [
    "COMPARING VARIATION COLUMN AND logins_last_6_months COLUMNS:"
   ]
  },
  {
   "cell_type": "code",
<<<<<<< HEAD
   "execution_count": 297,
=======
   "execution_count": 63,
>>>>>>> b477f8597a6ea78a957d0fe22574cca83223552c
   "id": "9c393fe4",
   "metadata": {},
   "outputs": [
    {
     "name": "stdout",
     "output_type": "stream",
     "text": [
      "logins_last_6_months     3     4     5     6     7     8     9\n",
      "Variation                                                     \n",
      "Control               3318  3553  3480  2732  2294  2290  5859\n",
      "Test                  3993  4301  3803  3233  2619  2520  6490\n"
     ]
    }
   ],
   "source": [
    "login_counts = df_client.groupby(['Variation','logins_last_6_months']).size().unstack(fill_value=0)\n",
    "print(login_counts)"
   ]
  },
  {
   "cell_type": "code",
<<<<<<< HEAD
   "execution_count": 298,
=======
   "execution_count": 64,
>>>>>>> b477f8597a6ea78a957d0fe22574cca83223552c
   "id": "b9d9a366",
   "metadata": {},
   "outputs": [
    {
     "name": "stdout",
     "output_type": "stream",
     "text": [
      "logins_last_6_months      3      4      5      6     7     8      9\n",
      "Variation                                                          \n",
      "Control               14.10  15.10  14.79  11.61  9.75  9.73  24.90\n",
      "Test                  14.81  15.95  14.11  11.99  9.71  9.35  24.07\n"
     ]
    }
   ],
   "source": [
    "login_percent = df_client.groupby('Variation')['logins_last_6_months'].value_counts(normalize=True).unstack(fill_value=0) * 100\n",
    "print(login_percent.round(2))"
   ]
  },
  {
   "cell_type": "code",
<<<<<<< HEAD
   "execution_count": 299,
=======
   "execution_count": 65,
>>>>>>> b477f8597a6ea78a957d0fe22574cca83223552c
   "id": "f03dcd46",
   "metadata": {},
   "outputs": [
    {
     "data": {
      "image/png": "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",
      "text/plain": [
       "<Figure size 1200x600 with 1 Axes>"
      ]
     },
     "metadata": {},
     "output_type": "display_data"
    }
   ],
   "source": [
    "plot_data =df_client.groupby(['Variation', 'logins_last_6_months']).size().reset_index(name='count')\n",
    "\n",
    "plt.figure(figsize=(12, 6))\n",
    "sns.barplot(data=plot_data, x='logins_last_6_months', y='count', hue='Variation')\n",
    "plt.xticks(rotation=45)\n",
    "plt.title('Login Method Distribution by Variation')\n",
    "plt.ylabel('Count')\n",
    "plt.xlabel('Login Method')\n",
    "plt.tight_layout()\n",
    "plt.show()"
   ]
  },
  {
   "cell_type": "code",
<<<<<<< HEAD
   "execution_count": 300,
=======
   "execution_count": 66,
>>>>>>> b477f8597a6ea78a957d0fe22574cca83223552c
   "id": "dffdee99",
   "metadata": {},
   "outputs": [
    {
     "data": {
      "text/html": [
       "<div>\n",
       "<style scoped>\n",
       "    .dataframe tbody tr th:only-of-type {\n",
       "        vertical-align: middle;\n",
       "    }\n",
       "\n",
       "    .dataframe tbody tr th {\n",
       "        vertical-align: top;\n",
       "    }\n",
       "\n",
       "    .dataframe thead th {\n",
       "        text-align: right;\n",
       "    }\n",
       "</style>\n",
       "<table border=\"1\" class=\"dataframe\">\n",
       "  <thead>\n",
       "    <tr style=\"text-align: right;\">\n",
       "      <th></th>\n",
       "      <th>client_id</th>\n",
       "      <th>visitor_id</th>\n",
       "      <th>visit_id</th>\n",
       "      <th>process_step</th>\n",
       "      <th>date_time</th>\n",
       "      <th>client_tenure_year</th>\n",
       "      <th>client_tenure_month</th>\n",
       "      <th>client_age</th>\n",
       "      <th>gender</th>\n",
       "      <th>number_of_accounts</th>\n",
       "      <th>balance</th>\n",
       "      <th>calls_last_6_months</th>\n",
       "      <th>logins_last_6_months</th>\n",
       "      <th>Variation</th>\n",
       "    </tr>\n",
       "  </thead>\n",
       "  <tbody>\n",
       "    <tr>\n",
       "      <th>0</th>\n",
       "      <td>9988021</td>\n",
       "      <td>580560515_7732621733</td>\n",
       "      <td>781255054_21935453173_531117</td>\n",
       "      <td>step_3</td>\n",
       "      <td>2017-04-17 15:27:07</td>\n",
       "      <td>5</td>\n",
       "      <td>64</td>\n",
       "      <td>79.0</td>\n",
       "      <td>Unknown</td>\n",
       "      <td>2</td>\n",
       "      <td>189023.86</td>\n",
       "      <td>1</td>\n",
       "      <td>4</td>\n",
       "      <td>Test</td>\n",
       "    </tr>\n",
       "    <tr>\n",
       "      <th>1</th>\n",
       "      <td>9988021</td>\n",
       "      <td>580560515_7732621733</td>\n",
       "      <td>781255054_21935453173_531117</td>\n",
       "      <td>step_2</td>\n",
       "      <td>2017-04-17 15:26:51</td>\n",
       "      <td>5</td>\n",
       "      <td>64</td>\n",
       "      <td>79.0</td>\n",
       "      <td>Unknown</td>\n",
       "      <td>2</td>\n",
       "      <td>189023.86</td>\n",
       "      <td>1</td>\n",
       "      <td>4</td>\n",
       "      <td>Test</td>\n",
       "    </tr>\n",
       "    <tr>\n",
       "      <th>2</th>\n",
       "      <td>9988021</td>\n",
       "      <td>580560515_7732621733</td>\n",
       "      <td>781255054_21935453173_531117</td>\n",
       "      <td>step_3</td>\n",
       "      <td>2017-04-17 15:19:22</td>\n",
       "      <td>5</td>\n",
       "      <td>64</td>\n",
       "      <td>79.0</td>\n",
       "      <td>Unknown</td>\n",
       "      <td>2</td>\n",
       "      <td>189023.86</td>\n",
       "      <td>1</td>\n",
       "      <td>4</td>\n",
       "      <td>Test</td>\n",
       "    </tr>\n",
       "    <tr>\n",
       "      <th>3</th>\n",
       "      <td>9988021</td>\n",
       "      <td>580560515_7732621733</td>\n",
       "      <td>781255054_21935453173_531117</td>\n",
       "      <td>step_2</td>\n",
       "      <td>2017-04-17 15:19:13</td>\n",
       "      <td>5</td>\n",
       "      <td>64</td>\n",
       "      <td>79.0</td>\n",
       "      <td>Unknown</td>\n",
       "      <td>2</td>\n",
       "      <td>189023.86</td>\n",
       "      <td>1</td>\n",
       "      <td>4</td>\n",
       "      <td>Test</td>\n",
       "    </tr>\n",
       "    <tr>\n",
       "      <th>4</th>\n",
       "      <td>9988021</td>\n",
       "      <td>580560515_7732621733</td>\n",
       "      <td>781255054_21935453173_531117</td>\n",
       "      <td>step_3</td>\n",
       "      <td>2017-04-17 15:18:04</td>\n",
       "      <td>5</td>\n",
       "      <td>64</td>\n",
       "      <td>79.0</td>\n",
       "      <td>Unknown</td>\n",
       "      <td>2</td>\n",
       "      <td>189023.86</td>\n",
       "      <td>1</td>\n",
       "      <td>4</td>\n",
       "      <td>Test</td>\n",
       "    </tr>\n",
       "    <tr>\n",
       "      <th>...</th>\n",
       "      <td>...</td>\n",
       "      <td>...</td>\n",
       "      <td>...</td>\n",
       "      <td>...</td>\n",
       "      <td>...</td>\n",
       "      <td>...</td>\n",
       "      <td>...</td>\n",
       "      <td>...</td>\n",
       "      <td>...</td>\n",
       "      <td>...</td>\n",
       "      <td>...</td>\n",
       "      <td>...</td>\n",
       "      <td>...</td>\n",
       "      <td>...</td>\n",
       "    </tr>\n",
       "    <tr>\n",
       "      <th>317110</th>\n",
       "      <td>1574008</td>\n",
       "      <td>117364417_77840596075</td>\n",
       "      <td>528720790_71583064618_169151</td>\n",
       "      <td>start</td>\n",
       "      <td>2017-05-06 23:43:27</td>\n",
       "      <td>10</td>\n",
       "      <td>121</td>\n",
       "      <td>55.0</td>\n",
       "      <td>Unknown</td>\n",
       "      <td>2</td>\n",
       "      <td>153238.83</td>\n",
       "      <td>3</td>\n",
       "      <td>6</td>\n",
       "      <td>Test</td>\n",
       "    </tr>\n",
       "    <tr>\n",
       "      <th>317111</th>\n",
       "      <td>2908510</td>\n",
       "      <td>814969699_90652851448</td>\n",
       "      <td>562606085_36368381773_92090</td>\n",
       "      <td>start</td>\n",
       "      <td>2017-05-10 22:57:17</td>\n",
       "      <td>21</td>\n",
       "      <td>252</td>\n",
       "      <td>34.0</td>\n",
       "      <td>Male</td>\n",
       "      <td>3</td>\n",
       "      <td>141808.05</td>\n",
       "      <td>6</td>\n",
       "      <td>9</td>\n",
       "      <td>Control</td>\n",
       "    </tr>\n",
       "    <tr>\n",
       "      <th>317112</th>\n",
       "      <td>2908510</td>\n",
       "      <td>814969699_90652851448</td>\n",
       "      <td>562606085_36368381773_92090</td>\n",
       "      <td>step_2</td>\n",
       "      <td>2017-05-10 22:56:31</td>\n",
       "      <td>21</td>\n",
       "      <td>252</td>\n",
       "      <td>34.0</td>\n",
       "      <td>Male</td>\n",
       "      <td>3</td>\n",
       "      <td>141808.05</td>\n",
       "      <td>6</td>\n",
       "      <td>9</td>\n",
       "      <td>Control</td>\n",
       "    </tr>\n",
       "    <tr>\n",
       "      <th>317113</th>\n",
       "      <td>2908510</td>\n",
       "      <td>814969699_90652851448</td>\n",
       "      <td>562606085_36368381773_92090</td>\n",
       "      <td>step_1</td>\n",
       "      <td>2017-05-10 22:56:23</td>\n",
       "      <td>21</td>\n",
       "      <td>252</td>\n",
       "      <td>34.0</td>\n",
       "      <td>Male</td>\n",
       "      <td>3</td>\n",
       "      <td>141808.05</td>\n",
       "      <td>6</td>\n",
       "      <td>9</td>\n",
       "      <td>Control</td>\n",
       "    </tr>\n",
       "    <tr>\n",
       "      <th>317114</th>\n",
       "      <td>2908510</td>\n",
       "      <td>814969699_90652851448</td>\n",
       "      <td>562606085_36368381773_92090</td>\n",
       "      <td>start</td>\n",
       "      <td>2017-05-10 22:56:20</td>\n",
       "      <td>21</td>\n",
       "      <td>252</td>\n",
       "      <td>34.0</td>\n",
       "      <td>Male</td>\n",
       "      <td>3</td>\n",
       "      <td>141808.05</td>\n",
       "      <td>6</td>\n",
       "      <td>9</td>\n",
       "      <td>Control</td>\n",
       "    </tr>\n",
       "  </tbody>\n",
       "</table>\n",
       "<p>317115 rows × 14 columns</p>\n",
       "</div>"
      ],
      "text/plain": [
       "        client_id             visitor_id                      visit_id  \\\n",
       "0         9988021   580560515_7732621733  781255054_21935453173_531117   \n",
       "1         9988021   580560515_7732621733  781255054_21935453173_531117   \n",
       "2         9988021   580560515_7732621733  781255054_21935453173_531117   \n",
       "3         9988021   580560515_7732621733  781255054_21935453173_531117   \n",
       "4         9988021   580560515_7732621733  781255054_21935453173_531117   \n",
       "...           ...                    ...                           ...   \n",
       "317110    1574008  117364417_77840596075  528720790_71583064618_169151   \n",
       "317111    2908510  814969699_90652851448   562606085_36368381773_92090   \n",
       "317112    2908510  814969699_90652851448   562606085_36368381773_92090   \n",
       "317113    2908510  814969699_90652851448   562606085_36368381773_92090   \n",
       "317114    2908510  814969699_90652851448   562606085_36368381773_92090   \n",
       "\n",
       "       process_step            date_time  client_tenure_year  \\\n",
       "0            step_3  2017-04-17 15:27:07                   5   \n",
       "1            step_2  2017-04-17 15:26:51                   5   \n",
       "2            step_3  2017-04-17 15:19:22                   5   \n",
       "3            step_2  2017-04-17 15:19:13                   5   \n",
       "4            step_3  2017-04-17 15:18:04                   5   \n",
       "...             ...                  ...                 ...   \n",
       "317110        start  2017-05-06 23:43:27                  10   \n",
       "317111        start  2017-05-10 22:57:17                  21   \n",
       "317112       step_2  2017-05-10 22:56:31                  21   \n",
       "317113       step_1  2017-05-10 22:56:23                  21   \n",
       "317114        start  2017-05-10 22:56:20                  21   \n",
       "\n",
       "        client_tenure_month  client_age   gender  number_of_accounts  \\\n",
       "0                        64        79.0  Unknown                   2   \n",
       "1                        64        79.0  Unknown                   2   \n",
       "2                        64        79.0  Unknown                   2   \n",
       "3                        64        79.0  Unknown                   2   \n",
       "4                        64        79.0  Unknown                   2   \n",
       "...                     ...         ...      ...                 ...   \n",
       "317110                  121        55.0  Unknown                   2   \n",
       "317111                  252        34.0     Male                   3   \n",
       "317112                  252        34.0     Male                   3   \n",
       "317113                  252        34.0     Male                   3   \n",
       "317114                  252        34.0     Male                   3   \n",
       "\n",
       "          balance  calls_last_6_months  logins_last_6_months Variation  \n",
       "0       189023.86                    1                     4      Test  \n",
       "1       189023.86                    1                     4      Test  \n",
       "2       189023.86                    1                     4      Test  \n",
       "3       189023.86                    1                     4      Test  \n",
       "4       189023.86                    1                     4      Test  \n",
       "...           ...                  ...                   ...       ...  \n",
       "317110  153238.83                    3                     6      Test  \n",
       "317111  141808.05                    6                     9   Control  \n",
       "317112  141808.05                    6                     9   Control  \n",
       "317113  141808.05                    6                     9   Control  \n",
       "317114  141808.05                    6                     9   Control  \n",
       "\n",
       "[317115 rows x 14 columns]"
      ]
     },
<<<<<<< HEAD
     "execution_count": 300,
=======
     "execution_count": 66,
>>>>>>> b477f8597a6ea78a957d0fe22574cca83223552c
     "metadata": {},
     "output_type": "execute_result"
    }
   ],
   "source": [
    "df_final= pd.merge(merged_df,df_client, on='client_id', how='inner')\n",
    "df_final"
   ]
  },
  {
   "cell_type": "code",
   "execution_count": 97,
   "id": "0520e409",
   "metadata": {},
   "outputs": [
    {
     "name": "stdout",
     "output_type": "stream",
     "text": [
      "    client_id             visitor_id                      visit_id  \\\n",
      "0     9988021   580560515_7732621733  781255054_21935453173_531117   \n",
      "1     9988021   580560515_7732621733  781255054_21935453173_531117   \n",
      "2     9988021   580560515_7732621733  781255054_21935453173_531117   \n",
      "3     9988021   580560515_7732621733  781255054_21935453173_531117   \n",
      "4     9988021   580560515_7732621733  781255054_21935453173_531117   \n",
      "5     9988021   580560515_7732621733  781255054_21935453173_531117   \n",
      "6     9988021   580560515_7732621733  781255054_21935453173_531117   \n",
      "7     9988021   580560515_7732621733  781255054_21935453173_531117   \n",
      "8     8320017   39393514_33118319366  960651974_70596002104_312201   \n",
      "9     8320017   39393514_33118319366  960651974_70596002104_312201   \n",
      "10    8320017   39393514_33118319366  960651974_70596002104_312201   \n",
      "11    8320017   39393514_33118319366  960651974_70596002104_312201   \n",
      "12    8320017   39393514_33118319366  960651974_70596002104_312201   \n",
      "13    4033851  762728880_76361333336  949661017_22392791362_127391   \n",
      "14    4033851  762728880_76361333336  949661017_22392791362_127391   \n",
      "15    4033851  762728880_76361333336  949661017_22392791362_127391   \n",
      "16    4033851  762728880_76361333336  949661017_22392791362_127391   \n",
      "17    4033851  762728880_76361333336  949661017_22392791362_127391   \n",
      "18    4033851  762728880_76361333336  949661017_22392791362_127391   \n",
      "19    4033851  762728880_76361333336  949661017_22392791362_127391   \n",
      "20    4033851  762728880_76361333336  949661017_22392791362_127391   \n",
      "21    4033851  762728880_76361333336  949661017_22392791362_127391   \n",
      "22    4033851  762728880_76361333336  949661017_22392791362_127391   \n",
      "23    4033851  762728880_76361333336  949661017_22392791362_127391   \n",
      "24    1982004  618934751_10082078917   132494692_73738638511_70823   \n",
      "25    1982004  618934751_10082078917   132494692_73738638511_70823   \n",
      "26    1982004  618934751_10082078917   132494692_73738638511_70823   \n",
      "27    1982004  618934751_10082078917   132494692_73738638511_70823   \n",
      "28    1982004  618934751_10082078917   132494692_73738638511_70823   \n",
      "29    9294070  489274391_63794562906  116640698_27328181095_188045   \n",
      "30    9294070  489274391_63794562906  116640698_27328181095_188045   \n",
      "31    9466803    97277031_5793723360   812185460_4263902139_352107   \n",
      "32    9466803    97277031_5793723360   812185460_4263902139_352107   \n",
      "33    9466803    97277031_5793723360   812185460_4263902139_352107   \n",
      "34    9466803    97277031_5793723360   812185460_4263902139_352107   \n",
      "35    9466803    97277031_5793723360   812185460_4263902139_352107   \n",
      "36    9466803    97277031_5793723360   812185460_4263902139_352107   \n",
      "37    3170143  837774974_91015515080  758001412_25057963943_219559   \n",
      "38    3170143  837774974_91015515080  758001412_25057963943_219559   \n",
      "39    3170143  837774974_91015515080  758001412_25057963943_219559   \n",
      "40    3170143  837774974_91015515080  758001412_25057963943_219559   \n",
      "41    3170143  837774974_91015515080  758001412_25057963943_219559   \n",
      "42    6651403  387438258_49845138949  754106292_61370647593_160929   \n",
      "43    6651403  387438258_49845138949  754106292_61370647593_160929   \n",
      "44    6651403  387438258_49845138949  754106292_61370647593_160929   \n",
      "45    6651403  387438258_49845138949  754106292_61370647593_160929   \n",
      "46    6651403  387438258_49845138949  754106292_61370647593_160929   \n",
      "47    6651403  387438258_49845138949  754106292_61370647593_160929   \n",
      "48    6651403  387438258_49845138949  754106292_61370647593_160929   \n",
      "49    5887227  448202785_26003228044  458489157_53226123692_778999   \n",
      "\n",
      "   process_step            date_time  client_tenure_year  client_tenure_month  \\\n",
      "0        step_3  2017-04-17 15:27:07                   5                   64   \n",
      "1        step_2  2017-04-17 15:26:51                   5                   64   \n",
      "2        step_3  2017-04-17 15:19:22                   5                   64   \n",
      "3        step_2  2017-04-17 15:19:13                   5                   64   \n",
      "4        step_3  2017-04-17 15:18:04                   5                   64   \n",
      "5        step_2  2017-04-17 15:17:15                   5                   64   \n",
      "6        step_1  2017-04-17 15:17:01                   5                   64   \n",
      "7         start  2017-04-17 15:16:22                   5                   64   \n",
      "8       confirm  2017-04-05 13:10:05                  22                  274   \n",
      "9        step_3  2017-04-05 13:09:43                  22                  274   \n",
      "10       step_2  2017-04-05 13:08:40                  22                  274   \n",
      "11       step_1  2017-04-05 13:08:24                  22                  274   \n",
      "12        start  2017-04-05 13:08:06                  22                  274   \n",
      "13      confirm  2017-04-05 12:29:03                  12                  149   \n",
      "14      confirm  2017-04-05 12:29:01                  12                  149   \n",
      "15      confirm  2017-04-05 12:28:52                  12                  149   \n",
      "16       step_3  2017-04-05 12:26:08                  12                  149   \n",
      "17       step_2  2017-04-05 12:24:43                  12                  149   \n",
      "18       step_1  2017-04-05 12:24:12                  12                  149   \n",
      "19        start  2017-04-05 12:24:04                  12                  149   \n",
      "20       step_2  2017-04-05 12:10:26                  12                  149   \n",
      "21       step_3  2017-04-05 12:10:26                  12                  149   \n",
      "22       step_2  2017-04-05 12:10:25                  12                  149   \n",
      "23       step_3  2017-04-05 12:10:25                  12                  149   \n",
      "24      confirm  2017-04-17 12:02:42                   6                   80   \n",
      "25       step_3  2017-04-17 12:01:09                   6                   80   \n",
      "26       step_2  2017-04-17 12:00:01                   6                   80   \n",
      "27       step_1  2017-04-17 11:59:46                   6                   80   \n",
      "28        start  2017-04-17 11:59:42                   6                   80   \n",
      "29        start  2017-04-17 11:16:28                   5                   70   \n",
      "30        start  2017-04-17 11:16:13                   5                   70   \n",
      "31        start  2017-04-16 13:24:45                  11                  137   \n",
      "32       step_2  2017-04-16 13:24:16                  11                  137   \n",
      "33       step_1  2017-04-16 13:24:07                  11                  137   \n",
      "34        start  2017-04-16 13:24:05                  11                  137   \n",
      "35       step_1  2017-04-16 13:21:58                  11                  137   \n",
      "36        start  2017-04-16 13:21:51                  11                  137   \n",
      "37      confirm  2017-04-04 18:41:44                  21                  254   \n",
      "38       step_3  2017-04-04 18:41:03                  21                  254   \n",
      "39       step_2  2017-04-04 18:38:22                  21                  254   \n",
      "40       step_1  2017-04-04 18:38:14                  21                  254   \n",
      "41        start  2017-04-04 18:38:02                  21                  254   \n",
      "42      confirm  2017-04-04 17:38:39                  13                  162   \n",
      "43       step_3  2017-04-04 17:34:03                  13                  162   \n",
      "44       step_2  2017-04-04 17:33:55                  13                  162   \n",
      "45       step_3  2017-04-04 17:31:32                  13                  162   \n",
      "46       step_2  2017-04-04 17:28:44                  13                  162   \n",
      "47       step_1  2017-04-04 17:28:35                  13                  162   \n",
      "48        start  2017-04-04 17:28:18                  13                  162   \n",
      "49      confirm  2017-04-05 14:52:34                   6                   79   \n",
      "\n",
      "    client_age   gender  number_of_accounts    balance  calls_last_6_months  \\\n",
      "0         79.0  Unknown                   2  189023.86                    1   \n",
      "1         79.0  Unknown                   2  189023.86                    1   \n",
      "2         79.0  Unknown                   2  189023.86                    1   \n",
      "3         79.0  Unknown                   2  189023.86                    1   \n",
      "4         79.0  Unknown                   2  189023.86                    1   \n",
      "5         79.0  Unknown                   2  189023.86                    1   \n",
      "6         79.0  Unknown                   2  189023.86                    1   \n",
      "7         79.0  Unknown                   2  189023.86                    1   \n",
      "8         34.5     Male                   2   36001.90                    5   \n",
      "9         34.5     Male                   2   36001.90                    5   \n",
      "10        34.5     Male                   2   36001.90                    5   \n",
      "11        34.5     Male                   2   36001.90                    5   \n",
      "12        34.5     Male                   2   36001.90                    5   \n",
      "13        63.5     Male                   2  142642.26                    5   \n",
      "14        63.5     Male                   2  142642.26                    5   \n",
      "15        63.5     Male                   2  142642.26                    5   \n",
      "16        63.5     Male                   2  142642.26                    5   \n",
      "17        63.5     Male                   2  142642.26                    5   \n",
      "18        63.5     Male                   2  142642.26                    5   \n",
      "19        63.5     Male                   2  142642.26                    5   \n",
      "20        63.5     Male                   2  142642.26                    5   \n",
      "21        63.5     Male                   2  142642.26                    5   \n",
      "22        63.5     Male                   2  142642.26                    5   \n",
      "23        63.5     Male                   2  142642.26                    5   \n",
      "24        44.5  Unknown                   2   30231.76                    1   \n",
      "25        44.5  Unknown                   2   30231.76                    1   \n",
      "26        44.5  Unknown                   2   30231.76                    1   \n",
      "27        44.5  Unknown                   2   30231.76                    1   \n",
      "28        44.5  Unknown                   2   30231.76                    1   \n",
      "29        29.0  Unknown                   2   34254.54                    0   \n",
      "30        29.0  Unknown                   2   34254.54                    0   \n",
      "31        27.0   Female                   2   46131.19                    1   \n",
      "32        27.0   Female                   2   46131.19                    1   \n",
      "33        27.0   Female                   2   46131.19                    1   \n",
      "34        27.0   Female                   2   46131.19                    1   \n",
      "35        27.0   Female                   2   46131.19                    1   \n",
      "36        27.0   Female                   2   46131.19                    1   \n",
      "37        53.5   Female                   2  192109.59                    6   \n",
      "38        53.5   Female                   2  192109.59                    6   \n",
      "39        53.5   Female                   2  192109.59                    6   \n",
      "40        53.5   Female                   2  192109.59                    6   \n",
      "41        53.5   Female                   2  192109.59                    6   \n",
      "42        56.5     Male                   2  324712.88                    4   \n",
      "43        56.5     Male                   2  324712.88                    4   \n",
      "44        56.5     Male                   2  324712.88                    4   \n",
      "45        56.5     Male                   2  324712.88                    4   \n",
      "46        56.5     Male                   2  324712.88                    4   \n",
      "47        56.5     Male                   2  324712.88                    4   \n",
      "48        56.5     Male                   2  324712.88                    4   \n",
      "49        32.5  Unknown                   2   60274.39                    1   \n",
      "\n",
      "    logins_last_6_months Variation  \n",
      "0                      4      Test  \n",
      "1                      4      Test  \n",
      "2                      4      Test  \n",
      "3                      4      Test  \n",
      "4                      4      Test  \n",
      "5                      4      Test  \n",
      "6                      4      Test  \n",
      "7                      4      Test  \n",
      "8                      8      Test  \n",
      "9                      8      Test  \n",
      "10                     8      Test  \n",
      "11                     8      Test  \n",
      "12                     8      Test  \n",
      "13                     8   Control  \n",
      "14                     8   Control  \n",
      "15                     8   Control  \n",
      "16                     8   Control  \n",
      "17                     8   Control  \n",
      "18                     8   Control  \n",
      "19                     8   Control  \n",
      "20                     8   Control  \n",
      "21                     8   Control  \n",
      "22                     8   Control  \n",
      "23                     8   Control  \n",
      "24                     4      Test  \n",
      "25                     4      Test  \n",
      "26                     4      Test  \n",
      "27                     4      Test  \n",
      "28                     4      Test  \n",
      "29                     3   Control  \n",
      "30                     3   Control  \n",
      "31                     4      Test  \n",
      "32                     4      Test  \n",
      "33                     4      Test  \n",
      "34                     4      Test  \n",
      "35                     4      Test  \n",
      "36                     4      Test  \n",
      "37                     9      Test  \n",
      "38                     9      Test  \n",
      "39                     9      Test  \n",
      "40                     9      Test  \n",
      "41                     9      Test  \n",
      "42                     7   Control  \n",
      "43                     7   Control  \n",
      "44                     7   Control  \n",
      "45                     7   Control  \n",
      "46                     7   Control  \n",
      "47                     7   Control  \n",
      "48                     7   Control  \n",
      "49                     4      Test  \n"
     ]
    }
   ],
   "source": [
    "print(df_final.head(50))"
   ]
  },
  {
   "cell_type": "markdown",
   "id": "95a8ea85",
   "metadata": {},
   "source": [
    "ANALYSING WHETHER THE MAJORITY OF THE CLIENTS ARE YOUNGER OR OLDER"
   ]
  },
  {
   "cell_type": "code",
<<<<<<< HEAD
   "execution_count": 301,
=======
   "execution_count": 67,
>>>>>>> b477f8597a6ea78a957d0fe22574cca83223552c
   "id": "eadb1660",
   "metadata": {},
   "outputs": [
    {
     "data": {
      "text/plain": [
       "0        above 55\n",
       "1        above 55\n",
       "2        above 55\n",
       "3        above 55\n",
       "4        above 55\n",
       "           ...   \n",
       "70604       46-55\n",
       "70605       46-55\n",
       "70606       36-45\n",
       "70607    above 55\n",
       "70608    above 55\n",
       "Name: age_group, Length: 70609, dtype: object"
      ]
     },
<<<<<<< HEAD
     "execution_count": 301,
=======
     "execution_count": 67,
>>>>>>> b477f8597a6ea78a957d0fe22574cca83223552c
     "metadata": {},
     "output_type": "execute_result"
    }
   ],
   "source": [
    "df['age_group'] = df_final['client_age'].apply(\n",
    "    lambda x: 'under 25' if x < 25 else(\n",
    "        '26-35' if x < 35 else (\n",
    "            '36-45' if x < 45 else(\n",
    "                '46-55' if x < 55 else 'above 55'\n",
    "            )\n",
    "        )\n",
    "    )\n",
    ")\n",
    "df['age_group']"
   ]
  },
  {
   "cell_type": "markdown",
   "id": "cf340a76",
   "metadata": {},
   "source": [
    "SEPARATING CONTROL AND TEST"
   ]
  },
  {
   "cell_type": "code",
<<<<<<< HEAD
   "execution_count": 302,
=======
   "execution_count": 68,
>>>>>>> b477f8597a6ea78a957d0fe22574cca83223552c
   "id": "9b6260d4",
   "metadata": {},
   "outputs": [],
   "source": [
    "df_control = df_final[df_final['Variation'] == 'Control']\n",
    "df_test = df_final[df_final['Variation'] == 'Test']"
   ]
  },
  {
   "cell_type": "code",
<<<<<<< HEAD
   "execution_count": 303,
=======
   "execution_count": 69,
>>>>>>> b477f8597a6ea78a957d0fe22574cca83223552c
   "id": "97337f94",
   "metadata": {},
   "outputs": [],
   "source": [
    "df_control = df_final[df_final['Variation'] == 'Control'].copy()\n",
    "df_control['age_group'] = df_final['client_age'].apply(\n",
    "    lambda x: 'under 25' if x < 25 else(\n",
    "        '26-35' if x < 35 else (\n",
    "            '36-45' if x < 45 else(\n",
    "                '46-55' if x < 55 else 'above 55'\n",
    "            )\n",
    "        )\n",
    "    )\n",
    ")"
   ]
  },
  {
   "cell_type": "code",
<<<<<<< HEAD
   "execution_count": 304,
=======
   "execution_count": 70,
>>>>>>> b477f8597a6ea78a957d0fe22574cca83223552c
   "id": "f6d75b17",
   "metadata": {},
   "outputs": [
    {
     "name": "stdout",
     "output_type": "stream",
     "text": [
      "age_group\n",
      "above 55    54643\n",
      "46-55       27456\n",
      "26-35       27346\n",
      "36-45       22308\n",
      "under 25     8729\n",
      "Name: count, dtype: int64\n"
     ]
    }
   ],
   "source": [
    "print(df_control['age_group'].value_counts())"
   ]
  },
  {
   "cell_type": "code",
<<<<<<< HEAD
   "execution_count": 305,
=======
   "execution_count": 71,
>>>>>>> b477f8597a6ea78a957d0fe22574cca83223552c
   "id": "8ac5801b",
   "metadata": {},
   "outputs": [
    {
     "name": "stderr",
     "output_type": "stream",
     "text": [
<<<<<<< HEAD
      "/var/folders/vq/6bh1xs4j65q7bltc_wqn_ps40000gn/T/ipykernel_32836/1441729912.py:7: FutureWarning: \n",
=======
      "C:\\Users\\Naveen\\AppData\\Local\\Temp\\ipykernel_8816\\1441729912.py:7: FutureWarning: \n",
>>>>>>> b477f8597a6ea78a957d0fe22574cca83223552c
      "\n",
      "Passing `palette` without assigning `hue` is deprecated and will be removed in v0.14.0. Assign the `x` variable to `hue` and set `legend=False` for the same effect.\n",
      "\n",
      "  sns.barplot(x=age_counts.index, y=age_counts.values, palette='viridis')\n"
     ]
    },
    {
     "data": {
      "image/png": "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",
      "text/plain": [
       "<Figure size 800x500 with 1 Axes>"
      ]
     },
     "metadata": {},
     "output_type": "display_data"
    }
   ],
   "source": [
    "age_counts = df_control['age_group'].value_counts().reindex(\n",
    "    ['under 25', '26-35', '36-45', '46-55', 'above 55']\n",
    ")\n",
    "\n",
    "# Plot\n",
    "plt.figure(figsize=(8, 5))\n",
    "sns.barplot(x=age_counts.index, y=age_counts.values, palette='viridis')\n",
    "\n",
    "plt.title('Age Group Distribution in Control Group')\n",
    "plt.xlabel('Age Group')\n",
    "plt.ylabel('Count')\n",
    "plt.xticks(rotation=45)\n",
    "plt.tight_layout()\n",
    "plt.show()\n"
   ]
  },
  {
   "cell_type": "code",
<<<<<<< HEAD
   "execution_count": 306,
=======
   "execution_count": 72,
>>>>>>> b477f8597a6ea78a957d0fe22574cca83223552c
   "id": "bcfe679d",
   "metadata": {},
   "outputs": [],
   "source": [
    "df_test = df_final[df_final['Variation'] == 'Test'].copy()\n",
    "df_test['age_group'] = df_final['client_age'].apply(\n",
    "    lambda x: 'under 25' if x < 25 else(\n",
    "        '26-35' if x < 34 else (\n",
    "            '36-45' if x < 44 else(\n",
    "                '46-55' if x < 54 else 'above 55'\n",
    "            )\n",
    "        )\n",
    "    )\n",
    ")"
   ]
  },
  {
   "cell_type": "code",
<<<<<<< HEAD
   "execution_count": 307,
=======
   "execution_count": 73,
>>>>>>> b477f8597a6ea78a957d0fe22574cca83223552c
   "id": "b3b7f4fa",
   "metadata": {},
   "outputs": [
    {
     "name": "stdout",
     "output_type": "stream",
     "text": [
      "age_group\n",
      "above 55    74935\n",
      "46-55       33529\n",
      "26-35       30208\n",
      "36-45       27033\n",
      "under 25    10928\n",
      "Name: count, dtype: int64\n"
     ]
    }
   ],
   "source": [
    "print(df_test['age_group'].value_counts())"
   ]
  },
  {
   "cell_type": "code",
<<<<<<< HEAD
   "execution_count": 308,
=======
   "execution_count": 75,
>>>>>>> b477f8597a6ea78a957d0fe22574cca83223552c
   "id": "d6eeaf66",
   "metadata": {},
   "outputs": [
    {
     "name": "stderr",
     "output_type": "stream",
     "text": [
<<<<<<< HEAD
      "/var/folders/vq/6bh1xs4j65q7bltc_wqn_ps40000gn/T/ipykernel_32836/1892792943.py:7: FutureWarning: \n",
=======
      "C:\\Users\\Naveen\\AppData\\Local\\Temp\\ipykernel_8816\\1892792943.py:7: FutureWarning: \n",
>>>>>>> b477f8597a6ea78a957d0fe22574cca83223552c
      "\n",
      "Passing `palette` without assigning `hue` is deprecated and will be removed in v0.14.0. Assign the `x` variable to `hue` and set `legend=False` for the same effect.\n",
      "\n",
      "  sns.barplot(x=age_counts.index, y=age_counts.values, palette='viridis')\n"
     ]
    },
    {
     "data": {
      "image/png": "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",
      "text/plain": [
       "<Figure size 800x500 with 1 Axes>"
      ]
     },
     "metadata": {},
     "output_type": "display_data"
    }
   ],
   "source": [
    "age_counts = df_test['age_group'].value_counts().reindex(\n",
    "    ['under 25', '26-35', '36-45', '46-55', 'above 55']\n",
    ")\n",
    "\n",
    "# Plot\n",
    "plt.figure(figsize=(8, 5))\n",
    "sns.barplot(x=age_counts.index, y=age_counts.values, palette='viridis')\n",
    "\n",
    "plt.title('Age Group Distribution in Test Group')\n",
    "plt.xlabel('Age Group')\n",
    "plt.ylabel('Count')\n",
    "plt.xticks(rotation=45)\n",
    "plt.tight_layout()\n",
    "plt.show()\n"
   ]
  },
  {
   "cell_type": "markdown",
   "id": "51250326",
   "metadata": {},
   "source": [
    "ANALYSING THE CLIENTS ARE NEW ARE LONG STANDING"
   ]
  },
  {
   "cell_type": "code",
<<<<<<< HEAD
   "execution_count": 309,
=======
   "execution_count": 76,
>>>>>>> b477f8597a6ea78a957d0fe22574cca83223552c
   "id": "9156997c",
   "metadata": {},
   "outputs": [
    {
     "data": {
      "text/plain": [
       "array([ 6,  7,  5, 16, 12, 30, 15,  8,  4,  3, 10, 11, 13, 14, 19, 18, 25,\n",
       "       23, 21, 17,  9, 27, 24, 20, 28, 22, 29, 46, 26, 32, 33, 35,  2, 38,\n",
       "       31, 48, 34, 36, 51, 47, 49, 37, 39, 40, 55, 42, 44, 43, 50, 54, 41,\n",
       "       45, 52])"
      ]
     },
<<<<<<< HEAD
     "execution_count": 309,
=======
     "execution_count": 76,
>>>>>>> b477f8597a6ea78a957d0fe22574cca83223552c
     "metadata": {},
     "output_type": "execute_result"
    }
   ],
   "source": [
    "df_client['client_tenure_year'].unique()"
   ]
  },
  {
   "cell_type": "code",
<<<<<<< HEAD
   "execution_count": 310,
=======
   "execution_count": 77,
>>>>>>> b477f8597a6ea78a957d0fe22574cca83223552c
   "id": "ae4bfc7b",
   "metadata": {},
   "outputs": [
    {
     "data": {
      "text/plain": [
       "<Axes: >"
      ]
     },
<<<<<<< HEAD
     "execution_count": 310,
=======
     "execution_count": 77,
>>>>>>> b477f8597a6ea78a957d0fe22574cca83223552c
     "metadata": {},
     "output_type": "execute_result"
    },
    {
     "data": {
      "image/png": "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",
      "text/plain": [
       "<Figure size 640x480 with 1 Axes>"
      ]
     },
     "metadata": {},
     "output_type": "display_data"
    }
   ],
   "source": [
    "df_client['client_tenure_year'].hist(bins=100)"
   ]
  },
  {
   "cell_type": "code",
<<<<<<< HEAD
   "execution_count": 311,
=======
   "execution_count": 78,
>>>>>>> b477f8597a6ea78a957d0fe22574cca83223552c
   "id": "cedb10b5",
   "metadata": {},
   "outputs": [],
   "source": [
    "df['year'] = df_final['client_tenure_year'].apply(\n",
    "    lambda x: '< 10' if x < 10 else (\n",
    "        '10-20' if x < 20 else (\n",
    "            '20-30' if x < 30  else '> 30'\n",
    "        )\n",
    "    )\n",
    ")\n"
   ]
  },
  {
   "cell_type": "code",
<<<<<<< HEAD
   "execution_count": 312,
=======
   "execution_count": 79,
>>>>>>> b477f8597a6ea78a957d0fe22574cca83223552c
   "id": "e1cf5137",
   "metadata": {},
   "outputs": [],
   "source": [
    "df_control = df_final[df_final['Variation'] == 'Control'].copy()\n",
    "df_control['year'] = df_final['client_tenure_year'].apply(\n",
    "    lambda x: '< 10' if x < 10 else (\n",
    "        '10-20' if x < 20 else(\n",
    "            '20-30' if x < 30 else '> 30'\n",
    "        )\n",
    "    )\n",
    ")\n"
   ]
  },
  {
   "cell_type": "code",
<<<<<<< HEAD
   "execution_count": 313,
=======
   "execution_count": 80,
>>>>>>> b477f8597a6ea78a957d0fe22574cca83223552c
   "id": "e5323a2a",
   "metadata": {},
   "outputs": [
    {
     "name": "stdout",
     "output_type": "stream",
     "text": [
      "year\n",
      "< 10     62593\n",
      "10-20    54162\n",
      "20-30    20919\n",
      "> 30      2808\n",
      "Name: count, dtype: int64\n"
     ]
    }
   ],
   "source": [
    "print(df_control['year'].value_counts())"
   ]
  },
  {
   "cell_type": "code",
<<<<<<< HEAD
   "execution_count": 314,
=======
   "execution_count": 81,
>>>>>>> b477f8597a6ea78a957d0fe22574cca83223552c
   "id": "4d6e3303",
   "metadata": {},
   "outputs": [
    {
     "name": "stderr",
     "output_type": "stream",
     "text": [
<<<<<<< HEAD
      "/var/folders/vq/6bh1xs4j65q7bltc_wqn_ps40000gn/T/ipykernel_32836/2167306000.py:6: FutureWarning: \n",
=======
      "C:\\Users\\Naveen\\AppData\\Local\\Temp\\ipykernel_8816\\2167306000.py:6: FutureWarning: \n",
>>>>>>> b477f8597a6ea78a957d0fe22574cca83223552c
      "\n",
      "Passing `palette` without assigning `hue` is deprecated and will be removed in v0.14.0. Assign the `x` variable to `hue` and set `legend=False` for the same effect.\n",
      "\n",
      "  ax = sns.barplot(x=year_counts.index, y=year_counts.values, palette='crest')\n"
     ]
    },
    {
     "data": {
      "image/png": "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",
      "text/plain": [
       "<Figure size 800x500 with 1 Axes>"
      ]
     },
     "metadata": {},
     "output_type": "display_data"
    }
   ],
   "source": [
    "year_counts = df_control['year'].value_counts().reindex(['< 10', '10-20', '20-30', '> 30'])\n",
    "total = year_counts.sum()\n",
    "percentages = (year_counts / total * 100).round(1)\n",
    "# Plot\n",
    "plt.figure(figsize=(8, 5))\n",
    "ax = sns.barplot(x=year_counts.index, y=year_counts.values, palette='crest')\n",
    "\n",
    "for i, (count, pct) in enumerate(zip(year_counts.values, percentages.values)):\n",
    "    ax.text(i, count + total * 0.01, f'{pct}%', ha='center', va='bottom', fontsize=10)\n",
    "    \n",
    "plt.title('Client Tenure Distribution in Control Group')\n",
    "plt.xlabel('Tenure (Years)')\n",
    "plt.ylabel('Count')\n",
    "plt.tight_layout()\n",
    "plt.show()\n"
   ]
  },
  {
   "cell_type": "code",
<<<<<<< HEAD
   "execution_count": 315,
=======
   "execution_count": 82,
>>>>>>> b477f8597a6ea78a957d0fe22574cca83223552c
   "id": "7d399623",
   "metadata": {},
   "outputs": [],
   "source": [
    "df_test = df_final[df_final['Variation'] == 'Test'].copy()\n",
    "df_test['year'] = df_final['client_tenure_year'].apply(\n",
    "    lambda x: '< 10' if x < 10 else (\n",
    "        '10-20' if x < 20 else(\n",
    "            '20-30' if x < 30 else '> 30'\n",
    "        )\n",
    "    )\n",
    ")\n"
   ]
  },
  {
   "cell_type": "code",
<<<<<<< HEAD
   "execution_count": 316,
=======
   "execution_count": 83,
>>>>>>> b477f8597a6ea78a957d0fe22574cca83223552c
   "id": "1271bdf4",
   "metadata": {},
   "outputs": [
    {
     "name": "stdout",
     "output_type": "stream",
     "text": [
      "year\n",
      "< 10     78084\n",
      "10-20    68844\n",
      "20-30    26075\n",
      "> 30      3630\n",
      "Name: count, dtype: int64\n"
     ]
    }
   ],
   "source": [
    "print(df_test['year'].value_counts())"
   ]
  },
  {
   "cell_type": "code",
<<<<<<< HEAD
   "execution_count": 317,
=======
   "execution_count": 84,
>>>>>>> b477f8597a6ea78a957d0fe22574cca83223552c
   "id": "c933319d",
   "metadata": {},
   "outputs": [
    {
     "name": "stderr",
     "output_type": "stream",
     "text": [
<<<<<<< HEAD
      "/var/folders/vq/6bh1xs4j65q7bltc_wqn_ps40000gn/T/ipykernel_32836/1712808437.py:7: FutureWarning: \n",
=======
      "C:\\Users\\Naveen\\AppData\\Local\\Temp\\ipykernel_8816\\1712808437.py:7: FutureWarning: \n",
>>>>>>> b477f8597a6ea78a957d0fe22574cca83223552c
      "\n",
      "Passing `palette` without assigning `hue` is deprecated and will be removed in v0.14.0. Assign the `x` variable to `hue` and set `legend=False` for the same effect.\n",
      "\n",
      "  ax = sns.barplot(x=year_counts.index, y=year_counts.values, palette='crest')\n"
     ]
    },
    {
     "data": {
      "image/png": "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",
      "text/plain": [
       "<Figure size 800x500 with 1 Axes>"
      ]
     },
     "metadata": {},
     "output_type": "display_data"
    }
   ],
   "source": [
    "year_counts = df_test['year'].value_counts().reindex(['< 10', '10-20', '20-30', '> 30'])\n",
    "total = year_counts.sum()\n",
    "percentages = (year_counts / total * 100).round(1)\n",
    "\n",
    "# Plot\n",
    "plt.figure(figsize=(8, 5))\n",
    "ax = sns.barplot(x=year_counts.index, y=year_counts.values, palette='crest')\n",
    "\n",
    "for i, (count, pct) in enumerate(zip(year_counts.values, percentages.values)):\n",
    "    ax.text(i, count + total * 0.01, f'{pct}%', ha='center', va='bottom', fontsize=10)\n",
    "    \n",
    "plt.title('Client Tenure Distribution in Control Group')\n",
    "plt.xlabel('Tenure (Years)')\n",
    "plt.ylabel('Count')\n",
    "plt.tight_layout()\n",
    "plt.show()\n"
   ]
  },
  {
   "cell_type": "code",
<<<<<<< HEAD
   "execution_count": 318,
=======
   "execution_count": 85,
>>>>>>> b477f8597a6ea78a957d0fe22574cca83223552c
   "id": "2b38a9ba",
   "metadata": {},
   "outputs": [
    {
     "data": {
      "text/plain": [
       "array(['Unknown', 'Male', 'Female'], dtype=object)"
      ]
     },
<<<<<<< HEAD
     "execution_count": 318,
=======
     "execution_count": 85,
>>>>>>> b477f8597a6ea78a957d0fe22574cca83223552c
     "metadata": {},
     "output_type": "execute_result"
    }
   ],
   "source": [
    "df_final['gender'].unique()"
   ]
  },
  {
   "cell_type": "code",
<<<<<<< HEAD
   "execution_count": 319,
=======
   "execution_count": 86,
>>>>>>> b477f8597a6ea78a957d0fe22574cca83223552c
   "id": "58458685",
   "metadata": {},
   "outputs": [
    {
     "data": {
      "text/html": [
       "<div>\n",
       "<style scoped>\n",
       "    .dataframe tbody tr th:only-of-type {\n",
       "        vertical-align: middle;\n",
       "    }\n",
       "\n",
       "    .dataframe tbody tr th {\n",
       "        vertical-align: top;\n",
       "    }\n",
       "\n",
       "    .dataframe thead th {\n",
       "        text-align: right;\n",
       "    }\n",
       "</style>\n",
       "<table border=\"1\" class=\"dataframe\">\n",
       "  <thead>\n",
       "    <tr style=\"text-align: right;\">\n",
       "      <th>gender</th>\n",
       "      <th>Female</th>\n",
       "      <th>Male</th>\n",
       "      <th>Unknown</th>\n",
       "    </tr>\n",
       "    <tr>\n",
       "      <th>Variation</th>\n",
       "      <th></th>\n",
       "      <th></th>\n",
       "      <th></th>\n",
       "    </tr>\n",
       "  </thead>\n",
       "  <tbody>\n",
       "    <tr>\n",
       "      <th>Control</th>\n",
       "      <td>44629</td>\n",
       "      <td>47415</td>\n",
       "      <td>48438</td>\n",
       "    </tr>\n",
       "    <tr>\n",
       "      <th>Test</th>\n",
       "      <td>58169</td>\n",
       "      <td>59288</td>\n",
       "      <td>59176</td>\n",
       "    </tr>\n",
       "  </tbody>\n",
       "</table>\n",
       "</div>"
      ],
      "text/plain": [
       "gender     Female   Male  Unknown\n",
       "Variation                        \n",
       "Control     44629  47415    48438\n",
       "Test        58169  59288    59176"
      ]
     },
<<<<<<< HEAD
     "execution_count": 319,
=======
     "execution_count": 86,
>>>>>>> b477f8597a6ea78a957d0fe22574cca83223552c
     "metadata": {},
     "output_type": "execute_result"
    }
   ],
   "source": [
    "df_final.groupby(['Variation','gender']).size().unstack(fill_value=0)"
   ]
  },
  {
   "cell_type": "code",
<<<<<<< HEAD
   "execution_count": 320,
=======
   "execution_count": 87,
>>>>>>> b477f8597a6ea78a957d0fe22574cca83223552c
   "id": "8fa0b474",
   "metadata": {},
   "outputs": [],
   "source": [
    "pivot_table = pd.crosstab(df_final['Variation'],df_final['gender'])"
   ]
  },
  {
   "cell_type": "code",
<<<<<<< HEAD
   "execution_count": 321,
=======
   "execution_count": 88,
>>>>>>> b477f8597a6ea78a957d0fe22574cca83223552c
   "id": "ebf59bdf",
   "metadata": {},
   "outputs": [
    {
     "data": {
      "image/png": "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",
      "text/plain": [
       "<Figure size 800x500 with 2 Axes>"
      ]
     },
     "metadata": {},
     "output_type": "display_data"
    }
   ],
   "source": [
    "plt.figure(figsize=(8, 5))\n",
    "sns.set_theme(style='white')\n",
    "\n",
    "ax = sns.heatmap(\n",
    "    pivot_table,\n",
    "    annot=True,        # show counts\n",
    "    fmt='d',           # integer format\n",
    "    cmap='YlGnBu',     # beautiful colormap\n",
    "    linewidths=0.5,    # grid lines\n",
    "    cbar_kws={'label': 'Count'}  # color bar label\n",
    ")\n",
    "\n",
    "plt.title('Gender Distribution Heatmap by Variation', fontsize=14)\n",
    "plt.xlabel('Gender', fontsize=12)\n",
    "plt.ylabel('Variation', fontsize=12)\n",
    "plt.tight_layout()\n",
    "plt.show()"
   ]
  },
  {
   "cell_type": "markdown",
   "id": "44eb43fd",
   "metadata": {},
   "source": [
    "PERFORMANCE MATRICS"
   ]
  },
  {
   "cell_type": "markdown",
   "id": "90f90662",
   "metadata": {},
   "source": [
    "Completion Rate"
   ]
  },
  {
   "cell_type": "code",
<<<<<<< HEAD
   "execution_count": 322,
=======
   "execution_count": 89,
>>>>>>> b477f8597a6ea78a957d0fe22574cca83223552c
   "id": "b16d0f62",
   "metadata": {},
   "outputs": [
    {
     "data": {
      "text/plain": [
       "process_step\n",
       "start      101109\n",
       "step_1      68181\n",
       "step_2      56652\n",
       "step_3      48250\n",
       "confirm     42923\n",
       "Name: count, dtype: int64"
      ]
     },
<<<<<<< HEAD
     "execution_count": 322,
=======
     "execution_count": 89,
>>>>>>> b477f8597a6ea78a957d0fe22574cca83223552c
     "metadata": {},
     "output_type": "execute_result"
    }
   ],
   "source": [
    "df_final['process_step'].value_counts()"
   ]
  },
  {
   "cell_type": "code",
<<<<<<< HEAD
   "execution_count": 334,
=======
   "execution_count": 90,
>>>>>>> b477f8597a6ea78a957d0fe22574cca83223552c
   "id": "0081b2bb",
   "metadata": {},
   "outputs": [
    {
     "name": "stdout",
     "output_type": "stream",
     "text": [
      "proportion of 'confirm':13.54%\n"
     ]
    }
   ],
   "source": [
    "confirm_proportion = (df_final['process_step'] == 'confirm').mean()\n",
    "print(f\"proportion of 'confirm':{confirm_proportion:.2%}\")"
   ]
  },
  {
   "cell_type": "code",
<<<<<<< HEAD
   "execution_count": 335,
=======
   "execution_count": 91,
>>>>>>> b477f8597a6ea78a957d0fe22574cca83223552c
   "id": "a1d809e8",
   "metadata": {},
   "outputs": [
    {
     "name": "stdout",
     "output_type": "stream",
     "text": [
      "proportion of 'confirm':31.88%\n"
     ]
    }
   ],
   "source": [
    "confirm_proportion = (df_final['process_step'] == 'start').mean()\n",
    "print(f\"proportion of 'confirm':{confirm_proportion:.2%}\")"
   ]
  },
  {
   "cell_type": "code",
<<<<<<< HEAD
   "execution_count": 336,
=======
   "execution_count": 92,
>>>>>>> b477f8597a6ea78a957d0fe22574cca83223552c
   "id": "6e471eaa",
   "metadata": {},
   "outputs": [
    {
     "name": "stdout",
     "output_type": "stream",
     "text": [
      "proportion of 'confirm':21.50%\n"
     ]
    }
   ],
   "source": [
    "confirm_proportion = (df_final['process_step'] == 'step_1').mean()\n",
    "print(f\"proportion of 'confirm':{confirm_proportion:.2%}\")"
   ]
  },
  {
   "cell_type": "code",
<<<<<<< HEAD
   "execution_count": 337,
=======
   "execution_count": 93,
>>>>>>> b477f8597a6ea78a957d0fe22574cca83223552c
   "id": "6565d2ed",
   "metadata": {},
   "outputs": [
    {
     "name": "stdout",
     "output_type": "stream",
     "text": [
      "proportion of 'confirm':17.86%\n"
     ]
    }
   ],
   "source": [
    "confirm_proportion = (df_final['process_step'] == 'step_2').mean()\n",
    "print(f\"proportion of 'confirm':{confirm_proportion:.2%}\")"
   ]
  },
  {
   "cell_type": "code",
<<<<<<< HEAD
   "execution_count": 338,
=======
   "execution_count": 94,
>>>>>>> b477f8597a6ea78a957d0fe22574cca83223552c
   "id": "5d433555",
   "metadata": {},
   "outputs": [
    {
     "name": "stdout",
     "output_type": "stream",
     "text": [
      "proportion of 'confirm':15.22%\n"
     ]
    }
   ],
   "source": [
    "confirm_proportion = (df_final['process_step'] == 'step_3').mean()\n",
    "print(f\"proportion of 'confirm':{confirm_proportion:.2%}\")"
   ]
  },
  {
   "cell_type": "code",
<<<<<<< HEAD
   "execution_count": 339,
   "id": "2335d06d",
=======
   "execution_count": 98,
   "id": "4acad00e",
>>>>>>> b477f8597a6ea78a957d0fe22574cca83223552c
   "metadata": {},
   "outputs": [
    {
     "data": {
      "text/html": [
       "<div>\n",
       "<style scoped>\n",
       "    .dataframe tbody tr th:only-of-type {\n",
       "        vertical-align: middle;\n",
       "    }\n",
       "\n",
       "    .dataframe tbody tr th {\n",
       "        vertical-align: top;\n",
       "    }\n",
       "\n",
       "    .dataframe thead th {\n",
       "        text-align: right;\n",
       "    }\n",
       "</style>\n",
       "<table border=\"1\" class=\"dataframe\">\n",
       "  <thead>\n",
       "    <tr style=\"text-align: right;\">\n",
       "      <th></th>\n",
       "      <th>client_id</th>\n",
       "      <th>visitor_id</th>\n",
       "      <th>visit_id</th>\n",
       "      <th>process_step</th>\n",
       "      <th>date_time</th>\n",
       "      <th>client_tenure_year</th>\n",
       "      <th>client_tenure_month</th>\n",
       "      <th>client_age</th>\n",
       "      <th>gender</th>\n",
       "      <th>number_of_accounts</th>\n",
       "      <th>balance</th>\n",
       "      <th>calls_last_6_months</th>\n",
       "      <th>logins_last_6_months</th>\n",
       "      <th>Variation</th>\n",
       "    </tr>\n",
       "  </thead>\n",
       "  <tbody>\n",
       "    <tr>\n",
       "      <th>0</th>\n",
       "      <td>9988021</td>\n",
       "      <td>580560515_7732621733</td>\n",
       "      <td>781255054_21935453173_531117</td>\n",
       "      <td>step_3</td>\n",
       "      <td>2017-04-17 15:27:07</td>\n",
       "      <td>5</td>\n",
       "      <td>64</td>\n",
       "      <td>79.0</td>\n",
       "      <td>Unknown</td>\n",
       "      <td>2</td>\n",
       "      <td>189023.86</td>\n",
       "      <td>1</td>\n",
       "      <td>4</td>\n",
       "      <td>Test</td>\n",
       "    </tr>\n",
       "    <tr>\n",
       "      <th>1</th>\n",
       "      <td>9988021</td>\n",
       "      <td>580560515_7732621733</td>\n",
       "      <td>781255054_21935453173_531117</td>\n",
       "      <td>step_2</td>\n",
       "      <td>2017-04-17 15:26:51</td>\n",
       "      <td>5</td>\n",
       "      <td>64</td>\n",
       "      <td>79.0</td>\n",
       "      <td>Unknown</td>\n",
       "      <td>2</td>\n",
       "      <td>189023.86</td>\n",
       "      <td>1</td>\n",
       "      <td>4</td>\n",
       "      <td>Test</td>\n",
       "    </tr>\n",
       "    <tr>\n",
       "      <th>2</th>\n",
       "      <td>9988021</td>\n",
       "      <td>580560515_7732621733</td>\n",
       "      <td>781255054_21935453173_531117</td>\n",
       "      <td>step_3</td>\n",
       "      <td>2017-04-17 15:19:22</td>\n",
       "      <td>5</td>\n",
       "      <td>64</td>\n",
       "      <td>79.0</td>\n",
       "      <td>Unknown</td>\n",
       "      <td>2</td>\n",
       "      <td>189023.86</td>\n",
       "      <td>1</td>\n",
       "      <td>4</td>\n",
       "      <td>Test</td>\n",
       "    </tr>\n",
       "    <tr>\n",
       "      <th>3</th>\n",
       "      <td>9988021</td>\n",
       "      <td>580560515_7732621733</td>\n",
       "      <td>781255054_21935453173_531117</td>\n",
       "      <td>step_2</td>\n",
       "      <td>2017-04-17 15:19:13</td>\n",
       "      <td>5</td>\n",
       "      <td>64</td>\n",
       "      <td>79.0</td>\n",
       "      <td>Unknown</td>\n",
       "      <td>2</td>\n",
       "      <td>189023.86</td>\n",
       "      <td>1</td>\n",
       "      <td>4</td>\n",
       "      <td>Test</td>\n",
       "    </tr>\n",
       "    <tr>\n",
       "      <th>4</th>\n",
       "      <td>9988021</td>\n",
       "      <td>580560515_7732621733</td>\n",
       "      <td>781255054_21935453173_531117</td>\n",
       "      <td>step_3</td>\n",
       "      <td>2017-04-17 15:18:04</td>\n",
       "      <td>5</td>\n",
       "      <td>64</td>\n",
       "      <td>79.0</td>\n",
       "      <td>Unknown</td>\n",
       "      <td>2</td>\n",
       "      <td>189023.86</td>\n",
       "      <td>1</td>\n",
       "      <td>4</td>\n",
       "      <td>Test</td>\n",
       "    </tr>\n",
       "    <tr>\n",
       "      <th>...</th>\n",
       "      <td>...</td>\n",
       "      <td>...</td>\n",
       "      <td>...</td>\n",
       "      <td>...</td>\n",
       "      <td>...</td>\n",
       "      <td>...</td>\n",
       "      <td>...</td>\n",
       "      <td>...</td>\n",
       "      <td>...</td>\n",
       "      <td>...</td>\n",
       "      <td>...</td>\n",
       "      <td>...</td>\n",
       "      <td>...</td>\n",
       "      <td>...</td>\n",
       "    </tr>\n",
       "    <tr>\n",
       "      <th>317110</th>\n",
       "      <td>1574008</td>\n",
       "      <td>117364417_77840596075</td>\n",
       "      <td>528720790_71583064618_169151</td>\n",
       "      <td>start</td>\n",
       "      <td>2017-05-06 23:43:27</td>\n",
       "      <td>10</td>\n",
       "      <td>121</td>\n",
       "      <td>55.0</td>\n",
       "      <td>Unknown</td>\n",
       "      <td>2</td>\n",
       "      <td>153238.83</td>\n",
       "      <td>3</td>\n",
       "      <td>6</td>\n",
       "      <td>Test</td>\n",
       "    </tr>\n",
       "    <tr>\n",
       "      <th>317111</th>\n",
       "      <td>2908510</td>\n",
       "      <td>814969699_90652851448</td>\n",
       "      <td>562606085_36368381773_92090</td>\n",
       "      <td>start</td>\n",
       "      <td>2017-05-10 22:57:17</td>\n",
       "      <td>21</td>\n",
       "      <td>252</td>\n",
       "      <td>34.0</td>\n",
       "      <td>Male</td>\n",
       "      <td>3</td>\n",
       "      <td>141808.05</td>\n",
       "      <td>6</td>\n",
       "      <td>9</td>\n",
       "      <td>Control</td>\n",
       "    </tr>\n",
       "    <tr>\n",
       "      <th>317112</th>\n",
       "      <td>2908510</td>\n",
       "      <td>814969699_90652851448</td>\n",
       "      <td>562606085_36368381773_92090</td>\n",
       "      <td>step_2</td>\n",
       "      <td>2017-05-10 22:56:31</td>\n",
       "      <td>21</td>\n",
       "      <td>252</td>\n",
       "      <td>34.0</td>\n",
       "      <td>Male</td>\n",
       "      <td>3</td>\n",
       "      <td>141808.05</td>\n",
       "      <td>6</td>\n",
       "      <td>9</td>\n",
       "      <td>Control</td>\n",
       "    </tr>\n",
       "    <tr>\n",
       "      <th>317113</th>\n",
       "      <td>2908510</td>\n",
       "      <td>814969699_90652851448</td>\n",
       "      <td>562606085_36368381773_92090</td>\n",
       "      <td>step_1</td>\n",
       "      <td>2017-05-10 22:56:23</td>\n",
       "      <td>21</td>\n",
       "      <td>252</td>\n",
       "      <td>34.0</td>\n",
       "      <td>Male</td>\n",
       "      <td>3</td>\n",
       "      <td>141808.05</td>\n",
       "      <td>6</td>\n",
       "      <td>9</td>\n",
       "      <td>Control</td>\n",
       "    </tr>\n",
       "    <tr>\n",
       "      <th>317114</th>\n",
       "      <td>2908510</td>\n",
       "      <td>814969699_90652851448</td>\n",
       "      <td>562606085_36368381773_92090</td>\n",
       "      <td>start</td>\n",
       "      <td>2017-05-10 22:56:20</td>\n",
       "      <td>21</td>\n",
       "      <td>252</td>\n",
       "      <td>34.0</td>\n",
       "      <td>Male</td>\n",
       "      <td>3</td>\n",
       "      <td>141808.05</td>\n",
       "      <td>6</td>\n",
       "      <td>9</td>\n",
       "      <td>Control</td>\n",
       "    </tr>\n",
       "  </tbody>\n",
       "</table>\n",
       "<p>317115 rows × 14 columns</p>\n",
       "</div>"
      ],
      "text/plain": [
       "        client_id             visitor_id                      visit_id  \\\n",
       "0         9988021   580560515_7732621733  781255054_21935453173_531117   \n",
       "1         9988021   580560515_7732621733  781255054_21935453173_531117   \n",
       "2         9988021   580560515_7732621733  781255054_21935453173_531117   \n",
       "3         9988021   580560515_7732621733  781255054_21935453173_531117   \n",
       "4         9988021   580560515_7732621733  781255054_21935453173_531117   \n",
       "...           ...                    ...                           ...   \n",
       "317110    1574008  117364417_77840596075  528720790_71583064618_169151   \n",
       "317111    2908510  814969699_90652851448   562606085_36368381773_92090   \n",
       "317112    2908510  814969699_90652851448   562606085_36368381773_92090   \n",
       "317113    2908510  814969699_90652851448   562606085_36368381773_92090   \n",
       "317114    2908510  814969699_90652851448   562606085_36368381773_92090   \n",
       "\n",
       "       process_step            date_time  client_tenure_year  \\\n",
       "0            step_3  2017-04-17 15:27:07                   5   \n",
       "1            step_2  2017-04-17 15:26:51                   5   \n",
       "2            step_3  2017-04-17 15:19:22                   5   \n",
       "3            step_2  2017-04-17 15:19:13                   5   \n",
       "4            step_3  2017-04-17 15:18:04                   5   \n",
       "...             ...                  ...                 ...   \n",
       "317110        start  2017-05-06 23:43:27                  10   \n",
       "317111        start  2017-05-10 22:57:17                  21   \n",
       "317112       step_2  2017-05-10 22:56:31                  21   \n",
       "317113       step_1  2017-05-10 22:56:23                  21   \n",
       "317114        start  2017-05-10 22:56:20                  21   \n",
       "\n",
       "        client_tenure_month  client_age   gender  number_of_accounts  \\\n",
       "0                        64        79.0  Unknown                   2   \n",
       "1                        64        79.0  Unknown                   2   \n",
       "2                        64        79.0  Unknown                   2   \n",
       "3                        64        79.0  Unknown                   2   \n",
       "4                        64        79.0  Unknown                   2   \n",
       "...                     ...         ...      ...                 ...   \n",
       "317110                  121        55.0  Unknown                   2   \n",
       "317111                  252        34.0     Male                   3   \n",
       "317112                  252        34.0     Male                   3   \n",
       "317113                  252        34.0     Male                   3   \n",
       "317114                  252        34.0     Male                   3   \n",
       "\n",
       "          balance  calls_last_6_months  logins_last_6_months Variation  \n",
       "0       189023.86                    1                     4      Test  \n",
       "1       189023.86                    1                     4      Test  \n",
       "2       189023.86                    1                     4      Test  \n",
       "3       189023.86                    1                     4      Test  \n",
       "4       189023.86                    1                     4      Test  \n",
       "...           ...                  ...                   ...       ...  \n",
       "317110  153238.83                    3                     6      Test  \n",
       "317111  141808.05                    6                     9   Control  \n",
       "317112  141808.05                    6                     9   Control  \n",
       "317113  141808.05                    6                     9   Control  \n",
       "317114  141808.05                    6                     9   Control  \n",
       "\n",
       "[317115 rows x 14 columns]"
      ]
     },
     "execution_count": 98,
     "metadata": {},
     "output_type": "execute_result"
    }
   ],
   "source": [
    "df_final"
   ]
  },
  {
   "cell_type": "code",
<<<<<<< HEAD
   "execution_count": 340,
   "id": "6027ce26",
   "metadata": {},
   "outputs": [
    {
     "data": {
      "text/plain": [
       "Index(['client_id', 'visitor_id', 'visit_id', 'process_step', 'date_time',\n",
       "       'client_tenure_year', 'client_tenure_month', 'client_age', 'gender',\n",
       "       'number_of_accounts', 'balance', 'calls_last_6_months',\n",
       "       'logins_last_6_months', 'Variation'],\n",
       "      dtype='object')"
      ]
     },
     "execution_count": 340,
     "metadata": {},
     "output_type": "execute_result"
    }
   ],
   "source": [
    "df_final.columns"
   ]
  },
  {
   "cell_type": "code",
   "execution_count": 390,
   "id": "bcb2a6bd",
=======
   "execution_count": 111,
   "id": "33583a7b",
>>>>>>> b477f8597a6ea78a957d0fe22574cca83223552c
   "metadata": {},
   "outputs": [],
   "source": [
    "grouped = df_final.groupby('Variation')"
   ]
  },
  {
<<<<<<< HEAD
   "cell_type": "code",
   "execution_count": 391,
   "id": "f7f34213",
=======
   "cell_type": "markdown",
   "id": "0e7364e7",
   "metadata": {},
   "source": [
    "COMPLETION RATES:"
   ]
  },
  {
   "cell_type": "code",
   "execution_count": 112,
   "id": "55bf5598",
>>>>>>> b477f8597a6ea78a957d0fe22574cca83223552c
   "metadata": {},
   "outputs": [],
   "source": [
    "completion_rates = {}\n",
    "\n",
    "for variation_name, group in grouped:\n",
    "    total_users = group['visitor_id'].nunique()\n",
    "    completed_users = group[group['process_step'] == 'confirm']['visitor_id'].nunique()\n",
    "    completion_rate = completed_users / total_users if total_users else 0\n",
    "    completion_rates[variation_name] = {\n",
    "        'total_users': total_users,\n",
    "        'completed_users': completed_users,\n",
    "        'completion_rate': completion_rate\n",
    "    }"
   ]
  },
  {
   "cell_type": "code",
<<<<<<< HEAD
   "execution_count": 392,
   "id": "cd572d4e",
=======
   "execution_count": 113,
   "id": "a8640b7f",
>>>>>>> b477f8597a6ea78a957d0fe22574cca83223552c
   "metadata": {},
   "outputs": [
    {
     "name": "stdout",
     "output_type": "stream",
     "text": [
      "--- CONTROL ---\n",
      "Total Users: 26271\n",
      "Completed Users: 15560\n",
      "Completion Rate: 59.23%\n",
      "--- TEST ---\n",
      "Total Users: 29906\n",
      "Completed Users: 19499\n",
      "Completion Rate: 65.20%\n"
     ]
    }
   ],
   "source": [
    "for variation, stats in completion_rates.items():\n",
    "    print(f\"--- {variation.upper()} ---\")\n",
    "    print(f\"Total Users: {stats['total_users']}\")\n",
    "    print(f\"Completed Users: {stats['completed_users']}\")\n",
    "    print(f\"Completion Rate: {stats['completion_rate']:.2%}\")"
<<<<<<< HEAD
   ]
  },
  {
   "cell_type": "code",
   "execution_count": 405,
   "id": "37ea7556",
   "metadata": {},
   "outputs": [
    {
     "name": "stdout",
     "output_type": "stream",
     "text": [
      "Variation\n",
      "Control    6.303555\n",
      "Test       6.242084\n",
      "Name: logins_last_6_months, dtype: float64\n"
     ]
    }
   ],
   "source": [
    "average_logins_by_variation = df_final.groupby('Variation')['logins_last_6_months'].mean()\n",
    "print(average_logins_by_variation)"
   ]
  },
  {
   "cell_type": "code",
   "execution_count": 406,
   "id": "e66fe16c",
   "metadata": {},
   "outputs": [
    {
     "name": "stdout",
     "output_type": "stream",
     "text": [
      "The average logins in the Test group is -0.98% higher than in the Control group.\n"
     ]
    }
   ],
   "source": [
    "control_logins = average_logins_by_variation.get('Control', 0)\n",
    "test_logins = average_logins_by_variation.get('Test', 0)\n",
    "\n",
    "if control_logins > 0:\n",
    "    logins_percentage_change = ((test_logins - control_logins) / control_logins) * 100\n",
    "    print(f'The average logins in the Test group is {logins_percentage_change:.2f}% higher than in the Control group.')\n",
    "else:\n",
    "    print('Cannot compute percentage change: Control group balance is zero.')\n"
   ]
  },
  {
   "cell_type": "code",
   "execution_count": 393,
   "id": "ef9ec793",
   "metadata": {},
   "outputs": [
    {
     "name": "stdout",
     "output_type": "stream",
     "text": [
      "Average Balance by Variation:\n",
      "Variation\n",
      "Control    158890.548298\n",
      "Test       162329.116906\n",
      "Name: balance, dtype: float64\n"
     ]
    }
   ],
   "source": [
    "print('Average Balance by Variation:')\n",
    "average_balance_by_variation = df_final.groupby('Variation')['balance'].mean()\n",
    "print(average_balance_by_variation)\n"
   ]
  },
  {
   "cell_type": "code",
   "execution_count": 394,
   "id": "7a5bfed2",
   "metadata": {},
   "outputs": [
    {
     "name": "stdout",
     "output_type": "stream",
     "text": [
      "The average balance in the Test group is 2.16% higher than in the Control group.\n"
     ]
    }
   ],
   "source": [
    "control_balance = average_balance_by_variation.get('Control', 0)\n",
    "test_balance = average_balance_by_variation.get('Test', 0)\n",
    "\n",
    "if control_balance > 0:\n",
    "    balance_percentage_change = ((test_balance - control_balance) / control_balance) * 100\n",
    "    print(f'The average balance in the Test group is {balance_percentage_change:.2f}% higher than in the Control group.')\n",
    "else:\n",
    "    print(\"\\nCannot compute percentage change: Control group balance is zero.\")\n"
   ]
  },
  {
   "cell_type": "code",
   "execution_count": 396,
   "id": "5a11aac0",
   "metadata": {},
   "outputs": [
    {
     "name": "stdout",
     "output_type": "stream",
     "text": [
      "Variation\n",
      "Control    3.267693\n",
      "Test       3.201944\n",
      "Name: calls_last_6_months, dtype: float64\n"
     ]
    }
   ],
   "source": [
    "average_calls_by_variation = df_final.groupby('Variation')['calls_last_6_months'].mean()\n",
    "print(average_calls_by_variation)\n"
   ]
  },
  {
   "cell_type": "code",
   "execution_count": 397,
   "id": "0703e678",
   "metadata": {},
   "outputs": [
    {
     "name": "stdout",
     "output_type": "stream",
     "text": [
      "\n",
      "The average number of calls in the Test group is -2.01% different from the Control group.\n"
     ]
    }
   ],
   "source": [
    "control_calls = average_calls_by_variation.get('Control', 0)\n",
    "test_calls = average_calls_by_variation.get('Test', 0)\n",
    "\n",
    "if control_calls > 0:\n",
    "    calls_percentage_change = ((test_calls - control_calls) / control_calls) * 100\n",
    "    print(f\"\\nThe average number of calls in the Test group is {calls_percentage_change:.2f}% different from the Control group.\")\n",
    "else:\n",
    "    print(\"\\nControl group call rate is zero. Cannot compute percentage difference.\")\n"
   ]
  },
  {
   "cell_type": "code",
   "execution_count": 398,
   "id": "7584a0c5",
   "metadata": {},
   "outputs": [
    {
     "name": "stdout",
     "output_type": "stream",
     "text": [
      "Variation\n",
      "Control    2.272676\n",
      "Test       2.253701\n",
      "Name: number_of_accounts, dtype: float64\n"
     ]
    }
   ],
   "source": [
    "average_accounts_by_variation = df_final.groupby('Variation')['number_of_accounts'].mean()\n",
    "print(average_accounts_by_variation)"
   ]
  },
  {
   "cell_type": "code",
   "execution_count": 400,
   "id": "81b4acd9",
   "metadata": {},
   "outputs": [
    {
     "name": "stdout",
     "output_type": "stream",
     "text": [
      "The average number of accounts in the Test group is -0.83% different from the Control group.\n"
     ]
    }
   ],
   "source": [
    "control_accounts = average_accounts_by_variation.get('Control', 0)\n",
    "test_accounts = average_accounts_by_variation.get('Test', 0)\n",
    "\n",
    "if control_accounts > 0:\n",
    "    accounts_percentage_change = ((test_accounts - control_accounts) / control_accounts) * 100\n",
    "    print(f'The average number of accounts in the Test group is {accounts_percentage_change:.2f}% different from the Control group.')\n",
    "else:\n",
    "    print('Control group accounts rate is zero. Cannot compute percentage difference.')\n"
   ]
  },
  {
   "cell_type": "code",
   "execution_count": 433,
   "id": "20a1e8cf",
   "metadata": {},
   "outputs": [
    {
     "name": "stdout",
     "output_type": "stream",
     "text": [
      "         Active Login Rate (%)  Average Calls (6 months)  \\\n",
      "Control                  100.0                      3.27   \n",
      "Test                     100.0                      3.20   \n",
      "\n",
      "         Average Number of Accounts  Average balance  \n",
      "Control                        2.27        147445.24  \n",
      "Test                           2.25        147445.24  \n"
     ]
    }
   ],
   "source": [
    "kpi_summary = {}\n",
    "\n",
    "for variation_name, group in df_final.groupby('Variation'):\n",
    "    active_login_rate = (group['logins_last_6_months'] > 0).mean() * 100\n",
    "    average_calls = group['calls_last_6_months'].mean()\n",
    "    average_accounts = group['number_of_accounts'].mean()\n",
    "    avarage_balance = group['balance'].mean()\n",
    "    \n",
    "    kpi_summary[variation_name] = {\n",
    "        'Active Login Rate (%)': round(active_login_rate, 2),\n",
    "        'Average Calls (6 months)': round(average_calls, 2),\n",
    "        'Average Number of Accounts': round(average_accounts, 2),\n",
    "        'Average balance': round(average_balance, 2)\n",
    "    }\n",
    "\n",
    " \n",
    "kpi_df = pd.DataFrame(kpi_summary).T  \n",
    "print(kpi_df)\n",
    "\n"
   ]
  },
  {
   "cell_type": "code",
   "execution_count": 434,
   "id": "37b3face",
   "metadata": {},
   "outputs": [
    {
     "name": "stdout",
     "output_type": "stream",
     "text": [
      "Final KPI Table with Percentage Differences:\n",
      "                           Active Login Rate (%)  Average Calls (6 months)  \\\n",
      "Control                                    100.0                      3.27   \n",
      "Test                                       100.0                      3.20   \n",
      "Percentage Difference (%)                    0.0                     -2.14   \n",
      "\n",
      "                           Average Number of Accounts  Average balance  \n",
      "Control                                          2.27        147445.24  \n",
      "Test                                             2.25        147445.24  \n",
      "Percentage Difference (%)                       -0.88             0.00  \n"
     ]
    }
   ],
   "source": [
    "control = kpi_df.loc['Control']\n",
    "test = kpi_df.loc['Test']\n",
    "\n",
    "percentage_diff = ((test - control) / control) * 100\n",
    "percentage_diff = percentage_diff.round(2)\n",
    "percentage_diff.name = 'Percentage Difference (%)'\n",
    "\n",
    "# Step 4: Combine All into One Table\n",
    "final_kpi_df = pd.concat([kpi_df, percentage_diff.to_frame().T])\n",
    "\n",
    "print('Final KPI Table with Percentage Differences:')\n",
    "print(final_kpi_df)\n"
   ]
  },
  {
   "cell_type": "code",
   "execution_count": 427,
   "id": "f2a1c2b7",
   "metadata": {},
   "outputs": [
    {
     "name": "stdout",
     "output_type": "stream",
     "text": [
      "Index(['Active Login Rate (%)', 'Average Calls (6 months)',\n",
      "       'Average Number of Accounts', 'Average balance by variation'],\n",
      "      dtype='object')\n"
     ]
    }
   ],
   "source": [
    "print(kpi_df.columns)"
   ]
  },
  {
   "cell_type": "code",
   "execution_count": null,
   "id": "c8f79a13",
   "metadata": {},
   "outputs": [],
   "source": []
  },
  {
   "cell_type": "code",
   "execution_count": 435,
   "id": "724d5400",
   "metadata": {},
   "outputs": [
    {
     "data": {
      "image/png": "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",
      "text/plain": [
       "<Figure size 1200x600 with 1 Axes>"
      ]
     },
     "metadata": {},
     "output_type": "display_data"
    }
   ],
   "source": [
    "#Something its wrong here it was working perfectly before, but i realized that ive forgoten to include balance in KPI summary, after that just balance is showing !!!!\n",
    "import matplotlib.pyplot as plt\n",
    "import seaborn as sns\n",
    "\n",
    "plot_df = kpi_df.reset_index().melt(id_vars='index', var_name='KPI', value_name='Value')\n",
    "plot_df.rename(columns={'index': 'Group'}, inplace=True)\n",
    "\n",
    "plt.figure(figsize=(12, 6))\n",
    "sns.barplot(data=plot_df, x='KPI', y='Value', hue='Group', palette='Set2')\n",
    "\n",
    "plt.title('Key Performance Indicators (Control vs Test)')\n",
    "plt.ylabel('Value')\n",
    "plt.xlabel('KPI')\n",
    "plt.legend(title='Group')\n",
    "plt.tight_layout()\n",
    "plt.show()\n"
   ]
  },
  {
   "cell_type": "markdown",
   "id": "7e5ef15a",
   "metadata": {},
   "source": [
    "PROCESS DURATION"
   ]
  },
  {
   "cell_type": "code",
   "execution_count": null,
   "id": "02f476ab",
   "metadata": {},
   "outputs": [],
   "source": [
    "#I kept the explanition from gpt so we could see exaclty what its happeming and how its being calculate. It gave us in minutes per group TEST and CONTROL also a add a pivo t table to. better visualization\n",
    "#Regards the graphs,i did 4 where Barplot so we cpuld compare average time between both groups,Boxplot for check outliers (but tbh i dont know if is necessary, i dont think so),also Line plot just testing, ahs Heatmap so we couzld show the porcentage by goup also."
   ]
  },
  {
   "cell_type": "code",
   "execution_count": 436,
   "id": "c3ef6c46",
   "metadata": {},
   "outputs": [],
   "source": [
    "#process time\n",
    "df_final['date_time'] = pd.to_datetime(df_final['date_time'])\n"
   ]
  },
  {
   "cell_type": "code",
   "execution_count": 437,
   "id": "4a9fcb43",
   "metadata": {},
   "outputs": [],
   "source": [
    "# Sort data by visitor_id, visit_id, and date_time\n",
    "df_final = df_final.sort_values(by=['visitor_id', 'visit_id', 'date_time'])\n",
    "\n",
    "# Calculate time difference to next step within each visitor & visit group\n",
    "df_final['next_date_time'] = df_final.groupby(['visitor_id', 'visit_id'])['date_time'].shift(-1)\n",
    "\n",
    "# Calculate duration spent on each step (in seconds or minutes)\n",
    "df_final['time_spent_sec'] = (df_final['next_date_time'] - df_final['date_time']).dt.total_seconds()\n",
    "\n",
    "# Optional: Convert seconds to minutes\n",
    "df_final['time_spent_min'] = df_final['time_spent_sec'] / 60\n"
   ]
  },
  {
   "cell_type": "code",
   "execution_count": 438,
   "id": "0657a091",
   "metadata": {},
   "outputs": [
    {
     "name": "stdout",
     "output_type": "stream",
     "text": [
      "  Variation process_step  time_spent_min\n",
      "0   Control      confirm        3.003057\n",
      "1   Control        start        1.113630\n",
      "2   Control       step_1        0.842440\n",
      "3   Control       step_2        1.534210\n",
      "4   Control       step_3        2.286773\n",
      "5      Test      confirm        4.176104\n",
      "6      Test        start        1.024592\n",
      "7      Test       step_1        1.012534\n",
      "8      Test       step_2        1.481298\n",
      "9      Test       step_3        2.160344\n"
     ]
    }
   ],
   "source": [
    "avg_time_by_step_variation = df_final.groupby(['Variation', 'process_step'])['time_spent_min'].mean().reset_index()\n",
    "\n",
    "print(avg_time_by_step_variation)\n"
   ]
  },
  {
   "cell_type": "code",
   "execution_count": 439,
   "id": "69e1db84",
   "metadata": {},
   "outputs": [
    {
     "name": "stdout",
     "output_type": "stream",
     "text": [
      "Variation      Control      Test\n",
      "process_step                    \n",
      "confirm       3.003057  4.176104\n",
      "start         1.113630  1.024592\n",
      "step_1        0.842440  1.012534\n",
      "step_2        1.534210  1.481298\n",
      "step_3        2.286773  2.160344\n"
     ]
    }
   ],
   "source": [
    "pivot_table = avg_time_by_step_variation.pivot(index='process_step', columns='Variation', values='time_spent_min')\n",
    "print(pivot_table)\n"
   ]
  },
  {
   "cell_type": "code",
   "execution_count": 440,
   "id": "df767c76",
   "metadata": {},
   "outputs": [
    {
     "data": {
      "image/png": "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",
      "text/plain": [
       "<Figure size 1200x600 with 1 Axes>"
      ]
     },
     "metadata": {},
     "output_type": "display_data"
    }
   ],
   "source": [
    "import matplotlib.pyplot as plt\n",
    "import seaborn as sns\n",
    "\n",
    "plt.figure(figsize=(12,6))\n",
    "sns.barplot(data=avg_time_by_step_variation, x='process_step', y='time_spent_min', hue='Variation', palette='Set1')\n",
    "plt.title('Average Time Spent per Process Step by Variation Group (minutes)')\n",
    "plt.xticks(rotation=45)\n",
    "plt.ylabel('Average Time (minutes)')\n",
    "plt.xlabel('Process Step')\n",
    "plt.tight_layout()\n",
    "plt.show()\n"
   ]
  },
  {
   "cell_type": "code",
   "execution_count": 441,
   "id": "8b720dca",
   "metadata": {},
   "outputs": [
    {
     "data": {
      "text/plain": [
       "<Axes: xlabel='process_step', ylabel='time_spent_min'>"
      ]
     },
     "execution_count": 441,
     "metadata": {},
     "output_type": "execute_result"
    },
    {
     "data": {
      "image/png": "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",
      "text/plain": [
       "<Figure size 640x480 with 1 Axes>"
      ]
     },
     "metadata": {},
     "output_type": "display_data"
    }
   ],
   "source": [
    "sns.boxplot(data=df_final, x='process_step', y='time_spent_min', hue='Variation', palette='Dark2')\n"
   ]
  },
  {
   "cell_type": "code",
   "execution_count": 381,
   "id": "8ef88a7b",
   "metadata": {},
   "outputs": [
    {
     "data": {
      "text/plain": [
       "<Axes: xlabel='process_step', ylabel='time_spent_min'>"
      ]
     },
     "execution_count": 381,
     "metadata": {},
     "output_type": "execute_result"
    },
    {
     "data": {
      "image/png": "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",
      "text/plain": [
       "<Figure size 640x480 with 1 Axes>"
      ]
     },
     "metadata": {},
     "output_type": "display_data"
    }
   ],
   "source": [
    "sns.lineplot(data=avg_time_by_step_variation, x='process_step', y='time_spent_min', hue='Variation', marker='o')\n"
   ]
  },
  {
   "cell_type": "code",
   "execution_count": 382,
   "id": "cb501a26",
   "metadata": {},
   "outputs": [
    {
     "data": {
      "text/plain": [
       "<Axes: xlabel='Variation', ylabel='process_step'>"
      ]
     },
     "execution_count": 382,
     "metadata": {},
     "output_type": "execute_result"
    },
    {
     "data": {
      "image/png": "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",
      "text/plain": [
       "<Figure size 640x480 with 2 Axes>"
      ]
     },
     "metadata": {},
     "output_type": "display_data"
    }
   ],
   "source": [
    "sns.heatmap(percentage_table, annot=True, fmt=\".1f\", cmap='Blues')\n"
=======
>>>>>>> b477f8597a6ea78a957d0fe22574cca83223552c
   ]
  },
  {
   "cell_type": "markdown",
   "id": "ec5593fa",
   "metadata": {},
   "source": [
    "DURATION IN STEPS:"
   ]
  },
  {
   "cell_type": "code",
   "execution_count": null,
   "id": "94013deb",
   "metadata": {},
   "outputs": [],
   "source": []
  }
 ],
 "metadata": {
  "kernelspec": {
   "display_name": "base",
   "language": "python",
   "name": "python3"
  },
  "language_info": {
   "codemirror_mode": {
    "name": "ipython",
    "version": 3
   },
   "file_extension": ".py",
   "mimetype": "text/x-python",
   "name": "python",
   "nbconvert_exporter": "python",
   "pygments_lexer": "ipython3",
   "version": "3.12.7"
  }
 },
 "nbformat": 4,
 "nbformat_minor": 5
}
