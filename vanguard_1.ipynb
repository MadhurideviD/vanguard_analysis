{
 "cells": [
  {
   "cell_type": "markdown",
   "id": "965034da",
   "metadata": {},
   "source": [
    "IMPORTING ALL THE LIBRARIES"
   ]
  },
  {
   "cell_type": "code",
   "execution_count": 5,
   "id": "45c7b863",
   "metadata": {},
   "outputs": [],
   "source": [
    "import glob\n",
    "import os\n",
    "import pandas as pd\n",
    "import numpy as np\n",
    "import csv\n",
    "import matplotlib.pyplot as plt\n",
    "import seaborn as sns"
   ]
  },
  {
   "cell_type": "markdown",
   "id": "0dcc2294",
   "metadata": {},
   "source": [
    "CONVERTING TEXT FILES TO CSV FILES"
   ]
  },
  {
   "cell_type": "code",
   "execution_count": null,
   "id": "8dd6a4a1",
   "metadata": {},
   "outputs": [],
   "source": [
    "with open(r'C:\\Madhuri\\projects\\vanguard_analysis\\txt\\df_final_demo.txt.', 'r') as infile, open('df_final_demo.csv', 'w', newline='') as outfile:\n",
    "    reader = csv.reader(infile)       # reads comma-separated lines\n",
    "    writer = csv.writer(outfile)      # writes to CSV format\n",
    "\n",
    "    for row in reader:\n",
    "        clean_row = [cell.strip() for cell in row]\n",
    "        writer.writerow(clean_row)"
   ]
  },
  {
   "cell_type": "code",
   "execution_count": 7,
   "id": "b5c7dbfc",
   "metadata": {},
   "outputs": [],
   "source": [
    "df = pd.read_csv('df_final_demo.csv')"
   ]
  },
  {
   "cell_type": "code",
   "execution_count": 8,
   "id": "9cb3094d",
   "metadata": {},
   "outputs": [
    {
     "data": {
      "text/html": [
       "<div>\n",
       "<style scoped>\n",
       "    .dataframe tbody tr th:only-of-type {\n",
       "        vertical-align: middle;\n",
       "    }\n",
       "\n",
       "    .dataframe tbody tr th {\n",
       "        vertical-align: top;\n",
       "    }\n",
       "\n",
       "    .dataframe thead th {\n",
       "        text-align: right;\n",
       "    }\n",
       "</style>\n",
       "<table border=\"1\" class=\"dataframe\">\n",
       "  <thead>\n",
       "    <tr style=\"text-align: right;\">\n",
       "      <th></th>\n",
       "      <th>client_id</th>\n",
       "      <th>clnt_tenure_yr</th>\n",
       "      <th>clnt_tenure_mnth</th>\n",
       "      <th>clnt_age</th>\n",
       "      <th>gendr</th>\n",
       "      <th>num_accts</th>\n",
       "      <th>bal</th>\n",
       "      <th>calls_6_mnth</th>\n",
       "      <th>logons_6_mnth</th>\n",
       "    </tr>\n",
       "  </thead>\n",
       "  <tbody>\n",
       "    <tr>\n",
       "      <th>0</th>\n",
       "      <td>836976</td>\n",
       "      <td>6.0</td>\n",
       "      <td>73.0</td>\n",
       "      <td>60.5</td>\n",
       "      <td>U</td>\n",
       "      <td>2.0</td>\n",
       "      <td>45105.30</td>\n",
       "      <td>6.0</td>\n",
       "      <td>9.0</td>\n",
       "    </tr>\n",
       "    <tr>\n",
       "      <th>1</th>\n",
       "      <td>2304905</td>\n",
       "      <td>7.0</td>\n",
       "      <td>94.0</td>\n",
       "      <td>58.0</td>\n",
       "      <td>U</td>\n",
       "      <td>2.0</td>\n",
       "      <td>110860.30</td>\n",
       "      <td>6.0</td>\n",
       "      <td>9.0</td>\n",
       "    </tr>\n",
       "    <tr>\n",
       "      <th>2</th>\n",
       "      <td>1439522</td>\n",
       "      <td>5.0</td>\n",
       "      <td>64.0</td>\n",
       "      <td>32.0</td>\n",
       "      <td>U</td>\n",
       "      <td>2.0</td>\n",
       "      <td>52467.79</td>\n",
       "      <td>6.0</td>\n",
       "      <td>9.0</td>\n",
       "    </tr>\n",
       "    <tr>\n",
       "      <th>3</th>\n",
       "      <td>1562045</td>\n",
       "      <td>16.0</td>\n",
       "      <td>198.0</td>\n",
       "      <td>49.0</td>\n",
       "      <td>M</td>\n",
       "      <td>2.0</td>\n",
       "      <td>67454.65</td>\n",
       "      <td>3.0</td>\n",
       "      <td>6.0</td>\n",
       "    </tr>\n",
       "    <tr>\n",
       "      <th>4</th>\n",
       "      <td>5126305</td>\n",
       "      <td>12.0</td>\n",
       "      <td>145.0</td>\n",
       "      <td>33.0</td>\n",
       "      <td>F</td>\n",
       "      <td>2.0</td>\n",
       "      <td>103671.75</td>\n",
       "      <td>0.0</td>\n",
       "      <td>3.0</td>\n",
       "    </tr>\n",
       "    <tr>\n",
       "      <th>...</th>\n",
       "      <td>...</td>\n",
       "      <td>...</td>\n",
       "      <td>...</td>\n",
       "      <td>...</td>\n",
       "      <td>...</td>\n",
       "      <td>...</td>\n",
       "      <td>...</td>\n",
       "      <td>...</td>\n",
       "      <td>...</td>\n",
       "    </tr>\n",
       "    <tr>\n",
       "      <th>70604</th>\n",
       "      <td>7993686</td>\n",
       "      <td>4.0</td>\n",
       "      <td>56.0</td>\n",
       "      <td>38.5</td>\n",
       "      <td>U</td>\n",
       "      <td>3.0</td>\n",
       "      <td>1411062.68</td>\n",
       "      <td>5.0</td>\n",
       "      <td>5.0</td>\n",
       "    </tr>\n",
       "    <tr>\n",
       "      <th>70605</th>\n",
       "      <td>8981690</td>\n",
       "      <td>12.0</td>\n",
       "      <td>148.0</td>\n",
       "      <td>31.0</td>\n",
       "      <td>M</td>\n",
       "      <td>2.0</td>\n",
       "      <td>101867.07</td>\n",
       "      <td>6.0</td>\n",
       "      <td>6.0</td>\n",
       "    </tr>\n",
       "    <tr>\n",
       "      <th>70606</th>\n",
       "      <td>333913</td>\n",
       "      <td>16.0</td>\n",
       "      <td>198.0</td>\n",
       "      <td>61.5</td>\n",
       "      <td>F</td>\n",
       "      <td>2.0</td>\n",
       "      <td>40745.00</td>\n",
       "      <td>3.0</td>\n",
       "      <td>3.0</td>\n",
       "    </tr>\n",
       "    <tr>\n",
       "      <th>70607</th>\n",
       "      <td>1573142</td>\n",
       "      <td>21.0</td>\n",
       "      <td>255.0</td>\n",
       "      <td>68.0</td>\n",
       "      <td>M</td>\n",
       "      <td>3.0</td>\n",
       "      <td>475114.69</td>\n",
       "      <td>4.0</td>\n",
       "      <td>4.0</td>\n",
       "    </tr>\n",
       "    <tr>\n",
       "      <th>70608</th>\n",
       "      <td>5602139</td>\n",
       "      <td>21.0</td>\n",
       "      <td>254.0</td>\n",
       "      <td>59.5</td>\n",
       "      <td>F</td>\n",
       "      <td>3.0</td>\n",
       "      <td>157498.73</td>\n",
       "      <td>7.0</td>\n",
       "      <td>7.0</td>\n",
       "    </tr>\n",
       "  </tbody>\n",
       "</table>\n",
       "<p>70609 rows × 9 columns</p>\n",
       "</div>"
      ],
      "text/plain": [
       "       client_id  clnt_tenure_yr  clnt_tenure_mnth  clnt_age gendr  num_accts  \\\n",
       "0         836976             6.0              73.0      60.5     U        2.0   \n",
       "1        2304905             7.0              94.0      58.0     U        2.0   \n",
       "2        1439522             5.0              64.0      32.0     U        2.0   \n",
       "3        1562045            16.0             198.0      49.0     M        2.0   \n",
       "4        5126305            12.0             145.0      33.0     F        2.0   \n",
       "...          ...             ...               ...       ...   ...        ...   \n",
       "70604    7993686             4.0              56.0      38.5     U        3.0   \n",
       "70605    8981690            12.0             148.0      31.0     M        2.0   \n",
       "70606     333913            16.0             198.0      61.5     F        2.0   \n",
       "70607    1573142            21.0             255.0      68.0     M        3.0   \n",
       "70608    5602139            21.0             254.0      59.5     F        3.0   \n",
       "\n",
       "              bal  calls_6_mnth  logons_6_mnth  \n",
       "0        45105.30           6.0            9.0  \n",
       "1       110860.30           6.0            9.0  \n",
       "2        52467.79           6.0            9.0  \n",
       "3        67454.65           3.0            6.0  \n",
       "4       103671.75           0.0            3.0  \n",
       "...           ...           ...            ...  \n",
       "70604  1411062.68           5.0            5.0  \n",
       "70605   101867.07           6.0            6.0  \n",
       "70606    40745.00           3.0            3.0  \n",
       "70607   475114.69           4.0            4.0  \n",
       "70608   157498.73           7.0            7.0  \n",
       "\n",
       "[70609 rows x 9 columns]"
      ]
     },
     "execution_count": 8,
     "metadata": {},
     "output_type": "execute_result"
    }
   ],
   "source": [
    "df"
   ]
  },
  {
   "cell_type": "code",
   "execution_count": null,
   "id": "ef9993e6",
   "metadata": {},
   "outputs": [],
   "source": [
    "with open(r'C:\\Madhuri\\projects\\vanguard_analysis\\txt\\df_final_web_data_pt_1.txt.', 'r') as infile, open('df_final_web_data_pt_1.csv', 'w', newline='') as outfile:\n",
    "    reader = csv.reader(infile)       # reads comma-separated lines\n",
    "    writer = csv.writer(outfile)      # writes to CSV format\n",
    "\n",
    "    for row in reader:\n",
    "        clean_row = [cell.strip() for cell in row]\n",
    "        writer.writerow(clean_row)"
   ]
  },
  {
   "cell_type": "code",
   "execution_count": 10,
   "id": "d49e8ba0",
   "metadata": {},
   "outputs": [
    {
     "data": {
      "text/html": [
       "<div>\n",
       "<style scoped>\n",
       "    .dataframe tbody tr th:only-of-type {\n",
       "        vertical-align: middle;\n",
       "    }\n",
       "\n",
       "    .dataframe tbody tr th {\n",
       "        vertical-align: top;\n",
       "    }\n",
       "\n",
       "    .dataframe thead th {\n",
       "        text-align: right;\n",
       "    }\n",
       "</style>\n",
       "<table border=\"1\" class=\"dataframe\">\n",
       "  <thead>\n",
       "    <tr style=\"text-align: right;\">\n",
       "      <th></th>\n",
       "      <th>client_id</th>\n",
       "      <th>visitor_id</th>\n",
       "      <th>visit_id</th>\n",
       "      <th>process_step</th>\n",
       "      <th>date_time</th>\n",
       "    </tr>\n",
       "  </thead>\n",
       "  <tbody>\n",
       "    <tr>\n",
       "      <th>0</th>\n",
       "      <td>9988021</td>\n",
       "      <td>580560515_7732621733</td>\n",
       "      <td>781255054_21935453173_531117</td>\n",
       "      <td>step_3</td>\n",
       "      <td>2017-04-17 15:27:07</td>\n",
       "    </tr>\n",
       "    <tr>\n",
       "      <th>1</th>\n",
       "      <td>9988021</td>\n",
       "      <td>580560515_7732621733</td>\n",
       "      <td>781255054_21935453173_531117</td>\n",
       "      <td>step_2</td>\n",
       "      <td>2017-04-17 15:26:51</td>\n",
       "    </tr>\n",
       "    <tr>\n",
       "      <th>2</th>\n",
       "      <td>9988021</td>\n",
       "      <td>580560515_7732621733</td>\n",
       "      <td>781255054_21935453173_531117</td>\n",
       "      <td>step_3</td>\n",
       "      <td>2017-04-17 15:19:22</td>\n",
       "    </tr>\n",
       "    <tr>\n",
       "      <th>3</th>\n",
       "      <td>9988021</td>\n",
       "      <td>580560515_7732621733</td>\n",
       "      <td>781255054_21935453173_531117</td>\n",
       "      <td>step_2</td>\n",
       "      <td>2017-04-17 15:19:13</td>\n",
       "    </tr>\n",
       "    <tr>\n",
       "      <th>4</th>\n",
       "      <td>9988021</td>\n",
       "      <td>580560515_7732621733</td>\n",
       "      <td>781255054_21935453173_531117</td>\n",
       "      <td>step_3</td>\n",
       "      <td>2017-04-17 15:18:04</td>\n",
       "    </tr>\n",
       "    <tr>\n",
       "      <th>...</th>\n",
       "      <td>...</td>\n",
       "      <td>...</td>\n",
       "      <td>...</td>\n",
       "      <td>...</td>\n",
       "      <td>...</td>\n",
       "    </tr>\n",
       "    <tr>\n",
       "      <th>343136</th>\n",
       "      <td>2443347</td>\n",
       "      <td>465784886_73090545671</td>\n",
       "      <td>136329900_10529659391_316129</td>\n",
       "      <td>confirm</td>\n",
       "      <td>2017-03-31 15:15:46</td>\n",
       "    </tr>\n",
       "    <tr>\n",
       "      <th>343137</th>\n",
       "      <td>2443347</td>\n",
       "      <td>465784886_73090545671</td>\n",
       "      <td>136329900_10529659391_316129</td>\n",
       "      <td>step_3</td>\n",
       "      <td>2017-03-31 15:14:53</td>\n",
       "    </tr>\n",
       "    <tr>\n",
       "      <th>343138</th>\n",
       "      <td>2443347</td>\n",
       "      <td>465784886_73090545671</td>\n",
       "      <td>136329900_10529659391_316129</td>\n",
       "      <td>step_2</td>\n",
       "      <td>2017-03-31 15:12:08</td>\n",
       "    </tr>\n",
       "    <tr>\n",
       "      <th>343139</th>\n",
       "      <td>2443347</td>\n",
       "      <td>465784886_73090545671</td>\n",
       "      <td>136329900_10529659391_316129</td>\n",
       "      <td>step_1</td>\n",
       "      <td>2017-03-31 15:11:37</td>\n",
       "    </tr>\n",
       "    <tr>\n",
       "      <th>343140</th>\n",
       "      <td>2443347</td>\n",
       "      <td>465784886_73090545671</td>\n",
       "      <td>136329900_10529659391_316129</td>\n",
       "      <td>start</td>\n",
       "      <td>2017-03-31 15:10:47</td>\n",
       "    </tr>\n",
       "  </tbody>\n",
       "</table>\n",
       "<p>343141 rows × 5 columns</p>\n",
       "</div>"
      ],
      "text/plain": [
       "        client_id             visitor_id                      visit_id  \\\n",
       "0         9988021   580560515_7732621733  781255054_21935453173_531117   \n",
       "1         9988021   580560515_7732621733  781255054_21935453173_531117   \n",
       "2         9988021   580560515_7732621733  781255054_21935453173_531117   \n",
       "3         9988021   580560515_7732621733  781255054_21935453173_531117   \n",
       "4         9988021   580560515_7732621733  781255054_21935453173_531117   \n",
       "...           ...                    ...                           ...   \n",
       "343136    2443347  465784886_73090545671  136329900_10529659391_316129   \n",
       "343137    2443347  465784886_73090545671  136329900_10529659391_316129   \n",
       "343138    2443347  465784886_73090545671  136329900_10529659391_316129   \n",
       "343139    2443347  465784886_73090545671  136329900_10529659391_316129   \n",
       "343140    2443347  465784886_73090545671  136329900_10529659391_316129   \n",
       "\n",
       "       process_step            date_time  \n",
       "0            step_3  2017-04-17 15:27:07  \n",
       "1            step_2  2017-04-17 15:26:51  \n",
       "2            step_3  2017-04-17 15:19:22  \n",
       "3            step_2  2017-04-17 15:19:13  \n",
       "4            step_3  2017-04-17 15:18:04  \n",
       "...             ...                  ...  \n",
       "343136      confirm  2017-03-31 15:15:46  \n",
       "343137       step_3  2017-03-31 15:14:53  \n",
       "343138       step_2  2017-03-31 15:12:08  \n",
       "343139       step_1  2017-03-31 15:11:37  \n",
       "343140        start  2017-03-31 15:10:47  \n",
       "\n",
       "[343141 rows x 5 columns]"
      ]
     },
     "execution_count": 10,
     "metadata": {},
     "output_type": "execute_result"
    }
   ],
   "source": [
    "df_1 = pd.read_csv('df_final_web_data_pt_1.csv')\n",
    "df_1"
   ]
  },
  {
   "cell_type": "code",
   "execution_count": null,
   "id": "de1a5d68",
   "metadata": {},
   "outputs": [],
   "source": [
    "with open(r'C:\\Madhuri\\projects\\vanguard_analysis\\txt\\df_final_web_data_pt_2.txt.', 'r') as infile, open('df_final_web_data_pt_2.csv', 'w', newline='') as outfile:\n",
    "    reader = csv.reader(infile)       # reads comma-separated lines\n",
    "    writer = csv.writer(outfile)      # writes to CSV format\n",
    "\n",
    "    for row in reader:\n",
    "        clean_row = [cell.strip() for cell in row]\n",
    "        writer.writerow(clean_row)"
   ]
  },
  {
   "cell_type": "code",
   "execution_count": 12,
   "id": "ae58fcaf",
   "metadata": {},
   "outputs": [
    {
     "data": {
      "text/html": [
       "<div>\n",
       "<style scoped>\n",
       "    .dataframe tbody tr th:only-of-type {\n",
       "        vertical-align: middle;\n",
       "    }\n",
       "\n",
       "    .dataframe tbody tr th {\n",
       "        vertical-align: top;\n",
       "    }\n",
       "\n",
       "    .dataframe thead th {\n",
       "        text-align: right;\n",
       "    }\n",
       "</style>\n",
       "<table border=\"1\" class=\"dataframe\">\n",
       "  <thead>\n",
       "    <tr style=\"text-align: right;\">\n",
       "      <th></th>\n",
       "      <th>client_id</th>\n",
       "      <th>visitor_id</th>\n",
       "      <th>visit_id</th>\n",
       "      <th>process_step</th>\n",
       "      <th>date_time</th>\n",
       "    </tr>\n",
       "  </thead>\n",
       "  <tbody>\n",
       "    <tr>\n",
       "      <th>0</th>\n",
       "      <td>763412</td>\n",
       "      <td>601952081_10457207388</td>\n",
       "      <td>397475557_40440946728_419634</td>\n",
       "      <td>confirm</td>\n",
       "      <td>2017-06-06 08:56:00</td>\n",
       "    </tr>\n",
       "    <tr>\n",
       "      <th>1</th>\n",
       "      <td>6019349</td>\n",
       "      <td>442094451_91531546617</td>\n",
       "      <td>154620534_35331068705_522317</td>\n",
       "      <td>confirm</td>\n",
       "      <td>2017-06-01 11:59:27</td>\n",
       "    </tr>\n",
       "    <tr>\n",
       "      <th>2</th>\n",
       "      <td>6019349</td>\n",
       "      <td>442094451_91531546617</td>\n",
       "      <td>154620534_35331068705_522317</td>\n",
       "      <td>step_3</td>\n",
       "      <td>2017-06-01 11:58:48</td>\n",
       "    </tr>\n",
       "    <tr>\n",
       "      <th>3</th>\n",
       "      <td>6019349</td>\n",
       "      <td>442094451_91531546617</td>\n",
       "      <td>154620534_35331068705_522317</td>\n",
       "      <td>step_2</td>\n",
       "      <td>2017-06-01 11:58:08</td>\n",
       "    </tr>\n",
       "    <tr>\n",
       "      <th>4</th>\n",
       "      <td>6019349</td>\n",
       "      <td>442094451_91531546617</td>\n",
       "      <td>154620534_35331068705_522317</td>\n",
       "      <td>step_1</td>\n",
       "      <td>2017-06-01 11:57:58</td>\n",
       "    </tr>\n",
       "    <tr>\n",
       "      <th>...</th>\n",
       "      <td>...</td>\n",
       "      <td>...</td>\n",
       "      <td>...</td>\n",
       "      <td>...</td>\n",
       "      <td>...</td>\n",
       "    </tr>\n",
       "    <tr>\n",
       "      <th>412259</th>\n",
       "      <td>9668240</td>\n",
       "      <td>388766751_9038881013</td>\n",
       "      <td>922267647_3096648104_968866</td>\n",
       "      <td>start</td>\n",
       "      <td>2017-05-24 18:46:10</td>\n",
       "    </tr>\n",
       "    <tr>\n",
       "      <th>412260</th>\n",
       "      <td>9668240</td>\n",
       "      <td>388766751_9038881013</td>\n",
       "      <td>922267647_3096648104_968866</td>\n",
       "      <td>start</td>\n",
       "      <td>2017-05-24 18:45:29</td>\n",
       "    </tr>\n",
       "    <tr>\n",
       "      <th>412261</th>\n",
       "      <td>9668240</td>\n",
       "      <td>388766751_9038881013</td>\n",
       "      <td>922267647_3096648104_968866</td>\n",
       "      <td>step_1</td>\n",
       "      <td>2017-05-24 18:44:51</td>\n",
       "    </tr>\n",
       "    <tr>\n",
       "      <th>412262</th>\n",
       "      <td>9668240</td>\n",
       "      <td>388766751_9038881013</td>\n",
       "      <td>922267647_3096648104_968866</td>\n",
       "      <td>start</td>\n",
       "      <td>2017-05-24 18:44:34</td>\n",
       "    </tr>\n",
       "    <tr>\n",
       "      <th>412263</th>\n",
       "      <td>674799</td>\n",
       "      <td>947159805_81558194550</td>\n",
       "      <td>86152093_47511127657_716022</td>\n",
       "      <td>start</td>\n",
       "      <td>2017-06-03 12:17:09</td>\n",
       "    </tr>\n",
       "  </tbody>\n",
       "</table>\n",
       "<p>412264 rows × 5 columns</p>\n",
       "</div>"
      ],
      "text/plain": [
       "        client_id             visitor_id                      visit_id  \\\n",
       "0          763412  601952081_10457207388  397475557_40440946728_419634   \n",
       "1         6019349  442094451_91531546617  154620534_35331068705_522317   \n",
       "2         6019349  442094451_91531546617  154620534_35331068705_522317   \n",
       "3         6019349  442094451_91531546617  154620534_35331068705_522317   \n",
       "4         6019349  442094451_91531546617  154620534_35331068705_522317   \n",
       "...           ...                    ...                           ...   \n",
       "412259    9668240   388766751_9038881013   922267647_3096648104_968866   \n",
       "412260    9668240   388766751_9038881013   922267647_3096648104_968866   \n",
       "412261    9668240   388766751_9038881013   922267647_3096648104_968866   \n",
       "412262    9668240   388766751_9038881013   922267647_3096648104_968866   \n",
       "412263     674799  947159805_81558194550   86152093_47511127657_716022   \n",
       "\n",
       "       process_step            date_time  \n",
       "0           confirm  2017-06-06 08:56:00  \n",
       "1           confirm  2017-06-01 11:59:27  \n",
       "2            step_3  2017-06-01 11:58:48  \n",
       "3            step_2  2017-06-01 11:58:08  \n",
       "4            step_1  2017-06-01 11:57:58  \n",
       "...             ...                  ...  \n",
       "412259        start  2017-05-24 18:46:10  \n",
       "412260        start  2017-05-24 18:45:29  \n",
       "412261       step_1  2017-05-24 18:44:51  \n",
       "412262        start  2017-05-24 18:44:34  \n",
       "412263        start  2017-06-03 12:17:09  \n",
       "\n",
       "[412264 rows x 5 columns]"
      ]
     },
     "execution_count": 12,
     "metadata": {},
     "output_type": "execute_result"
    }
   ],
   "source": [
    "df_2 = pd.read_csv('df_final_web_data_pt_2.csv')\n",
    "df_2"
   ]
  },
  {
   "cell_type": "code",
   "execution_count": null,
   "id": "32fd6ece",
   "metadata": {},
   "outputs": [],
   "source": [
    "with open(r'C:\\Madhuri\\projects\\vanguard_analysis\\txt\\df_final_experiment_clients.txt.', 'r') as infile, open('df_final_experiment_clients.txt.csv', 'w', newline='') as outfile:\n",
    "    reader = csv.reader(infile)       # reads comma-separated lines\n",
    "    writer = csv.writer(outfile)      # writes to CSV format\n",
    "\n",
    "    for row in reader:\n",
    "        clean_row = [cell.strip() for cell in row]\n",
    "        writer.writerow(clean_row)"
   ]
  },
  {
   "cell_type": "code",
   "execution_count": 14,
   "id": "fb22467f",
   "metadata": {},
   "outputs": [
    {
     "data": {
      "text/html": [
       "<div>\n",
       "<style scoped>\n",
       "    .dataframe tbody tr th:only-of-type {\n",
       "        vertical-align: middle;\n",
       "    }\n",
       "\n",
       "    .dataframe tbody tr th {\n",
       "        vertical-align: top;\n",
       "    }\n",
       "\n",
       "    .dataframe thead th {\n",
       "        text-align: right;\n",
       "    }\n",
       "</style>\n",
       "<table border=\"1\" class=\"dataframe\">\n",
       "  <thead>\n",
       "    <tr style=\"text-align: right;\">\n",
       "      <th></th>\n",
       "      <th>client_id</th>\n",
       "      <th>Variation</th>\n",
       "    </tr>\n",
       "  </thead>\n",
       "  <tbody>\n",
       "    <tr>\n",
       "      <th>0</th>\n",
       "      <td>9988021</td>\n",
       "      <td>Test</td>\n",
       "    </tr>\n",
       "    <tr>\n",
       "      <th>1</th>\n",
       "      <td>8320017</td>\n",
       "      <td>Test</td>\n",
       "    </tr>\n",
       "    <tr>\n",
       "      <th>2</th>\n",
       "      <td>4033851</td>\n",
       "      <td>Control</td>\n",
       "    </tr>\n",
       "    <tr>\n",
       "      <th>3</th>\n",
       "      <td>1982004</td>\n",
       "      <td>Test</td>\n",
       "    </tr>\n",
       "    <tr>\n",
       "      <th>4</th>\n",
       "      <td>9294070</td>\n",
       "      <td>Control</td>\n",
       "    </tr>\n",
       "    <tr>\n",
       "      <th>...</th>\n",
       "      <td>...</td>\n",
       "      <td>...</td>\n",
       "    </tr>\n",
       "    <tr>\n",
       "      <th>70604</th>\n",
       "      <td>2443347</td>\n",
       "      <td>NaN</td>\n",
       "    </tr>\n",
       "    <tr>\n",
       "      <th>70605</th>\n",
       "      <td>8788427</td>\n",
       "      <td>NaN</td>\n",
       "    </tr>\n",
       "    <tr>\n",
       "      <th>70606</th>\n",
       "      <td>266828</td>\n",
       "      <td>NaN</td>\n",
       "    </tr>\n",
       "    <tr>\n",
       "      <th>70607</th>\n",
       "      <td>1266421</td>\n",
       "      <td>NaN</td>\n",
       "    </tr>\n",
       "    <tr>\n",
       "      <th>70608</th>\n",
       "      <td>9895983</td>\n",
       "      <td>NaN</td>\n",
       "    </tr>\n",
       "  </tbody>\n",
       "</table>\n",
       "<p>70609 rows × 2 columns</p>\n",
       "</div>"
      ],
      "text/plain": [
       "       client_id Variation\n",
       "0        9988021      Test\n",
       "1        8320017      Test\n",
       "2        4033851   Control\n",
       "3        1982004      Test\n",
       "4        9294070   Control\n",
       "...          ...       ...\n",
       "70604    2443347       NaN\n",
       "70605    8788427       NaN\n",
       "70606     266828       NaN\n",
       "70607    1266421       NaN\n",
       "70608    9895983       NaN\n",
       "\n",
       "[70609 rows x 2 columns]"
      ]
     },
     "execution_count": 14,
     "metadata": {},
     "output_type": "execute_result"
    }
   ],
   "source": [
    "df_experiment = pd.read_csv('df_final_experiment_clients.txt.csv')\n",
    "df_experiment"
   ]
  },
  {
   "cell_type": "markdown",
   "id": "f2d5a36c",
   "metadata": {},
   "source": [
    "DATA CLEANING"
   ]
  },
  {
   "cell_type": "code",
   "execution_count": 15,
   "id": "9ed2bf1d",
   "metadata": {},
   "outputs": [
    {
     "data": {
      "text/html": [
       "<div>\n",
       "<style scoped>\n",
       "    .dataframe tbody tr th:only-of-type {\n",
       "        vertical-align: middle;\n",
       "    }\n",
       "\n",
       "    .dataframe tbody tr th {\n",
       "        vertical-align: top;\n",
       "    }\n",
       "\n",
       "    .dataframe thead th {\n",
       "        text-align: right;\n",
       "    }\n",
       "</style>\n",
       "<table border=\"1\" class=\"dataframe\">\n",
       "  <thead>\n",
       "    <tr style=\"text-align: right;\">\n",
       "      <th></th>\n",
       "      <th>client_id</th>\n",
       "      <th>clnt_tenure_yr</th>\n",
       "      <th>clnt_tenure_mnth</th>\n",
       "      <th>clnt_age</th>\n",
       "      <th>gendr</th>\n",
       "      <th>num_accts</th>\n",
       "      <th>bal</th>\n",
       "      <th>calls_6_mnth</th>\n",
       "      <th>logons_6_mnth</th>\n",
       "    </tr>\n",
       "  </thead>\n",
       "  <tbody>\n",
       "    <tr>\n",
       "      <th>0</th>\n",
       "      <td>836976</td>\n",
       "      <td>6.0</td>\n",
       "      <td>73.0</td>\n",
       "      <td>60.5</td>\n",
       "      <td>U</td>\n",
       "      <td>2.0</td>\n",
       "      <td>45105.30</td>\n",
       "      <td>6.0</td>\n",
       "      <td>9.0</td>\n",
       "    </tr>\n",
       "    <tr>\n",
       "      <th>1</th>\n",
       "      <td>2304905</td>\n",
       "      <td>7.0</td>\n",
       "      <td>94.0</td>\n",
       "      <td>58.0</td>\n",
       "      <td>U</td>\n",
       "      <td>2.0</td>\n",
       "      <td>110860.30</td>\n",
       "      <td>6.0</td>\n",
       "      <td>9.0</td>\n",
       "    </tr>\n",
       "    <tr>\n",
       "      <th>2</th>\n",
       "      <td>1439522</td>\n",
       "      <td>5.0</td>\n",
       "      <td>64.0</td>\n",
       "      <td>32.0</td>\n",
       "      <td>U</td>\n",
       "      <td>2.0</td>\n",
       "      <td>52467.79</td>\n",
       "      <td>6.0</td>\n",
       "      <td>9.0</td>\n",
       "    </tr>\n",
       "    <tr>\n",
       "      <th>3</th>\n",
       "      <td>1562045</td>\n",
       "      <td>16.0</td>\n",
       "      <td>198.0</td>\n",
       "      <td>49.0</td>\n",
       "      <td>M</td>\n",
       "      <td>2.0</td>\n",
       "      <td>67454.65</td>\n",
       "      <td>3.0</td>\n",
       "      <td>6.0</td>\n",
       "    </tr>\n",
       "    <tr>\n",
       "      <th>4</th>\n",
       "      <td>5126305</td>\n",
       "      <td>12.0</td>\n",
       "      <td>145.0</td>\n",
       "      <td>33.0</td>\n",
       "      <td>F</td>\n",
       "      <td>2.0</td>\n",
       "      <td>103671.75</td>\n",
       "      <td>0.0</td>\n",
       "      <td>3.0</td>\n",
       "    </tr>\n",
       "    <tr>\n",
       "      <th>...</th>\n",
       "      <td>...</td>\n",
       "      <td>...</td>\n",
       "      <td>...</td>\n",
       "      <td>...</td>\n",
       "      <td>...</td>\n",
       "      <td>...</td>\n",
       "      <td>...</td>\n",
       "      <td>...</td>\n",
       "      <td>...</td>\n",
       "    </tr>\n",
       "    <tr>\n",
       "      <th>70604</th>\n",
       "      <td>7993686</td>\n",
       "      <td>4.0</td>\n",
       "      <td>56.0</td>\n",
       "      <td>38.5</td>\n",
       "      <td>U</td>\n",
       "      <td>3.0</td>\n",
       "      <td>1411062.68</td>\n",
       "      <td>5.0</td>\n",
       "      <td>5.0</td>\n",
       "    </tr>\n",
       "    <tr>\n",
       "      <th>70605</th>\n",
       "      <td>8981690</td>\n",
       "      <td>12.0</td>\n",
       "      <td>148.0</td>\n",
       "      <td>31.0</td>\n",
       "      <td>M</td>\n",
       "      <td>2.0</td>\n",
       "      <td>101867.07</td>\n",
       "      <td>6.0</td>\n",
       "      <td>6.0</td>\n",
       "    </tr>\n",
       "    <tr>\n",
       "      <th>70606</th>\n",
       "      <td>333913</td>\n",
       "      <td>16.0</td>\n",
       "      <td>198.0</td>\n",
       "      <td>61.5</td>\n",
       "      <td>F</td>\n",
       "      <td>2.0</td>\n",
       "      <td>40745.00</td>\n",
       "      <td>3.0</td>\n",
       "      <td>3.0</td>\n",
       "    </tr>\n",
       "    <tr>\n",
       "      <th>70607</th>\n",
       "      <td>1573142</td>\n",
       "      <td>21.0</td>\n",
       "      <td>255.0</td>\n",
       "      <td>68.0</td>\n",
       "      <td>M</td>\n",
       "      <td>3.0</td>\n",
       "      <td>475114.69</td>\n",
       "      <td>4.0</td>\n",
       "      <td>4.0</td>\n",
       "    </tr>\n",
       "    <tr>\n",
       "      <th>70608</th>\n",
       "      <td>5602139</td>\n",
       "      <td>21.0</td>\n",
       "      <td>254.0</td>\n",
       "      <td>59.5</td>\n",
       "      <td>F</td>\n",
       "      <td>3.0</td>\n",
       "      <td>157498.73</td>\n",
       "      <td>7.0</td>\n",
       "      <td>7.0</td>\n",
       "    </tr>\n",
       "  </tbody>\n",
       "</table>\n",
       "<p>70609 rows × 9 columns</p>\n",
       "</div>"
      ],
      "text/plain": [
       "       client_id  clnt_tenure_yr  clnt_tenure_mnth  clnt_age gendr  num_accts  \\\n",
       "0         836976             6.0              73.0      60.5     U        2.0   \n",
       "1        2304905             7.0              94.0      58.0     U        2.0   \n",
       "2        1439522             5.0              64.0      32.0     U        2.0   \n",
       "3        1562045            16.0             198.0      49.0     M        2.0   \n",
       "4        5126305            12.0             145.0      33.0     F        2.0   \n",
       "...          ...             ...               ...       ...   ...        ...   \n",
       "70604    7993686             4.0              56.0      38.5     U        3.0   \n",
       "70605    8981690            12.0             148.0      31.0     M        2.0   \n",
       "70606     333913            16.0             198.0      61.5     F        2.0   \n",
       "70607    1573142            21.0             255.0      68.0     M        3.0   \n",
       "70608    5602139            21.0             254.0      59.5     F        3.0   \n",
       "\n",
       "              bal  calls_6_mnth  logons_6_mnth  \n",
       "0        45105.30           6.0            9.0  \n",
       "1       110860.30           6.0            9.0  \n",
       "2        52467.79           6.0            9.0  \n",
       "3        67454.65           3.0            6.0  \n",
       "4       103671.75           0.0            3.0  \n",
       "...           ...           ...            ...  \n",
       "70604  1411062.68           5.0            5.0  \n",
       "70605   101867.07           6.0            6.0  \n",
       "70606    40745.00           3.0            3.0  \n",
       "70607   475114.69           4.0            4.0  \n",
       "70608   157498.73           7.0            7.0  \n",
       "\n",
       "[70609 rows x 9 columns]"
      ]
     },
     "execution_count": 15,
     "metadata": {},
     "output_type": "execute_result"
    }
   ],
   "source": [
    "df"
   ]
  },
  {
   "cell_type": "code",
   "execution_count": 16,
   "id": "773ffa9e",
   "metadata": {},
   "outputs": [
    {
     "data": {
      "text/plain": [
       "Index(['client_id', 'clnt_tenure_yr', 'clnt_tenure_mnth', 'clnt_age', 'gendr',\n",
       "       'num_accts', 'bal', 'calls_6_mnth', 'logons_6_mnth'],\n",
       "      dtype='object')"
      ]
     },
     "execution_count": 16,
     "metadata": {},
     "output_type": "execute_result"
    }
   ],
   "source": [
    "df.columns"
   ]
  },
  {
   "cell_type": "markdown",
   "id": "9ae3eab8",
   "metadata": {},
   "source": [
    "RENAMING THE COLUMN FOR BETTER READING"
   ]
  },
  {
   "cell_type": "code",
   "execution_count": 17,
   "id": "9fc52109",
   "metadata": {},
   "outputs": [],
   "source": [
    "df.rename(columns={\n",
    "    'client_id' : 'client_id',\n",
    "    'clnt_tenure_yr' : 'client_tenure_year',\n",
    "    'clnt_tenure_mnth' : 'client_tenure_month',\n",
    "    'clnt_age' : 'client_age',\n",
    "    'gendr' : 'gender',\n",
    "    'num_accts' : 'number_of_accounts',\n",
    "    'bal' : 'balance',\n",
    "    'calls_6_mnth' : 'calls_last_6_months',\n",
    "    'logons_6_mnth' : 'logins_last_6_months',\n",
    "},inplace=True)"
   ]
  },
  {
   "cell_type": "code",
   "execution_count": 18,
   "id": "41888ef6",
   "metadata": {},
   "outputs": [
    {
     "data": {
      "text/plain": [
       "Index(['client_id', 'client_tenure_year', 'client_tenure_month', 'client_age',\n",
       "       'gender', 'number_of_accounts', 'balance', 'calls_last_6_months',\n",
       "       'logins_last_6_months'],\n",
       "      dtype='object')"
      ]
     },
     "execution_count": 18,
     "metadata": {},
     "output_type": "execute_result"
    }
   ],
   "source": [
    "df.columns"
   ]
  },
  {
   "cell_type": "markdown",
   "id": "300f67b0",
   "metadata": {},
   "source": [
    "CHECKING FOR NULL VALUES"
   ]
  },
  {
   "cell_type": "code",
   "execution_count": 19,
   "id": "dd9cfa91",
   "metadata": {},
   "outputs": [
    {
     "data": {
      "text/plain": [
       "client_id                0\n",
       "client_tenure_year      14\n",
       "client_tenure_month     14\n",
       "client_age              15\n",
       "gender                  14\n",
       "number_of_accounts      14\n",
       "balance                 14\n",
       "calls_last_6_months     14\n",
       "logins_last_6_months    14\n",
       "dtype: int64"
      ]
     },
     "execution_count": 19,
     "metadata": {},
     "output_type": "execute_result"
    }
   ],
   "source": [
    "df.isna().sum()\n"
   ]
  },
  {
   "cell_type": "code",
   "execution_count": 20,
   "id": "3407fc4c",
   "metadata": {},
   "outputs": [
    {
     "data": {
      "text/html": [
       "<div>\n",
       "<style scoped>\n",
       "    .dataframe tbody tr th:only-of-type {\n",
       "        vertical-align: middle;\n",
       "    }\n",
       "\n",
       "    .dataframe tbody tr th {\n",
       "        vertical-align: top;\n",
       "    }\n",
       "\n",
       "    .dataframe thead th {\n",
       "        text-align: right;\n",
       "    }\n",
       "</style>\n",
       "<table border=\"1\" class=\"dataframe\">\n",
       "  <thead>\n",
       "    <tr style=\"text-align: right;\">\n",
       "      <th></th>\n",
       "      <th>client_id</th>\n",
       "      <th>client_tenure_year</th>\n",
       "      <th>client_tenure_month</th>\n",
       "      <th>client_age</th>\n",
       "      <th>gender</th>\n",
       "      <th>number_of_accounts</th>\n",
       "      <th>balance</th>\n",
       "      <th>calls_last_6_months</th>\n",
       "      <th>logins_last_6_months</th>\n",
       "    </tr>\n",
       "  </thead>\n",
       "  <tbody>\n",
       "    <tr>\n",
       "      <th>4164</th>\n",
       "      <td>7402828</td>\n",
       "      <td>NaN</td>\n",
       "      <td>NaN</td>\n",
       "      <td>NaN</td>\n",
       "      <td>NaN</td>\n",
       "      <td>NaN</td>\n",
       "      <td>NaN</td>\n",
       "      <td>NaN</td>\n",
       "      <td>NaN</td>\n",
       "    </tr>\n",
       "    <tr>\n",
       "      <th>8316</th>\n",
       "      <td>355337</td>\n",
       "      <td>NaN</td>\n",
       "      <td>NaN</td>\n",
       "      <td>NaN</td>\n",
       "      <td>NaN</td>\n",
       "      <td>NaN</td>\n",
       "      <td>NaN</td>\n",
       "      <td>NaN</td>\n",
       "      <td>NaN</td>\n",
       "    </tr>\n",
       "    <tr>\n",
       "      <th>8677</th>\n",
       "      <td>8412164</td>\n",
       "      <td>NaN</td>\n",
       "      <td>NaN</td>\n",
       "      <td>NaN</td>\n",
       "      <td>NaN</td>\n",
       "      <td>NaN</td>\n",
       "      <td>NaN</td>\n",
       "      <td>NaN</td>\n",
       "      <td>NaN</td>\n",
       "    </tr>\n",
       "    <tr>\n",
       "      <th>13444</th>\n",
       "      <td>2222915</td>\n",
       "      <td>NaN</td>\n",
       "      <td>NaN</td>\n",
       "      <td>NaN</td>\n",
       "      <td>NaN</td>\n",
       "      <td>NaN</td>\n",
       "      <td>NaN</td>\n",
       "      <td>NaN</td>\n",
       "      <td>NaN</td>\n",
       "    </tr>\n",
       "    <tr>\n",
       "      <th>18066</th>\n",
       "      <td>4876926</td>\n",
       "      <td>NaN</td>\n",
       "      <td>NaN</td>\n",
       "      <td>NaN</td>\n",
       "      <td>NaN</td>\n",
       "      <td>NaN</td>\n",
       "      <td>NaN</td>\n",
       "      <td>NaN</td>\n",
       "      <td>NaN</td>\n",
       "    </tr>\n",
       "    <tr>\n",
       "      <th>25961</th>\n",
       "      <td>5277910</td>\n",
       "      <td>NaN</td>\n",
       "      <td>NaN</td>\n",
       "      <td>NaN</td>\n",
       "      <td>NaN</td>\n",
       "      <td>NaN</td>\n",
       "      <td>NaN</td>\n",
       "      <td>NaN</td>\n",
       "      <td>NaN</td>\n",
       "    </tr>\n",
       "    <tr>\n",
       "      <th>28432</th>\n",
       "      <td>7616759</td>\n",
       "      <td>NaN</td>\n",
       "      <td>NaN</td>\n",
       "      <td>NaN</td>\n",
       "      <td>NaN</td>\n",
       "      <td>NaN</td>\n",
       "      <td>NaN</td>\n",
       "      <td>NaN</td>\n",
       "      <td>NaN</td>\n",
       "    </tr>\n",
       "    <tr>\n",
       "      <th>35323</th>\n",
       "      <td>8191345</td>\n",
       "      <td>NaN</td>\n",
       "      <td>NaN</td>\n",
       "      <td>NaN</td>\n",
       "      <td>NaN</td>\n",
       "      <td>NaN</td>\n",
       "      <td>NaN</td>\n",
       "      <td>NaN</td>\n",
       "      <td>NaN</td>\n",
       "    </tr>\n",
       "    <tr>\n",
       "      <th>43518</th>\n",
       "      <td>1227228</td>\n",
       "      <td>NaN</td>\n",
       "      <td>NaN</td>\n",
       "      <td>NaN</td>\n",
       "      <td>NaN</td>\n",
       "      <td>NaN</td>\n",
       "      <td>NaN</td>\n",
       "      <td>NaN</td>\n",
       "      <td>NaN</td>\n",
       "    </tr>\n",
       "    <tr>\n",
       "      <th>46076</th>\n",
       "      <td>8611797</td>\n",
       "      <td>NaN</td>\n",
       "      <td>NaN</td>\n",
       "      <td>NaN</td>\n",
       "      <td>NaN</td>\n",
       "      <td>NaN</td>\n",
       "      <td>NaN</td>\n",
       "      <td>NaN</td>\n",
       "      <td>NaN</td>\n",
       "    </tr>\n",
       "    <tr>\n",
       "      <th>47189</th>\n",
       "      <td>5144725</td>\n",
       "      <td>NaN</td>\n",
       "      <td>NaN</td>\n",
       "      <td>NaN</td>\n",
       "      <td>NaN</td>\n",
       "      <td>NaN</td>\n",
       "      <td>NaN</td>\n",
       "      <td>NaN</td>\n",
       "      <td>NaN</td>\n",
       "    </tr>\n",
       "    <tr>\n",
       "      <th>49846</th>\n",
       "      <td>1037867</td>\n",
       "      <td>NaN</td>\n",
       "      <td>NaN</td>\n",
       "      <td>NaN</td>\n",
       "      <td>NaN</td>\n",
       "      <td>NaN</td>\n",
       "      <td>NaN</td>\n",
       "      <td>NaN</td>\n",
       "      <td>NaN</td>\n",
       "    </tr>\n",
       "    <tr>\n",
       "      <th>63701</th>\n",
       "      <td>1618749</td>\n",
       "      <td>NaN</td>\n",
       "      <td>NaN</td>\n",
       "      <td>NaN</td>\n",
       "      <td>NaN</td>\n",
       "      <td>NaN</td>\n",
       "      <td>NaN</td>\n",
       "      <td>NaN</td>\n",
       "      <td>NaN</td>\n",
       "    </tr>\n",
       "    <tr>\n",
       "      <th>66219</th>\n",
       "      <td>6021001</td>\n",
       "      <td>NaN</td>\n",
       "      <td>NaN</td>\n",
       "      <td>NaN</td>\n",
       "      <td>NaN</td>\n",
       "      <td>NaN</td>\n",
       "      <td>NaN</td>\n",
       "      <td>NaN</td>\n",
       "      <td>NaN</td>\n",
       "    </tr>\n",
       "  </tbody>\n",
       "</table>\n",
       "</div>"
      ],
      "text/plain": [
       "       client_id  client_tenure_year  client_tenure_month  client_age gender  \\\n",
       "4164     7402828                 NaN                  NaN         NaN    NaN   \n",
       "8316      355337                 NaN                  NaN         NaN    NaN   \n",
       "8677     8412164                 NaN                  NaN         NaN    NaN   \n",
       "13444    2222915                 NaN                  NaN         NaN    NaN   \n",
       "18066    4876926                 NaN                  NaN         NaN    NaN   \n",
       "25961    5277910                 NaN                  NaN         NaN    NaN   \n",
       "28432    7616759                 NaN                  NaN         NaN    NaN   \n",
       "35323    8191345                 NaN                  NaN         NaN    NaN   \n",
       "43518    1227228                 NaN                  NaN         NaN    NaN   \n",
       "46076    8611797                 NaN                  NaN         NaN    NaN   \n",
       "47189    5144725                 NaN                  NaN         NaN    NaN   \n",
       "49846    1037867                 NaN                  NaN         NaN    NaN   \n",
       "63701    1618749                 NaN                  NaN         NaN    NaN   \n",
       "66219    6021001                 NaN                  NaN         NaN    NaN   \n",
       "\n",
       "       number_of_accounts  balance  calls_last_6_months  logins_last_6_months  \n",
       "4164                  NaN      NaN                  NaN                   NaN  \n",
       "8316                  NaN      NaN                  NaN                   NaN  \n",
       "8677                  NaN      NaN                  NaN                   NaN  \n",
       "13444                 NaN      NaN                  NaN                   NaN  \n",
       "18066                 NaN      NaN                  NaN                   NaN  \n",
       "25961                 NaN      NaN                  NaN                   NaN  \n",
       "28432                 NaN      NaN                  NaN                   NaN  \n",
       "35323                 NaN      NaN                  NaN                   NaN  \n",
       "43518                 NaN      NaN                  NaN                   NaN  \n",
       "46076                 NaN      NaN                  NaN                   NaN  \n",
       "47189                 NaN      NaN                  NaN                   NaN  \n",
       "49846                 NaN      NaN                  NaN                   NaN  \n",
       "63701                 NaN      NaN                  NaN                   NaN  \n",
       "66219                 NaN      NaN                  NaN                   NaN  "
      ]
     },
     "execution_count": 20,
     "metadata": {},
     "output_type": "execute_result"
    }
   ],
   "source": [
    "df[df['client_tenure_year'].isna()]"
   ]
  },
  {
   "cell_type": "code",
   "execution_count": 21,
   "id": "cd505a28",
   "metadata": {},
   "outputs": [],
   "source": [
    "df_droped = df.dropna(subset='client_tenure_year')"
   ]
  },
  {
   "cell_type": "code",
   "execution_count": 22,
   "id": "865006ae",
   "metadata": {},
   "outputs": [
    {
     "data": {
      "text/html": [
       "<div>\n",
       "<style scoped>\n",
       "    .dataframe tbody tr th:only-of-type {\n",
       "        vertical-align: middle;\n",
       "    }\n",
       "\n",
       "    .dataframe tbody tr th {\n",
       "        vertical-align: top;\n",
       "    }\n",
       "\n",
       "    .dataframe thead th {\n",
       "        text-align: right;\n",
       "    }\n",
       "</style>\n",
       "<table border=\"1\" class=\"dataframe\">\n",
       "  <thead>\n",
       "    <tr style=\"text-align: right;\">\n",
       "      <th></th>\n",
       "      <th>client_id</th>\n",
       "      <th>client_tenure_year</th>\n",
       "      <th>client_tenure_month</th>\n",
       "      <th>client_age</th>\n",
       "      <th>gender</th>\n",
       "      <th>number_of_accounts</th>\n",
       "      <th>balance</th>\n",
       "      <th>calls_last_6_months</th>\n",
       "      <th>logins_last_6_months</th>\n",
       "    </tr>\n",
       "  </thead>\n",
       "  <tbody>\n",
       "    <tr>\n",
       "      <th>0</th>\n",
       "      <td>836976</td>\n",
       "      <td>6.0</td>\n",
       "      <td>73.0</td>\n",
       "      <td>60.5</td>\n",
       "      <td>U</td>\n",
       "      <td>2.0</td>\n",
       "      <td>45105.30</td>\n",
       "      <td>6.0</td>\n",
       "      <td>9.0</td>\n",
       "    </tr>\n",
       "    <tr>\n",
       "      <th>1</th>\n",
       "      <td>2304905</td>\n",
       "      <td>7.0</td>\n",
       "      <td>94.0</td>\n",
       "      <td>58.0</td>\n",
       "      <td>U</td>\n",
       "      <td>2.0</td>\n",
       "      <td>110860.30</td>\n",
       "      <td>6.0</td>\n",
       "      <td>9.0</td>\n",
       "    </tr>\n",
       "    <tr>\n",
       "      <th>2</th>\n",
       "      <td>1439522</td>\n",
       "      <td>5.0</td>\n",
       "      <td>64.0</td>\n",
       "      <td>32.0</td>\n",
       "      <td>U</td>\n",
       "      <td>2.0</td>\n",
       "      <td>52467.79</td>\n",
       "      <td>6.0</td>\n",
       "      <td>9.0</td>\n",
       "    </tr>\n",
       "    <tr>\n",
       "      <th>3</th>\n",
       "      <td>1562045</td>\n",
       "      <td>16.0</td>\n",
       "      <td>198.0</td>\n",
       "      <td>49.0</td>\n",
       "      <td>M</td>\n",
       "      <td>2.0</td>\n",
       "      <td>67454.65</td>\n",
       "      <td>3.0</td>\n",
       "      <td>6.0</td>\n",
       "    </tr>\n",
       "    <tr>\n",
       "      <th>4</th>\n",
       "      <td>5126305</td>\n",
       "      <td>12.0</td>\n",
       "      <td>145.0</td>\n",
       "      <td>33.0</td>\n",
       "      <td>F</td>\n",
       "      <td>2.0</td>\n",
       "      <td>103671.75</td>\n",
       "      <td>0.0</td>\n",
       "      <td>3.0</td>\n",
       "    </tr>\n",
       "    <tr>\n",
       "      <th>...</th>\n",
       "      <td>...</td>\n",
       "      <td>...</td>\n",
       "      <td>...</td>\n",
       "      <td>...</td>\n",
       "      <td>...</td>\n",
       "      <td>...</td>\n",
       "      <td>...</td>\n",
       "      <td>...</td>\n",
       "      <td>...</td>\n",
       "    </tr>\n",
       "    <tr>\n",
       "      <th>70604</th>\n",
       "      <td>7993686</td>\n",
       "      <td>4.0</td>\n",
       "      <td>56.0</td>\n",
       "      <td>38.5</td>\n",
       "      <td>U</td>\n",
       "      <td>3.0</td>\n",
       "      <td>1411062.68</td>\n",
       "      <td>5.0</td>\n",
       "      <td>5.0</td>\n",
       "    </tr>\n",
       "    <tr>\n",
       "      <th>70605</th>\n",
       "      <td>8981690</td>\n",
       "      <td>12.0</td>\n",
       "      <td>148.0</td>\n",
       "      <td>31.0</td>\n",
       "      <td>M</td>\n",
       "      <td>2.0</td>\n",
       "      <td>101867.07</td>\n",
       "      <td>6.0</td>\n",
       "      <td>6.0</td>\n",
       "    </tr>\n",
       "    <tr>\n",
       "      <th>70606</th>\n",
       "      <td>333913</td>\n",
       "      <td>16.0</td>\n",
       "      <td>198.0</td>\n",
       "      <td>61.5</td>\n",
       "      <td>F</td>\n",
       "      <td>2.0</td>\n",
       "      <td>40745.00</td>\n",
       "      <td>3.0</td>\n",
       "      <td>3.0</td>\n",
       "    </tr>\n",
       "    <tr>\n",
       "      <th>70607</th>\n",
       "      <td>1573142</td>\n",
       "      <td>21.0</td>\n",
       "      <td>255.0</td>\n",
       "      <td>68.0</td>\n",
       "      <td>M</td>\n",
       "      <td>3.0</td>\n",
       "      <td>475114.69</td>\n",
       "      <td>4.0</td>\n",
       "      <td>4.0</td>\n",
       "    </tr>\n",
       "    <tr>\n",
       "      <th>70608</th>\n",
       "      <td>5602139</td>\n",
       "      <td>21.0</td>\n",
       "      <td>254.0</td>\n",
       "      <td>59.5</td>\n",
       "      <td>F</td>\n",
       "      <td>3.0</td>\n",
       "      <td>157498.73</td>\n",
       "      <td>7.0</td>\n",
       "      <td>7.0</td>\n",
       "    </tr>\n",
       "  </tbody>\n",
       "</table>\n",
       "<p>70595 rows × 9 columns</p>\n",
       "</div>"
      ],
      "text/plain": [
       "       client_id  client_tenure_year  client_tenure_month  client_age gender  \\\n",
       "0         836976                 6.0                 73.0        60.5      U   \n",
       "1        2304905                 7.0                 94.0        58.0      U   \n",
       "2        1439522                 5.0                 64.0        32.0      U   \n",
       "3        1562045                16.0                198.0        49.0      M   \n",
       "4        5126305                12.0                145.0        33.0      F   \n",
       "...          ...                 ...                  ...         ...    ...   \n",
       "70604    7993686                 4.0                 56.0        38.5      U   \n",
       "70605    8981690                12.0                148.0        31.0      M   \n",
       "70606     333913                16.0                198.0        61.5      F   \n",
       "70607    1573142                21.0                255.0        68.0      M   \n",
       "70608    5602139                21.0                254.0        59.5      F   \n",
       "\n",
       "       number_of_accounts     balance  calls_last_6_months  \\\n",
       "0                     2.0    45105.30                  6.0   \n",
       "1                     2.0   110860.30                  6.0   \n",
       "2                     2.0    52467.79                  6.0   \n",
       "3                     2.0    67454.65                  3.0   \n",
       "4                     2.0   103671.75                  0.0   \n",
       "...                   ...         ...                  ...   \n",
       "70604                 3.0  1411062.68                  5.0   \n",
       "70605                 2.0   101867.07                  6.0   \n",
       "70606                 2.0    40745.00                  3.0   \n",
       "70607                 3.0   475114.69                  4.0   \n",
       "70608                 3.0   157498.73                  7.0   \n",
       "\n",
       "       logins_last_6_months  \n",
       "0                       9.0  \n",
       "1                       9.0  \n",
       "2                       9.0  \n",
       "3                       6.0  \n",
       "4                       3.0  \n",
       "...                     ...  \n",
       "70604                   5.0  \n",
       "70605                   6.0  \n",
       "70606                   3.0  \n",
       "70607                   4.0  \n",
       "70608                   7.0  \n",
       "\n",
       "[70595 rows x 9 columns]"
      ]
     },
     "execution_count": 22,
     "metadata": {},
     "output_type": "execute_result"
    }
   ],
   "source": [
    "df_droped"
   ]
  },
  {
   "cell_type": "code",
   "execution_count": 23,
   "id": "068ea05c",
   "metadata": {},
   "outputs": [
    {
     "data": {
      "text/html": [
       "<div>\n",
       "<style scoped>\n",
       "    .dataframe tbody tr th:only-of-type {\n",
       "        vertical-align: middle;\n",
       "    }\n",
       "\n",
       "    .dataframe tbody tr th {\n",
       "        vertical-align: top;\n",
       "    }\n",
       "\n",
       "    .dataframe thead th {\n",
       "        text-align: right;\n",
       "    }\n",
       "</style>\n",
       "<table border=\"1\" class=\"dataframe\">\n",
       "  <thead>\n",
       "    <tr style=\"text-align: right;\">\n",
       "      <th></th>\n",
       "      <th>client_id</th>\n",
       "      <th>client_tenure_year</th>\n",
       "      <th>client_tenure_month</th>\n",
       "      <th>client_age</th>\n",
       "      <th>gender</th>\n",
       "      <th>number_of_accounts</th>\n",
       "      <th>balance</th>\n",
       "      <th>calls_last_6_months</th>\n",
       "      <th>logins_last_6_months</th>\n",
       "    </tr>\n",
       "  </thead>\n",
       "  <tbody>\n",
       "    <tr>\n",
       "      <th>9583</th>\n",
       "      <td>4666211</td>\n",
       "      <td>8.0</td>\n",
       "      <td>106.0</td>\n",
       "      <td>NaN</td>\n",
       "      <td>F</td>\n",
       "      <td>2.0</td>\n",
       "      <td>42550.55</td>\n",
       "      <td>4.0</td>\n",
       "      <td>7.0</td>\n",
       "    </tr>\n",
       "  </tbody>\n",
       "</table>\n",
       "</div>"
      ],
      "text/plain": [
       "      client_id  client_tenure_year  client_tenure_month  client_age gender  \\\n",
       "9583    4666211                 8.0                106.0         NaN      F   \n",
       "\n",
       "      number_of_accounts   balance  calls_last_6_months  logins_last_6_months  \n",
       "9583                 2.0  42550.55                  4.0                   7.0  "
      ]
     },
     "execution_count": 23,
     "metadata": {},
     "output_type": "execute_result"
    }
   ],
   "source": [
    "df_droped[df_droped['client_age'].isna()]"
   ]
  },
  {
   "cell_type": "code",
   "execution_count": 24,
   "id": "d8919e05",
   "metadata": {},
   "outputs": [
    {
     "name": "stdout",
     "output_type": "stream",
     "text": [
      "client_id                 int64\n",
      "client_tenure_year      float64\n",
      "client_tenure_month     float64\n",
      "client_age              float64\n",
      "gender                   object\n",
      "number_of_accounts      float64\n",
      "balance                 float64\n",
      "calls_last_6_months     float64\n",
      "logins_last_6_months    float64\n",
      "dtype: object\n"
     ]
    }
   ],
   "source": [
    "print(df_droped.dtypes)"
   ]
  },
  {
   "cell_type": "code",
   "execution_count": 25,
   "id": "33f0aecb",
   "metadata": {},
   "outputs": [],
   "source": [
    "df_droped = df.dropna(subset='client_age')"
   ]
  },
  {
   "cell_type": "markdown",
   "id": "8da0ef89",
   "metadata": {},
   "source": [
    "CHECKING FOR THE DUPLICATES"
   ]
  },
  {
   "cell_type": "code",
   "execution_count": 26,
   "id": "f45d7a6b",
   "metadata": {},
   "outputs": [
    {
     "name": "stdout",
     "output_type": "stream",
     "text": [
      "Empty DataFrame\n",
      "Columns: [client_id, client_tenure_year, client_tenure_month, client_age, gender, number_of_accounts, balance, calls_last_6_months, logins_last_6_months]\n",
      "Index: []\n"
     ]
    }
   ],
   "source": [
    "duplicate_rows = df_droped[df_droped.duplicated()]\n",
    "print(duplicate_rows)"
   ]
  },
  {
   "cell_type": "code",
   "execution_count": 27,
   "id": "5fb4eb91",
   "metadata": {},
   "outputs": [
    {
     "data": {
      "text/plain": [
       "array(['U', 'M', 'F', 'X'], dtype=object)"
      ]
     },
     "execution_count": 27,
     "metadata": {},
     "output_type": "execute_result"
    }
   ],
   "source": [
    "df_droped['gender'].unique()"
   ]
  },
  {
   "cell_type": "code",
   "execution_count": 28,
   "id": "69b7a8db",
   "metadata": {},
   "outputs": [
    {
     "data": {
      "text/plain": [
       "gender\n",
       "F    22745\n",
       "M    23724\n",
       "U    24122\n",
       "X        3\n",
       "dtype: int64"
      ]
     },
     "execution_count": 28,
     "metadata": {},
     "output_type": "execute_result"
    }
   ],
   "source": [
    "df_droped.groupby('gender').size()"
   ]
  },
  {
   "cell_type": "code",
   "execution_count": 29,
   "id": "24680292",
   "metadata": {},
   "outputs": [],
   "source": [
    "df_droped = df_droped[df_droped['gender']!= 'X']"
   ]
  },
  {
   "cell_type": "code",
   "execution_count": 30,
   "id": "b475d954",
   "metadata": {},
   "outputs": [
    {
     "data": {
      "text/plain": [
       "array(['U', 'M', 'F'], dtype=object)"
      ]
     },
     "execution_count": 30,
     "metadata": {},
     "output_type": "execute_result"
    }
   ],
   "source": [
    "df_droped['gender'].unique()"
   ]
  },
  {
   "cell_type": "code",
   "execution_count": 31,
   "id": "d9589841",
   "metadata": {},
   "outputs": [],
   "source": [
    "\n",
    "df_droped['gender'] = df_droped['gender'].replace({\n",
    "    'M':'Male',\n",
    "    'F':'Female',\n",
    "    'U' :'Unknown'\n",
    "   })"
   ]
  },
  {
   "cell_type": "markdown",
   "id": "899d44ba",
   "metadata": {},
   "source": [
    "CHANGING THE TYPES TO BE CLEAN"
   ]
  },
  {
   "cell_type": "code",
   "execution_count": 32,
   "id": "21990c90",
   "metadata": {},
   "outputs": [],
   "source": [
    "df_droped['client_tenure_year'] = df_droped['client_tenure_year'].astype(int)"
   ]
  },
  {
   "cell_type": "code",
   "execution_count": 33,
   "id": "c6cb9dfe",
   "metadata": {},
   "outputs": [],
   "source": [
    "df_droped['client_tenure_month'] = df_droped['client_tenure_month'].astype(int)"
   ]
  },
  {
   "cell_type": "code",
   "execution_count": 34,
   "id": "fbd29bde",
   "metadata": {},
   "outputs": [],
   "source": [
    "df_droped['number_of_accounts'] = df_droped['number_of_accounts'].astype(int)"
   ]
  },
  {
   "cell_type": "code",
   "execution_count": 35,
   "id": "0a550903",
   "metadata": {},
   "outputs": [],
   "source": [
    "df_droped['calls_last_6_months'] = df_droped['calls_last_6_months'].astype(int)"
   ]
  },
  {
   "cell_type": "code",
   "execution_count": 36,
   "id": "774840ef",
   "metadata": {},
   "outputs": [],
   "source": [
    "df_droped['logins_last_6_months'] = df_droped['logins_last_6_months'].astype(int)"
   ]
  },
  {
   "cell_type": "code",
   "execution_count": 37,
   "id": "f8bd6d96",
   "metadata": {},
   "outputs": [
    {
     "name": "stdout",
     "output_type": "stream",
     "text": [
      "client_id                 int64\n",
      "client_tenure_year        int32\n",
      "client_tenure_month       int32\n",
      "client_age              float64\n",
      "gender                   object\n",
      "number_of_accounts        int32\n",
      "balance                 float64\n",
      "calls_last_6_months       int32\n",
      "logins_last_6_months      int32\n",
      "dtype: object\n"
     ]
    }
   ],
   "source": [
    "print(df_droped.dtypes)"
   ]
  },
  {
   "cell_type": "markdown",
   "id": "7c2922b1",
   "metadata": {},
   "source": [
    "CHECKING SECOUND FILE"
   ]
  },
  {
   "cell_type": "code",
   "execution_count": 38,
   "id": "42ebb233",
   "metadata": {},
   "outputs": [
    {
     "data": {
      "text/html": [
       "<div>\n",
       "<style scoped>\n",
       "    .dataframe tbody tr th:only-of-type {\n",
       "        vertical-align: middle;\n",
       "    }\n",
       "\n",
       "    .dataframe tbody tr th {\n",
       "        vertical-align: top;\n",
       "    }\n",
       "\n",
       "    .dataframe thead th {\n",
       "        text-align: right;\n",
       "    }\n",
       "</style>\n",
       "<table border=\"1\" class=\"dataframe\">\n",
       "  <thead>\n",
       "    <tr style=\"text-align: right;\">\n",
       "      <th></th>\n",
       "      <th>client_id</th>\n",
       "      <th>visitor_id</th>\n",
       "      <th>visit_id</th>\n",
       "      <th>process_step</th>\n",
       "      <th>date_time</th>\n",
       "    </tr>\n",
       "  </thead>\n",
       "  <tbody>\n",
       "    <tr>\n",
       "      <th>0</th>\n",
       "      <td>9988021</td>\n",
       "      <td>580560515_7732621733</td>\n",
       "      <td>781255054_21935453173_531117</td>\n",
       "      <td>step_3</td>\n",
       "      <td>2017-04-17 15:27:07</td>\n",
       "    </tr>\n",
       "    <tr>\n",
       "      <th>1</th>\n",
       "      <td>9988021</td>\n",
       "      <td>580560515_7732621733</td>\n",
       "      <td>781255054_21935453173_531117</td>\n",
       "      <td>step_2</td>\n",
       "      <td>2017-04-17 15:26:51</td>\n",
       "    </tr>\n",
       "    <tr>\n",
       "      <th>2</th>\n",
       "      <td>9988021</td>\n",
       "      <td>580560515_7732621733</td>\n",
       "      <td>781255054_21935453173_531117</td>\n",
       "      <td>step_3</td>\n",
       "      <td>2017-04-17 15:19:22</td>\n",
       "    </tr>\n",
       "    <tr>\n",
       "      <th>3</th>\n",
       "      <td>9988021</td>\n",
       "      <td>580560515_7732621733</td>\n",
       "      <td>781255054_21935453173_531117</td>\n",
       "      <td>step_2</td>\n",
       "      <td>2017-04-17 15:19:13</td>\n",
       "    </tr>\n",
       "    <tr>\n",
       "      <th>4</th>\n",
       "      <td>9988021</td>\n",
       "      <td>580560515_7732621733</td>\n",
       "      <td>781255054_21935453173_531117</td>\n",
       "      <td>step_3</td>\n",
       "      <td>2017-04-17 15:18:04</td>\n",
       "    </tr>\n",
       "    <tr>\n",
       "      <th>...</th>\n",
       "      <td>...</td>\n",
       "      <td>...</td>\n",
       "      <td>...</td>\n",
       "      <td>...</td>\n",
       "      <td>...</td>\n",
       "    </tr>\n",
       "    <tr>\n",
       "      <th>343136</th>\n",
       "      <td>2443347</td>\n",
       "      <td>465784886_73090545671</td>\n",
       "      <td>136329900_10529659391_316129</td>\n",
       "      <td>confirm</td>\n",
       "      <td>2017-03-31 15:15:46</td>\n",
       "    </tr>\n",
       "    <tr>\n",
       "      <th>343137</th>\n",
       "      <td>2443347</td>\n",
       "      <td>465784886_73090545671</td>\n",
       "      <td>136329900_10529659391_316129</td>\n",
       "      <td>step_3</td>\n",
       "      <td>2017-03-31 15:14:53</td>\n",
       "    </tr>\n",
       "    <tr>\n",
       "      <th>343138</th>\n",
       "      <td>2443347</td>\n",
       "      <td>465784886_73090545671</td>\n",
       "      <td>136329900_10529659391_316129</td>\n",
       "      <td>step_2</td>\n",
       "      <td>2017-03-31 15:12:08</td>\n",
       "    </tr>\n",
       "    <tr>\n",
       "      <th>343139</th>\n",
       "      <td>2443347</td>\n",
       "      <td>465784886_73090545671</td>\n",
       "      <td>136329900_10529659391_316129</td>\n",
       "      <td>step_1</td>\n",
       "      <td>2017-03-31 15:11:37</td>\n",
       "    </tr>\n",
       "    <tr>\n",
       "      <th>343140</th>\n",
       "      <td>2443347</td>\n",
       "      <td>465784886_73090545671</td>\n",
       "      <td>136329900_10529659391_316129</td>\n",
       "      <td>start</td>\n",
       "      <td>2017-03-31 15:10:47</td>\n",
       "    </tr>\n",
       "  </tbody>\n",
       "</table>\n",
       "<p>343141 rows × 5 columns</p>\n",
       "</div>"
      ],
      "text/plain": [
       "        client_id             visitor_id                      visit_id  \\\n",
       "0         9988021   580560515_7732621733  781255054_21935453173_531117   \n",
       "1         9988021   580560515_7732621733  781255054_21935453173_531117   \n",
       "2         9988021   580560515_7732621733  781255054_21935453173_531117   \n",
       "3         9988021   580560515_7732621733  781255054_21935453173_531117   \n",
       "4         9988021   580560515_7732621733  781255054_21935453173_531117   \n",
       "...           ...                    ...                           ...   \n",
       "343136    2443347  465784886_73090545671  136329900_10529659391_316129   \n",
       "343137    2443347  465784886_73090545671  136329900_10529659391_316129   \n",
       "343138    2443347  465784886_73090545671  136329900_10529659391_316129   \n",
       "343139    2443347  465784886_73090545671  136329900_10529659391_316129   \n",
       "343140    2443347  465784886_73090545671  136329900_10529659391_316129   \n",
       "\n",
       "       process_step            date_time  \n",
       "0            step_3  2017-04-17 15:27:07  \n",
       "1            step_2  2017-04-17 15:26:51  \n",
       "2            step_3  2017-04-17 15:19:22  \n",
       "3            step_2  2017-04-17 15:19:13  \n",
       "4            step_3  2017-04-17 15:18:04  \n",
       "...             ...                  ...  \n",
       "343136      confirm  2017-03-31 15:15:46  \n",
       "343137       step_3  2017-03-31 15:14:53  \n",
       "343138       step_2  2017-03-31 15:12:08  \n",
       "343139       step_1  2017-03-31 15:11:37  \n",
       "343140        start  2017-03-31 15:10:47  \n",
       "\n",
       "[343141 rows x 5 columns]"
      ]
     },
     "execution_count": 38,
     "metadata": {},
     "output_type": "execute_result"
    }
   ],
   "source": [
    "df_1"
   ]
  },
  {
   "cell_type": "code",
   "execution_count": 39,
   "id": "31a6118d",
   "metadata": {},
   "outputs": [
    {
     "data": {
      "text/plain": [
       "client_id       0\n",
       "visitor_id      0\n",
       "visit_id        0\n",
       "process_step    0\n",
       "date_time       0\n",
       "dtype: int64"
      ]
     },
     "execution_count": 39,
     "metadata": {},
     "output_type": "execute_result"
    }
   ],
   "source": [
    "df_1.isna().sum()"
   ]
  },
  {
   "cell_type": "code",
   "execution_count": 40,
   "id": "d5877123",
   "metadata": {},
   "outputs": [
    {
     "name": "stdout",
     "output_type": "stream",
     "text": [
      "        client_id             visitor_id                      visit_id  \\\n",
      "365       9358626  148475529_63668223960  223297395_36250329195_832161   \n",
      "368       5376894  622509328_44408201172  688984457_43441834354_912755   \n",
      "383        438567  923318467_50708963627  330543236_29863358529_771432   \n",
      "785       1423857  716830992_81930238382   568819166_80596727019_75889   \n",
      "1816       372523  730241475_25771921122   25331354_74479847014_854987   \n",
      "...           ...                    ...                           ...   \n",
      "342621    1853345  831456815_77348510380  596026060_87178689141_910423   \n",
      "342677    1251269  791822615_78146852845   763845944_55757914723_70888   \n",
      "342679    1251269  791822615_78146852845   763845944_55757914723_70888   \n",
      "342685    8350388  304440669_31040182888  143359398_96671536668_299057   \n",
      "342945    4553664  795008403_33653570753  439592710_65772985411_546352   \n",
      "\n",
      "       process_step            date_time  \n",
      "365           start  2017-04-28 12:27:28  \n",
      "368           start  2017-04-28 14:20:01  \n",
      "383           start  2017-04-28 02:52:29  \n",
      "785         confirm  2017-04-10 22:44:58  \n",
      "1816          start  2017-04-27 10:51:26  \n",
      "...             ...                  ...  \n",
      "342621       step_3  2017-04-13 19:39:24  \n",
      "342677        start  2017-04-28 10:20:33  \n",
      "342679        start  2017-04-28 10:18:20  \n",
      "342685        start  2017-04-28 12:44:21  \n",
      "342945        start  2017-04-28 07:07:17  \n",
      "\n",
      "[2095 rows x 5 columns]\n"
     ]
    }
   ],
   "source": [
    "duplicate_rows = df_1[df_1.duplicated()]\n",
    "print(duplicate_rows)"
   ]
  },
  {
   "cell_type": "code",
   "execution_count": 41,
   "id": "48175dff",
   "metadata": {},
   "outputs": [
    {
     "name": "stdout",
     "output_type": "stream",
     "text": [
      "Original + duplicated rows:\n",
      "        client_id             visitor_id                      visit_id  \\\n",
      "364       9358626  148475529_63668223960  223297395_36250329195_832161   \n",
      "365       9358626  148475529_63668223960  223297395_36250329195_832161   \n",
      "367       5376894  622509328_44408201172  688984457_43441834354_912755   \n",
      "368       5376894  622509328_44408201172  688984457_43441834354_912755   \n",
      "382        438567  923318467_50708963627  330543236_29863358529_771432   \n",
      "...           ...                    ...                           ...   \n",
      "342679    1251269  791822615_78146852845   763845944_55757914723_70888   \n",
      "342684    8350388  304440669_31040182888  143359398_96671536668_299057   \n",
      "342685    8350388  304440669_31040182888  143359398_96671536668_299057   \n",
      "342944    4553664  795008403_33653570753  439592710_65772985411_546352   \n",
      "342945    4553664  795008403_33653570753  439592710_65772985411_546352   \n",
      "\n",
      "       process_step            date_time  \n",
      "364           start  2017-04-28 12:27:28  \n",
      "365           start  2017-04-28 12:27:28  \n",
      "367           start  2017-04-28 14:20:01  \n",
      "368           start  2017-04-28 14:20:01  \n",
      "382           start  2017-04-28 02:52:29  \n",
      "...             ...                  ...  \n",
      "342679        start  2017-04-28 10:18:20  \n",
      "342684        start  2017-04-28 12:44:21  \n",
      "342685        start  2017-04-28 12:44:21  \n",
      "342944        start  2017-04-28 07:07:17  \n",
      "342945        start  2017-04-28 07:07:17  \n",
      "\n",
      "[4124 rows x 5 columns]\n"
     ]
    }
   ],
   "source": [
    "duplicates_all = df_1[df_1.duplicated(keep=False)]\n",
    "\n",
    "print(\"Original + duplicated rows:\")\n",
    "print(duplicates_all)"
   ]
  },
  {
   "cell_type": "code",
   "execution_count": 42,
   "id": "9bf49db5",
   "metadata": {},
   "outputs": [],
   "source": [
    "df_1.drop_duplicates(inplace=True)"
   ]
  },
  {
   "cell_type": "code",
   "execution_count": 43,
   "id": "43144b70",
   "metadata": {},
   "outputs": [
    {
     "data": {
      "text/plain": [
       "(341046, 5)"
      ]
     },
     "execution_count": 43,
     "metadata": {},
     "output_type": "execute_result"
    }
   ],
   "source": [
    "df_1.shape"
   ]
  },
  {
   "cell_type": "code",
   "execution_count": 44,
   "id": "27b36427",
   "metadata": {},
   "outputs": [
    {
     "name": "stdout",
     "output_type": "stream",
     "text": [
      "client_id        int64\n",
      "visitor_id      object\n",
      "visit_id        object\n",
      "process_step    object\n",
      "date_time       object\n",
      "dtype: object\n"
     ]
    }
   ],
   "source": [
    "print(df_1.dtypes)"
   ]
  },
  {
   "cell_type": "markdown",
   "id": "fa290c4e",
   "metadata": {},
   "source": [
    "CHECKING THIRD FILE"
   ]
  },
  {
   "cell_type": "code",
   "execution_count": 45,
   "id": "28d01836",
   "metadata": {},
   "outputs": [
    {
     "data": {
      "text/html": [
       "<div>\n",
       "<style scoped>\n",
       "    .dataframe tbody tr th:only-of-type {\n",
       "        vertical-align: middle;\n",
       "    }\n",
       "\n",
       "    .dataframe tbody tr th {\n",
       "        vertical-align: top;\n",
       "    }\n",
       "\n",
       "    .dataframe thead th {\n",
       "        text-align: right;\n",
       "    }\n",
       "</style>\n",
       "<table border=\"1\" class=\"dataframe\">\n",
       "  <thead>\n",
       "    <tr style=\"text-align: right;\">\n",
       "      <th></th>\n",
       "      <th>client_id</th>\n",
       "      <th>visitor_id</th>\n",
       "      <th>visit_id</th>\n",
       "      <th>process_step</th>\n",
       "      <th>date_time</th>\n",
       "    </tr>\n",
       "  </thead>\n",
       "  <tbody>\n",
       "    <tr>\n",
       "      <th>0</th>\n",
       "      <td>763412</td>\n",
       "      <td>601952081_10457207388</td>\n",
       "      <td>397475557_40440946728_419634</td>\n",
       "      <td>confirm</td>\n",
       "      <td>2017-06-06 08:56:00</td>\n",
       "    </tr>\n",
       "    <tr>\n",
       "      <th>1</th>\n",
       "      <td>6019349</td>\n",
       "      <td>442094451_91531546617</td>\n",
       "      <td>154620534_35331068705_522317</td>\n",
       "      <td>confirm</td>\n",
       "      <td>2017-06-01 11:59:27</td>\n",
       "    </tr>\n",
       "    <tr>\n",
       "      <th>2</th>\n",
       "      <td>6019349</td>\n",
       "      <td>442094451_91531546617</td>\n",
       "      <td>154620534_35331068705_522317</td>\n",
       "      <td>step_3</td>\n",
       "      <td>2017-06-01 11:58:48</td>\n",
       "    </tr>\n",
       "    <tr>\n",
       "      <th>3</th>\n",
       "      <td>6019349</td>\n",
       "      <td>442094451_91531546617</td>\n",
       "      <td>154620534_35331068705_522317</td>\n",
       "      <td>step_2</td>\n",
       "      <td>2017-06-01 11:58:08</td>\n",
       "    </tr>\n",
       "    <tr>\n",
       "      <th>4</th>\n",
       "      <td>6019349</td>\n",
       "      <td>442094451_91531546617</td>\n",
       "      <td>154620534_35331068705_522317</td>\n",
       "      <td>step_1</td>\n",
       "      <td>2017-06-01 11:57:58</td>\n",
       "    </tr>\n",
       "    <tr>\n",
       "      <th>...</th>\n",
       "      <td>...</td>\n",
       "      <td>...</td>\n",
       "      <td>...</td>\n",
       "      <td>...</td>\n",
       "      <td>...</td>\n",
       "    </tr>\n",
       "    <tr>\n",
       "      <th>412259</th>\n",
       "      <td>9668240</td>\n",
       "      <td>388766751_9038881013</td>\n",
       "      <td>922267647_3096648104_968866</td>\n",
       "      <td>start</td>\n",
       "      <td>2017-05-24 18:46:10</td>\n",
       "    </tr>\n",
       "    <tr>\n",
       "      <th>412260</th>\n",
       "      <td>9668240</td>\n",
       "      <td>388766751_9038881013</td>\n",
       "      <td>922267647_3096648104_968866</td>\n",
       "      <td>start</td>\n",
       "      <td>2017-05-24 18:45:29</td>\n",
       "    </tr>\n",
       "    <tr>\n",
       "      <th>412261</th>\n",
       "      <td>9668240</td>\n",
       "      <td>388766751_9038881013</td>\n",
       "      <td>922267647_3096648104_968866</td>\n",
       "      <td>step_1</td>\n",
       "      <td>2017-05-24 18:44:51</td>\n",
       "    </tr>\n",
       "    <tr>\n",
       "      <th>412262</th>\n",
       "      <td>9668240</td>\n",
       "      <td>388766751_9038881013</td>\n",
       "      <td>922267647_3096648104_968866</td>\n",
       "      <td>start</td>\n",
       "      <td>2017-05-24 18:44:34</td>\n",
       "    </tr>\n",
       "    <tr>\n",
       "      <th>412263</th>\n",
       "      <td>674799</td>\n",
       "      <td>947159805_81558194550</td>\n",
       "      <td>86152093_47511127657_716022</td>\n",
       "      <td>start</td>\n",
       "      <td>2017-06-03 12:17:09</td>\n",
       "    </tr>\n",
       "  </tbody>\n",
       "</table>\n",
       "<p>412264 rows × 5 columns</p>\n",
       "</div>"
      ],
      "text/plain": [
       "        client_id             visitor_id                      visit_id  \\\n",
       "0          763412  601952081_10457207388  397475557_40440946728_419634   \n",
       "1         6019349  442094451_91531546617  154620534_35331068705_522317   \n",
       "2         6019349  442094451_91531546617  154620534_35331068705_522317   \n",
       "3         6019349  442094451_91531546617  154620534_35331068705_522317   \n",
       "4         6019349  442094451_91531546617  154620534_35331068705_522317   \n",
       "...           ...                    ...                           ...   \n",
       "412259    9668240   388766751_9038881013   922267647_3096648104_968866   \n",
       "412260    9668240   388766751_9038881013   922267647_3096648104_968866   \n",
       "412261    9668240   388766751_9038881013   922267647_3096648104_968866   \n",
       "412262    9668240   388766751_9038881013   922267647_3096648104_968866   \n",
       "412263     674799  947159805_81558194550   86152093_47511127657_716022   \n",
       "\n",
       "       process_step            date_time  \n",
       "0           confirm  2017-06-06 08:56:00  \n",
       "1           confirm  2017-06-01 11:59:27  \n",
       "2            step_3  2017-06-01 11:58:48  \n",
       "3            step_2  2017-06-01 11:58:08  \n",
       "4            step_1  2017-06-01 11:57:58  \n",
       "...             ...                  ...  \n",
       "412259        start  2017-05-24 18:46:10  \n",
       "412260        start  2017-05-24 18:45:29  \n",
       "412261       step_1  2017-05-24 18:44:51  \n",
       "412262        start  2017-05-24 18:44:34  \n",
       "412263        start  2017-06-03 12:17:09  \n",
       "\n",
       "[412264 rows x 5 columns]"
      ]
     },
     "execution_count": 45,
     "metadata": {},
     "output_type": "execute_result"
    }
   ],
   "source": [
    "df_2"
   ]
  },
  {
   "cell_type": "code",
   "execution_count": 46,
   "id": "618b1c9d",
   "metadata": {},
   "outputs": [
    {
     "data": {
      "text/plain": [
       "client_id       0\n",
       "visitor_id      0\n",
       "visit_id        0\n",
       "process_step    0\n",
       "date_time       0\n",
       "dtype: int64"
      ]
     },
     "execution_count": 46,
     "metadata": {},
     "output_type": "execute_result"
    }
   ],
   "source": [
    "df_2.isna().sum()"
   ]
  },
  {
   "cell_type": "code",
   "execution_count": 47,
   "id": "7d271a52",
   "metadata": {},
   "outputs": [
    {
     "name": "stdout",
     "output_type": "stream",
     "text": [
      "        client_id             visitor_id                      visit_id  \\\n",
      "125       3751049  937925261_74821699083  628817270_45049432060_475841   \n",
      "143       9912156  746623513_52101087617  780044921_57678038107_984942   \n",
      "326       5786602  893139880_61416949586  747153834_69434320996_858907   \n",
      "328       5786602  893139880_61416949586  747153834_69434320996_858907   \n",
      "375       5786602  893139880_61416949586   119968876_5423296886_390511   \n",
      "...           ...                    ...                           ...   \n",
      "412120    1672289  658797407_91003097342  430110748_90347503221_597628   \n",
      "412163    4408245   14058946_73585431797  994148957_84373994761_991865   \n",
      "412165    4408245   14058946_73585431797  994148957_84373994761_991865   \n",
      "412167    4408245   14058946_73585431797  994148957_84373994761_991865   \n",
      "412217    3897324   80177429_24869309091  149796456_64325617570_112561   \n",
      "\n",
      "       process_step            date_time  \n",
      "125           start  2017-05-15 23:09:44  \n",
      "143           start  2017-05-03 14:09:52  \n",
      "326           start  2017-05-10 01:49:09  \n",
      "328           start  2017-05-10 01:48:45  \n",
      "375           start  2017-06-08 02:14:09  \n",
      "...             ...                  ...  \n",
      "412120        start  2017-05-01 19:28:53  \n",
      "412163        start  2017-06-06 09:17:23  \n",
      "412165        start  2017-06-06 09:09:44  \n",
      "412167        start  2017-06-06 08:51:16  \n",
      "412217        start  2017-05-04 08:21:30  \n",
      "\n",
      "[8669 rows x 5 columns]\n"
     ]
    }
   ],
   "source": [
    "duplicated_rows = df_2[df_2.duplicated()]\n",
    "print(duplicated_rows)"
   ]
  },
  {
   "cell_type": "code",
   "execution_count": 48,
   "id": "52f1acbf",
   "metadata": {},
   "outputs": [],
   "source": [
    "df_2.drop_duplicates(inplace=True)"
   ]
  },
  {
   "cell_type": "code",
   "execution_count": 49,
   "id": "7997cfd6",
   "metadata": {},
   "outputs": [
    {
     "data": {
      "text/plain": [
       "(403595, 5)"
      ]
     },
     "execution_count": 49,
     "metadata": {},
     "output_type": "execute_result"
    }
   ],
   "source": [
    "df_2.shape"
   ]
  },
  {
   "cell_type": "code",
   "execution_count": 50,
   "id": "b79c2557",
   "metadata": {},
   "outputs": [
    {
     "name": "stdout",
     "output_type": "stream",
     "text": [
      "client_id        int64\n",
      "visitor_id      object\n",
      "visit_id        object\n",
      "process_step    object\n",
      "date_time       object\n",
      "dtype: object\n"
     ]
    }
   ],
   "source": [
    "print(df_2.dtypes)"
   ]
  },
  {
   "cell_type": "markdown",
   "id": "39343872",
   "metadata": {},
   "source": [
    "CHECKING FOURTH FILE"
   ]
  },
  {
   "cell_type": "code",
   "execution_count": 51,
   "id": "385fb913",
   "metadata": {},
   "outputs": [
    {
     "data": {
      "text/html": [
       "<div>\n",
       "<style scoped>\n",
       "    .dataframe tbody tr th:only-of-type {\n",
       "        vertical-align: middle;\n",
       "    }\n",
       "\n",
       "    .dataframe tbody tr th {\n",
       "        vertical-align: top;\n",
       "    }\n",
       "\n",
       "    .dataframe thead th {\n",
       "        text-align: right;\n",
       "    }\n",
       "</style>\n",
       "<table border=\"1\" class=\"dataframe\">\n",
       "  <thead>\n",
       "    <tr style=\"text-align: right;\">\n",
       "      <th></th>\n",
       "      <th>client_id</th>\n",
       "      <th>Variation</th>\n",
       "    </tr>\n",
       "  </thead>\n",
       "  <tbody>\n",
       "    <tr>\n",
       "      <th>0</th>\n",
       "      <td>9988021</td>\n",
       "      <td>Test</td>\n",
       "    </tr>\n",
       "    <tr>\n",
       "      <th>1</th>\n",
       "      <td>8320017</td>\n",
       "      <td>Test</td>\n",
       "    </tr>\n",
       "    <tr>\n",
       "      <th>2</th>\n",
       "      <td>4033851</td>\n",
       "      <td>Control</td>\n",
       "    </tr>\n",
       "    <tr>\n",
       "      <th>3</th>\n",
       "      <td>1982004</td>\n",
       "      <td>Test</td>\n",
       "    </tr>\n",
       "    <tr>\n",
       "      <th>4</th>\n",
       "      <td>9294070</td>\n",
       "      <td>Control</td>\n",
       "    </tr>\n",
       "    <tr>\n",
       "      <th>...</th>\n",
       "      <td>...</td>\n",
       "      <td>...</td>\n",
       "    </tr>\n",
       "    <tr>\n",
       "      <th>70604</th>\n",
       "      <td>2443347</td>\n",
       "      <td>NaN</td>\n",
       "    </tr>\n",
       "    <tr>\n",
       "      <th>70605</th>\n",
       "      <td>8788427</td>\n",
       "      <td>NaN</td>\n",
       "    </tr>\n",
       "    <tr>\n",
       "      <th>70606</th>\n",
       "      <td>266828</td>\n",
       "      <td>NaN</td>\n",
       "    </tr>\n",
       "    <tr>\n",
       "      <th>70607</th>\n",
       "      <td>1266421</td>\n",
       "      <td>NaN</td>\n",
       "    </tr>\n",
       "    <tr>\n",
       "      <th>70608</th>\n",
       "      <td>9895983</td>\n",
       "      <td>NaN</td>\n",
       "    </tr>\n",
       "  </tbody>\n",
       "</table>\n",
       "<p>70609 rows × 2 columns</p>\n",
       "</div>"
      ],
      "text/plain": [
       "       client_id Variation\n",
       "0        9988021      Test\n",
       "1        8320017      Test\n",
       "2        4033851   Control\n",
       "3        1982004      Test\n",
       "4        9294070   Control\n",
       "...          ...       ...\n",
       "70604    2443347       NaN\n",
       "70605    8788427       NaN\n",
       "70606     266828       NaN\n",
       "70607    1266421       NaN\n",
       "70608    9895983       NaN\n",
       "\n",
       "[70609 rows x 2 columns]"
      ]
     },
     "execution_count": 51,
     "metadata": {},
     "output_type": "execute_result"
    }
   ],
   "source": [
    "df_experiment"
   ]
  },
  {
   "cell_type": "code",
   "execution_count": 52,
   "id": "c67bca1b",
   "metadata": {},
   "outputs": [
    {
     "data": {
      "text/plain": [
       "client_id        0\n",
       "Variation    20109\n",
       "dtype: int64"
      ]
     },
     "execution_count": 52,
     "metadata": {},
     "output_type": "execute_result"
    }
   ],
   "source": [
    "df_experiment.isna().sum()"
   ]
  },
  {
   "cell_type": "code",
   "execution_count": 53,
   "id": "a44db1d3",
   "metadata": {},
   "outputs": [
    {
     "data": {
      "text/plain": [
       "array(['Test', 'Control', nan], dtype=object)"
      ]
     },
     "execution_count": 53,
     "metadata": {},
     "output_type": "execute_result"
    }
   ],
   "source": [
    "df_experiment['Variation'].unique()"
   ]
  },
  {
   "cell_type": "code",
   "execution_count": 54,
   "id": "79a23dfa",
   "metadata": {},
   "outputs": [],
   "source": [
    "df_cleaned = df_experiment.dropna()"
   ]
  },
  {
   "cell_type": "code",
   "execution_count": 55,
   "id": "f8aa7114",
   "metadata": {},
   "outputs": [
    {
     "data": {
      "text/plain": [
       "(50500, 2)"
      ]
     },
     "execution_count": 55,
     "metadata": {},
     "output_type": "execute_result"
    }
   ],
   "source": [
    "df_cleaned.shape"
   ]
  },
  {
   "cell_type": "code",
   "execution_count": 56,
   "id": "dcbf19b9",
   "metadata": {},
   "outputs": [
    {
     "name": "stdout",
     "output_type": "stream",
     "text": [
      "client_id     int64\n",
      "Variation    object\n",
      "dtype: object\n"
     ]
    }
   ],
   "source": [
    "print(df_cleaned.dtypes)"
   ]
  },
  {
   "cell_type": "markdown",
   "id": "afb4575b",
   "metadata": {},
   "source": [
    "MERGING THE FILES"
   ]
  },
  {
   "cell_type": "code",
   "execution_count": 57,
   "id": "d9b574fa",
   "metadata": {},
   "outputs": [],
   "source": [
    "merged_df = pd.concat([df_1, df_2], ignore_index=True)"
   ]
  },
  {
   "cell_type": "code",
   "execution_count": 58,
   "id": "5b101c71",
   "metadata": {},
   "outputs": [
    {
     "data": {
      "text/html": [
       "<div>\n",
       "<style scoped>\n",
       "    .dataframe tbody tr th:only-of-type {\n",
       "        vertical-align: middle;\n",
       "    }\n",
       "\n",
       "    .dataframe tbody tr th {\n",
       "        vertical-align: top;\n",
       "    }\n",
       "\n",
       "    .dataframe thead th {\n",
       "        text-align: right;\n",
       "    }\n",
       "</style>\n",
       "<table border=\"1\" class=\"dataframe\">\n",
       "  <thead>\n",
       "    <tr style=\"text-align: right;\">\n",
       "      <th></th>\n",
       "      <th>client_id</th>\n",
       "      <th>visitor_id</th>\n",
       "      <th>visit_id</th>\n",
       "      <th>process_step</th>\n",
       "      <th>date_time</th>\n",
       "    </tr>\n",
       "  </thead>\n",
       "  <tbody>\n",
       "    <tr>\n",
       "      <th>0</th>\n",
       "      <td>9988021</td>\n",
       "      <td>580560515_7732621733</td>\n",
       "      <td>781255054_21935453173_531117</td>\n",
       "      <td>step_3</td>\n",
       "      <td>2017-04-17 15:27:07</td>\n",
       "    </tr>\n",
       "    <tr>\n",
       "      <th>1</th>\n",
       "      <td>9988021</td>\n",
       "      <td>580560515_7732621733</td>\n",
       "      <td>781255054_21935453173_531117</td>\n",
       "      <td>step_2</td>\n",
       "      <td>2017-04-17 15:26:51</td>\n",
       "    </tr>\n",
       "    <tr>\n",
       "      <th>2</th>\n",
       "      <td>9988021</td>\n",
       "      <td>580560515_7732621733</td>\n",
       "      <td>781255054_21935453173_531117</td>\n",
       "      <td>step_3</td>\n",
       "      <td>2017-04-17 15:19:22</td>\n",
       "    </tr>\n",
       "    <tr>\n",
       "      <th>3</th>\n",
       "      <td>9988021</td>\n",
       "      <td>580560515_7732621733</td>\n",
       "      <td>781255054_21935453173_531117</td>\n",
       "      <td>step_2</td>\n",
       "      <td>2017-04-17 15:19:13</td>\n",
       "    </tr>\n",
       "    <tr>\n",
       "      <th>4</th>\n",
       "      <td>9988021</td>\n",
       "      <td>580560515_7732621733</td>\n",
       "      <td>781255054_21935453173_531117</td>\n",
       "      <td>step_3</td>\n",
       "      <td>2017-04-17 15:18:04</td>\n",
       "    </tr>\n",
       "    <tr>\n",
       "      <th>...</th>\n",
       "      <td>...</td>\n",
       "      <td>...</td>\n",
       "      <td>...</td>\n",
       "      <td>...</td>\n",
       "      <td>...</td>\n",
       "    </tr>\n",
       "    <tr>\n",
       "      <th>744636</th>\n",
       "      <td>9668240</td>\n",
       "      <td>388766751_9038881013</td>\n",
       "      <td>922267647_3096648104_968866</td>\n",
       "      <td>start</td>\n",
       "      <td>2017-05-24 18:46:10</td>\n",
       "    </tr>\n",
       "    <tr>\n",
       "      <th>744637</th>\n",
       "      <td>9668240</td>\n",
       "      <td>388766751_9038881013</td>\n",
       "      <td>922267647_3096648104_968866</td>\n",
       "      <td>start</td>\n",
       "      <td>2017-05-24 18:45:29</td>\n",
       "    </tr>\n",
       "    <tr>\n",
       "      <th>744638</th>\n",
       "      <td>9668240</td>\n",
       "      <td>388766751_9038881013</td>\n",
       "      <td>922267647_3096648104_968866</td>\n",
       "      <td>step_1</td>\n",
       "      <td>2017-05-24 18:44:51</td>\n",
       "    </tr>\n",
       "    <tr>\n",
       "      <th>744639</th>\n",
       "      <td>9668240</td>\n",
       "      <td>388766751_9038881013</td>\n",
       "      <td>922267647_3096648104_968866</td>\n",
       "      <td>start</td>\n",
       "      <td>2017-05-24 18:44:34</td>\n",
       "    </tr>\n",
       "    <tr>\n",
       "      <th>744640</th>\n",
       "      <td>674799</td>\n",
       "      <td>947159805_81558194550</td>\n",
       "      <td>86152093_47511127657_716022</td>\n",
       "      <td>start</td>\n",
       "      <td>2017-06-03 12:17:09</td>\n",
       "    </tr>\n",
       "  </tbody>\n",
       "</table>\n",
       "<p>744641 rows × 5 columns</p>\n",
       "</div>"
      ],
      "text/plain": [
       "        client_id             visitor_id                      visit_id  \\\n",
       "0         9988021   580560515_7732621733  781255054_21935453173_531117   \n",
       "1         9988021   580560515_7732621733  781255054_21935453173_531117   \n",
       "2         9988021   580560515_7732621733  781255054_21935453173_531117   \n",
       "3         9988021   580560515_7732621733  781255054_21935453173_531117   \n",
       "4         9988021   580560515_7732621733  781255054_21935453173_531117   \n",
       "...           ...                    ...                           ...   \n",
       "744636    9668240   388766751_9038881013   922267647_3096648104_968866   \n",
       "744637    9668240   388766751_9038881013   922267647_3096648104_968866   \n",
       "744638    9668240   388766751_9038881013   922267647_3096648104_968866   \n",
       "744639    9668240   388766751_9038881013   922267647_3096648104_968866   \n",
       "744640     674799  947159805_81558194550   86152093_47511127657_716022   \n",
       "\n",
       "       process_step            date_time  \n",
       "0            step_3  2017-04-17 15:27:07  \n",
       "1            step_2  2017-04-17 15:26:51  \n",
       "2            step_3  2017-04-17 15:19:22  \n",
       "3            step_2  2017-04-17 15:19:13  \n",
       "4            step_3  2017-04-17 15:18:04  \n",
       "...             ...                  ...  \n",
       "744636        start  2017-05-24 18:46:10  \n",
       "744637        start  2017-05-24 18:45:29  \n",
       "744638       step_1  2017-05-24 18:44:51  \n",
       "744639        start  2017-05-24 18:44:34  \n",
       "744640        start  2017-06-03 12:17:09  \n",
       "\n",
       "[744641 rows x 5 columns]"
      ]
     },
     "execution_count": 58,
     "metadata": {},
     "output_type": "execute_result"
    }
   ],
   "source": [
    "merged_df"
   ]
  },
  {
   "cell_type": "markdown",
   "id": "1373ee7c",
   "metadata": {},
   "source": [
    "ANALYSING THE FILES"
   ]
  },
  {
   "cell_type": "code",
   "execution_count": 59,
   "id": "fc33f260",
   "metadata": {},
   "outputs": [
    {
     "data": {
      "text/html": [
       "<div>\n",
       "<style scoped>\n",
       "    .dataframe tbody tr th:only-of-type {\n",
       "        vertical-align: middle;\n",
       "    }\n",
       "\n",
       "    .dataframe tbody tr th {\n",
       "        vertical-align: top;\n",
       "    }\n",
       "\n",
       "    .dataframe thead th {\n",
       "        text-align: right;\n",
       "    }\n",
       "</style>\n",
       "<table border=\"1\" class=\"dataframe\">\n",
       "  <thead>\n",
       "    <tr style=\"text-align: right;\">\n",
       "      <th></th>\n",
       "      <th>client_id</th>\n",
       "      <th>client_tenure_year</th>\n",
       "      <th>client_tenure_month</th>\n",
       "      <th>client_age</th>\n",
       "      <th>gender</th>\n",
       "      <th>number_of_accounts</th>\n",
       "      <th>balance</th>\n",
       "      <th>calls_last_6_months</th>\n",
       "      <th>logins_last_6_months</th>\n",
       "    </tr>\n",
       "  </thead>\n",
       "  <tbody>\n",
       "    <tr>\n",
       "      <th>0</th>\n",
       "      <td>836976</td>\n",
       "      <td>6</td>\n",
       "      <td>73</td>\n",
       "      <td>60.5</td>\n",
       "      <td>Unknown</td>\n",
       "      <td>2</td>\n",
       "      <td>45105.30</td>\n",
       "      <td>6</td>\n",
       "      <td>9</td>\n",
       "    </tr>\n",
       "    <tr>\n",
       "      <th>1</th>\n",
       "      <td>2304905</td>\n",
       "      <td>7</td>\n",
       "      <td>94</td>\n",
       "      <td>58.0</td>\n",
       "      <td>Unknown</td>\n",
       "      <td>2</td>\n",
       "      <td>110860.30</td>\n",
       "      <td>6</td>\n",
       "      <td>9</td>\n",
       "    </tr>\n",
       "    <tr>\n",
       "      <th>2</th>\n",
       "      <td>1439522</td>\n",
       "      <td>5</td>\n",
       "      <td>64</td>\n",
       "      <td>32.0</td>\n",
       "      <td>Unknown</td>\n",
       "      <td>2</td>\n",
       "      <td>52467.79</td>\n",
       "      <td>6</td>\n",
       "      <td>9</td>\n",
       "    </tr>\n",
       "    <tr>\n",
       "      <th>3</th>\n",
       "      <td>1562045</td>\n",
       "      <td>16</td>\n",
       "      <td>198</td>\n",
       "      <td>49.0</td>\n",
       "      <td>Male</td>\n",
       "      <td>2</td>\n",
       "      <td>67454.65</td>\n",
       "      <td>3</td>\n",
       "      <td>6</td>\n",
       "    </tr>\n",
       "    <tr>\n",
       "      <th>4</th>\n",
       "      <td>5126305</td>\n",
       "      <td>12</td>\n",
       "      <td>145</td>\n",
       "      <td>33.0</td>\n",
       "      <td>Female</td>\n",
       "      <td>2</td>\n",
       "      <td>103671.75</td>\n",
       "      <td>0</td>\n",
       "      <td>3</td>\n",
       "    </tr>\n",
       "    <tr>\n",
       "      <th>...</th>\n",
       "      <td>...</td>\n",
       "      <td>...</td>\n",
       "      <td>...</td>\n",
       "      <td>...</td>\n",
       "      <td>...</td>\n",
       "      <td>...</td>\n",
       "      <td>...</td>\n",
       "      <td>...</td>\n",
       "      <td>...</td>\n",
       "    </tr>\n",
       "    <tr>\n",
       "      <th>70604</th>\n",
       "      <td>7993686</td>\n",
       "      <td>4</td>\n",
       "      <td>56</td>\n",
       "      <td>38.5</td>\n",
       "      <td>Unknown</td>\n",
       "      <td>3</td>\n",
       "      <td>1411062.68</td>\n",
       "      <td>5</td>\n",
       "      <td>5</td>\n",
       "    </tr>\n",
       "    <tr>\n",
       "      <th>70605</th>\n",
       "      <td>8981690</td>\n",
       "      <td>12</td>\n",
       "      <td>148</td>\n",
       "      <td>31.0</td>\n",
       "      <td>Male</td>\n",
       "      <td>2</td>\n",
       "      <td>101867.07</td>\n",
       "      <td>6</td>\n",
       "      <td>6</td>\n",
       "    </tr>\n",
       "    <tr>\n",
       "      <th>70606</th>\n",
       "      <td>333913</td>\n",
       "      <td>16</td>\n",
       "      <td>198</td>\n",
       "      <td>61.5</td>\n",
       "      <td>Female</td>\n",
       "      <td>2</td>\n",
       "      <td>40745.00</td>\n",
       "      <td>3</td>\n",
       "      <td>3</td>\n",
       "    </tr>\n",
       "    <tr>\n",
       "      <th>70607</th>\n",
       "      <td>1573142</td>\n",
       "      <td>21</td>\n",
       "      <td>255</td>\n",
       "      <td>68.0</td>\n",
       "      <td>Male</td>\n",
       "      <td>3</td>\n",
       "      <td>475114.69</td>\n",
       "      <td>4</td>\n",
       "      <td>4</td>\n",
       "    </tr>\n",
       "    <tr>\n",
       "      <th>70608</th>\n",
       "      <td>5602139</td>\n",
       "      <td>21</td>\n",
       "      <td>254</td>\n",
       "      <td>59.5</td>\n",
       "      <td>Female</td>\n",
       "      <td>3</td>\n",
       "      <td>157498.73</td>\n",
       "      <td>7</td>\n",
       "      <td>7</td>\n",
       "    </tr>\n",
       "  </tbody>\n",
       "</table>\n",
       "<p>70591 rows × 9 columns</p>\n",
       "</div>"
      ],
      "text/plain": [
       "       client_id  client_tenure_year  client_tenure_month  client_age  \\\n",
       "0         836976                   6                   73        60.5   \n",
       "1        2304905                   7                   94        58.0   \n",
       "2        1439522                   5                   64        32.0   \n",
       "3        1562045                  16                  198        49.0   \n",
       "4        5126305                  12                  145        33.0   \n",
       "...          ...                 ...                  ...         ...   \n",
       "70604    7993686                   4                   56        38.5   \n",
       "70605    8981690                  12                  148        31.0   \n",
       "70606     333913                  16                  198        61.5   \n",
       "70607    1573142                  21                  255        68.0   \n",
       "70608    5602139                  21                  254        59.5   \n",
       "\n",
       "        gender  number_of_accounts     balance  calls_last_6_months  \\\n",
       "0      Unknown                   2    45105.30                    6   \n",
       "1      Unknown                   2   110860.30                    6   \n",
       "2      Unknown                   2    52467.79                    6   \n",
       "3         Male                   2    67454.65                    3   \n",
       "4       Female                   2   103671.75                    0   \n",
       "...        ...                 ...         ...                  ...   \n",
       "70604  Unknown                   3  1411062.68                    5   \n",
       "70605     Male                   2   101867.07                    6   \n",
       "70606   Female                   2    40745.00                    3   \n",
       "70607     Male                   3   475114.69                    4   \n",
       "70608   Female                   3   157498.73                    7   \n",
       "\n",
       "       logins_last_6_months  \n",
       "0                         9  \n",
       "1                         9  \n",
       "2                         9  \n",
       "3                         6  \n",
       "4                         3  \n",
       "...                     ...  \n",
       "70604                     5  \n",
       "70605                     6  \n",
       "70606                     3  \n",
       "70607                     4  \n",
       "70608                     7  \n",
       "\n",
       "[70591 rows x 9 columns]"
      ]
     },
     "execution_count": 59,
     "metadata": {},
     "output_type": "execute_result"
    }
   ],
   "source": [
    "df_droped"
   ]
  },
  {
   "cell_type": "code",
   "execution_count": 60,
   "id": "c47355a5",
   "metadata": {},
   "outputs": [
    {
     "data": {
      "text/html": [
       "<div>\n",
       "<style scoped>\n",
       "    .dataframe tbody tr th:only-of-type {\n",
       "        vertical-align: middle;\n",
       "    }\n",
       "\n",
       "    .dataframe tbody tr th {\n",
       "        vertical-align: top;\n",
       "    }\n",
       "\n",
       "    .dataframe thead th {\n",
       "        text-align: right;\n",
       "    }\n",
       "</style>\n",
       "<table border=\"1\" class=\"dataframe\">\n",
       "  <thead>\n",
       "    <tr style=\"text-align: right;\">\n",
       "      <th></th>\n",
       "      <th>client_id</th>\n",
       "      <th>visitor_id</th>\n",
       "      <th>visit_id</th>\n",
       "      <th>process_step</th>\n",
       "      <th>date_time</th>\n",
       "    </tr>\n",
       "  </thead>\n",
       "  <tbody>\n",
       "    <tr>\n",
       "      <th>0</th>\n",
       "      <td>9988021</td>\n",
       "      <td>580560515_7732621733</td>\n",
       "      <td>781255054_21935453173_531117</td>\n",
       "      <td>step_3</td>\n",
       "      <td>2017-04-17 15:27:07</td>\n",
       "    </tr>\n",
       "    <tr>\n",
       "      <th>1</th>\n",
       "      <td>9988021</td>\n",
       "      <td>580560515_7732621733</td>\n",
       "      <td>781255054_21935453173_531117</td>\n",
       "      <td>step_2</td>\n",
       "      <td>2017-04-17 15:26:51</td>\n",
       "    </tr>\n",
       "    <tr>\n",
       "      <th>2</th>\n",
       "      <td>9988021</td>\n",
       "      <td>580560515_7732621733</td>\n",
       "      <td>781255054_21935453173_531117</td>\n",
       "      <td>step_3</td>\n",
       "      <td>2017-04-17 15:19:22</td>\n",
       "    </tr>\n",
       "    <tr>\n",
       "      <th>3</th>\n",
       "      <td>9988021</td>\n",
       "      <td>580560515_7732621733</td>\n",
       "      <td>781255054_21935453173_531117</td>\n",
       "      <td>step_2</td>\n",
       "      <td>2017-04-17 15:19:13</td>\n",
       "    </tr>\n",
       "    <tr>\n",
       "      <th>4</th>\n",
       "      <td>9988021</td>\n",
       "      <td>580560515_7732621733</td>\n",
       "      <td>781255054_21935453173_531117</td>\n",
       "      <td>step_3</td>\n",
       "      <td>2017-04-17 15:18:04</td>\n",
       "    </tr>\n",
       "    <tr>\n",
       "      <th>...</th>\n",
       "      <td>...</td>\n",
       "      <td>...</td>\n",
       "      <td>...</td>\n",
       "      <td>...</td>\n",
       "      <td>...</td>\n",
       "    </tr>\n",
       "    <tr>\n",
       "      <th>744636</th>\n",
       "      <td>9668240</td>\n",
       "      <td>388766751_9038881013</td>\n",
       "      <td>922267647_3096648104_968866</td>\n",
       "      <td>start</td>\n",
       "      <td>2017-05-24 18:46:10</td>\n",
       "    </tr>\n",
       "    <tr>\n",
       "      <th>744637</th>\n",
       "      <td>9668240</td>\n",
       "      <td>388766751_9038881013</td>\n",
       "      <td>922267647_3096648104_968866</td>\n",
       "      <td>start</td>\n",
       "      <td>2017-05-24 18:45:29</td>\n",
       "    </tr>\n",
       "    <tr>\n",
       "      <th>744638</th>\n",
       "      <td>9668240</td>\n",
       "      <td>388766751_9038881013</td>\n",
       "      <td>922267647_3096648104_968866</td>\n",
       "      <td>step_1</td>\n",
       "      <td>2017-05-24 18:44:51</td>\n",
       "    </tr>\n",
       "    <tr>\n",
       "      <th>744639</th>\n",
       "      <td>9668240</td>\n",
       "      <td>388766751_9038881013</td>\n",
       "      <td>922267647_3096648104_968866</td>\n",
       "      <td>start</td>\n",
       "      <td>2017-05-24 18:44:34</td>\n",
       "    </tr>\n",
       "    <tr>\n",
       "      <th>744640</th>\n",
       "      <td>674799</td>\n",
       "      <td>947159805_81558194550</td>\n",
       "      <td>86152093_47511127657_716022</td>\n",
       "      <td>start</td>\n",
       "      <td>2017-06-03 12:17:09</td>\n",
       "    </tr>\n",
       "  </tbody>\n",
       "</table>\n",
       "<p>744641 rows × 5 columns</p>\n",
       "</div>"
      ],
      "text/plain": [
       "        client_id             visitor_id                      visit_id  \\\n",
       "0         9988021   580560515_7732621733  781255054_21935453173_531117   \n",
       "1         9988021   580560515_7732621733  781255054_21935453173_531117   \n",
       "2         9988021   580560515_7732621733  781255054_21935453173_531117   \n",
       "3         9988021   580560515_7732621733  781255054_21935453173_531117   \n",
       "4         9988021   580560515_7732621733  781255054_21935453173_531117   \n",
       "...           ...                    ...                           ...   \n",
       "744636    9668240   388766751_9038881013   922267647_3096648104_968866   \n",
       "744637    9668240   388766751_9038881013   922267647_3096648104_968866   \n",
       "744638    9668240   388766751_9038881013   922267647_3096648104_968866   \n",
       "744639    9668240   388766751_9038881013   922267647_3096648104_968866   \n",
       "744640     674799  947159805_81558194550   86152093_47511127657_716022   \n",
       "\n",
       "       process_step            date_time  \n",
       "0            step_3  2017-04-17 15:27:07  \n",
       "1            step_2  2017-04-17 15:26:51  \n",
       "2            step_3  2017-04-17 15:19:22  \n",
       "3            step_2  2017-04-17 15:19:13  \n",
       "4            step_3  2017-04-17 15:18:04  \n",
       "...             ...                  ...  \n",
       "744636        start  2017-05-24 18:46:10  \n",
       "744637        start  2017-05-24 18:45:29  \n",
       "744638       step_1  2017-05-24 18:44:51  \n",
       "744639        start  2017-05-24 18:44:34  \n",
       "744640        start  2017-06-03 12:17:09  \n",
       "\n",
       "[744641 rows x 5 columns]"
      ]
     },
     "execution_count": 60,
     "metadata": {},
     "output_type": "execute_result"
    }
   ],
   "source": [
    "merged_df"
   ]
  },
  {
   "cell_type": "code",
   "execution_count": 61,
   "id": "1ee503e9",
   "metadata": {},
   "outputs": [
    {
     "data": {
      "text/html": [
       "<div>\n",
       "<style scoped>\n",
       "    .dataframe tbody tr th:only-of-type {\n",
       "        vertical-align: middle;\n",
       "    }\n",
       "\n",
       "    .dataframe tbody tr th {\n",
       "        vertical-align: top;\n",
       "    }\n",
       "\n",
       "    .dataframe thead th {\n",
       "        text-align: right;\n",
       "    }\n",
       "</style>\n",
       "<table border=\"1\" class=\"dataframe\">\n",
       "  <thead>\n",
       "    <tr style=\"text-align: right;\">\n",
       "      <th></th>\n",
       "      <th>client_id</th>\n",
       "      <th>Variation</th>\n",
       "    </tr>\n",
       "  </thead>\n",
       "  <tbody>\n",
       "    <tr>\n",
       "      <th>0</th>\n",
       "      <td>9988021</td>\n",
       "      <td>Test</td>\n",
       "    </tr>\n",
       "    <tr>\n",
       "      <th>1</th>\n",
       "      <td>8320017</td>\n",
       "      <td>Test</td>\n",
       "    </tr>\n",
       "    <tr>\n",
       "      <th>2</th>\n",
       "      <td>4033851</td>\n",
       "      <td>Control</td>\n",
       "    </tr>\n",
       "    <tr>\n",
       "      <th>3</th>\n",
       "      <td>1982004</td>\n",
       "      <td>Test</td>\n",
       "    </tr>\n",
       "    <tr>\n",
       "      <th>4</th>\n",
       "      <td>9294070</td>\n",
       "      <td>Control</td>\n",
       "    </tr>\n",
       "    <tr>\n",
       "      <th>...</th>\n",
       "      <td>...</td>\n",
       "      <td>...</td>\n",
       "    </tr>\n",
       "    <tr>\n",
       "      <th>50495</th>\n",
       "      <td>393005</td>\n",
       "      <td>Control</td>\n",
       "    </tr>\n",
       "    <tr>\n",
       "      <th>50496</th>\n",
       "      <td>2908510</td>\n",
       "      <td>Control</td>\n",
       "    </tr>\n",
       "    <tr>\n",
       "      <th>50497</th>\n",
       "      <td>7230446</td>\n",
       "      <td>Test</td>\n",
       "    </tr>\n",
       "    <tr>\n",
       "      <th>50498</th>\n",
       "      <td>5230357</td>\n",
       "      <td>Test</td>\n",
       "    </tr>\n",
       "    <tr>\n",
       "      <th>50499</th>\n",
       "      <td>6334360</td>\n",
       "      <td>Test</td>\n",
       "    </tr>\n",
       "  </tbody>\n",
       "</table>\n",
       "<p>50500 rows × 2 columns</p>\n",
       "</div>"
      ],
      "text/plain": [
       "       client_id Variation\n",
       "0        9988021      Test\n",
       "1        8320017      Test\n",
       "2        4033851   Control\n",
       "3        1982004      Test\n",
       "4        9294070   Control\n",
       "...          ...       ...\n",
       "50495     393005   Control\n",
       "50496    2908510   Control\n",
       "50497    7230446      Test\n",
       "50498    5230357      Test\n",
       "50499    6334360      Test\n",
       "\n",
       "[50500 rows x 2 columns]"
      ]
     },
     "execution_count": 61,
     "metadata": {},
     "output_type": "execute_result"
    }
   ],
   "source": [
    "df_cleaned\n"
   ]
  },
  {
   "cell_type": "code",
   "execution_count": 62,
   "id": "3f76af9c",
   "metadata": {},
   "outputs": [
    {
     "data": {
      "text/plain": [
       "array([9, 6, 3, 5, 4, 8, 7, 1, 2])"
      ]
     },
     "execution_count": 62,
     "metadata": {},
     "output_type": "execute_result"
    }
   ],
   "source": [
    "df_droped['logins_last_6_months'].unique()"
   ]
  },
  {
   "cell_type": "code",
   "execution_count": 63,
   "id": "3f2fd70a",
   "metadata": {},
   "outputs": [
    {
     "data": {
      "text/plain": [
       "array(['step_3', 'step_2', 'step_1', 'start', 'confirm'], dtype=object)"
      ]
     },
     "execution_count": 63,
     "metadata": {},
     "output_type": "execute_result"
    }
   ],
   "source": [
    "merged_df['process_step'].unique()"
   ]
  },
  {
   "cell_type": "code",
   "execution_count": 64,
   "id": "2c9e2b18",
   "metadata": {},
   "outputs": [
    {
     "data": {
      "text/plain": [
       "array(['Test', 'Control'], dtype=object)"
      ]
     },
     "execution_count": 64,
     "metadata": {},
     "output_type": "execute_result"
    }
   ],
   "source": [
    "df_cleaned['Variation'].unique()"
   ]
  },
  {
   "cell_type": "markdown",
   "id": "1bdff394",
   "metadata": {},
   "source": [
    "MERGING THE CLEANED DATAFRAMES\n"
   ]
  },
  {
   "cell_type": "code",
   "execution_count": 65,
   "id": "8fc406f2",
   "metadata": {},
   "outputs": [],
   "source": [
    "df_client = pd.merge(df_droped,df_cleaned, on='client_id', how='inner')"
   ]
  },
  {
   "cell_type": "code",
   "execution_count": 66,
   "id": "0f63b88b",
   "metadata": {},
   "outputs": [
    {
     "data": {
      "text/html": [
       "<div>\n",
       "<style scoped>\n",
       "    .dataframe tbody tr th:only-of-type {\n",
       "        vertical-align: middle;\n",
       "    }\n",
       "\n",
       "    .dataframe tbody tr th {\n",
       "        vertical-align: top;\n",
       "    }\n",
       "\n",
       "    .dataframe thead th {\n",
       "        text-align: right;\n",
       "    }\n",
       "</style>\n",
       "<table border=\"1\" class=\"dataframe\">\n",
       "  <thead>\n",
       "    <tr style=\"text-align: right;\">\n",
       "      <th></th>\n",
       "      <th>client_id</th>\n",
       "      <th>client_tenure_year</th>\n",
       "      <th>client_tenure_month</th>\n",
       "      <th>client_age</th>\n",
       "      <th>gender</th>\n",
       "      <th>number_of_accounts</th>\n",
       "      <th>balance</th>\n",
       "      <th>calls_last_6_months</th>\n",
       "      <th>logins_last_6_months</th>\n",
       "      <th>Variation</th>\n",
       "    </tr>\n",
       "  </thead>\n",
       "  <tbody>\n",
       "    <tr>\n",
       "      <th>0</th>\n",
       "      <td>836976</td>\n",
       "      <td>6</td>\n",
       "      <td>73</td>\n",
       "      <td>60.5</td>\n",
       "      <td>Unknown</td>\n",
       "      <td>2</td>\n",
       "      <td>45105.30</td>\n",
       "      <td>6</td>\n",
       "      <td>9</td>\n",
       "      <td>Test</td>\n",
       "    </tr>\n",
       "    <tr>\n",
       "      <th>1</th>\n",
       "      <td>2304905</td>\n",
       "      <td>7</td>\n",
       "      <td>94</td>\n",
       "      <td>58.0</td>\n",
       "      <td>Unknown</td>\n",
       "      <td>2</td>\n",
       "      <td>110860.30</td>\n",
       "      <td>6</td>\n",
       "      <td>9</td>\n",
       "      <td>Control</td>\n",
       "    </tr>\n",
       "    <tr>\n",
       "      <th>2</th>\n",
       "      <td>1439522</td>\n",
       "      <td>5</td>\n",
       "      <td>64</td>\n",
       "      <td>32.0</td>\n",
       "      <td>Unknown</td>\n",
       "      <td>2</td>\n",
       "      <td>52467.79</td>\n",
       "      <td>6</td>\n",
       "      <td>9</td>\n",
       "      <td>Test</td>\n",
       "    </tr>\n",
       "    <tr>\n",
       "      <th>3</th>\n",
       "      <td>1562045</td>\n",
       "      <td>16</td>\n",
       "      <td>198</td>\n",
       "      <td>49.0</td>\n",
       "      <td>Male</td>\n",
       "      <td>2</td>\n",
       "      <td>67454.65</td>\n",
       "      <td>3</td>\n",
       "      <td>6</td>\n",
       "      <td>Test</td>\n",
       "    </tr>\n",
       "    <tr>\n",
       "      <th>4</th>\n",
       "      <td>5126305</td>\n",
       "      <td>12</td>\n",
       "      <td>145</td>\n",
       "      <td>33.0</td>\n",
       "      <td>Female</td>\n",
       "      <td>2</td>\n",
       "      <td>103671.75</td>\n",
       "      <td>0</td>\n",
       "      <td>3</td>\n",
       "      <td>Control</td>\n",
       "    </tr>\n",
       "    <tr>\n",
       "      <th>...</th>\n",
       "      <td>...</td>\n",
       "      <td>...</td>\n",
       "      <td>...</td>\n",
       "      <td>...</td>\n",
       "      <td>...</td>\n",
       "      <td>...</td>\n",
       "      <td>...</td>\n",
       "      <td>...</td>\n",
       "      <td>...</td>\n",
       "      <td>...</td>\n",
       "    </tr>\n",
       "    <tr>\n",
       "      <th>50480</th>\n",
       "      <td>1780858</td>\n",
       "      <td>21</td>\n",
       "      <td>262</td>\n",
       "      <td>68.5</td>\n",
       "      <td>Male</td>\n",
       "      <td>3</td>\n",
       "      <td>372100.59</td>\n",
       "      <td>6</td>\n",
       "      <td>9</td>\n",
       "      <td>Test</td>\n",
       "    </tr>\n",
       "    <tr>\n",
       "      <th>50481</th>\n",
       "      <td>6967120</td>\n",
       "      <td>21</td>\n",
       "      <td>260</td>\n",
       "      <td>68.5</td>\n",
       "      <td>Male</td>\n",
       "      <td>3</td>\n",
       "      <td>4279873.38</td>\n",
       "      <td>6</td>\n",
       "      <td>9</td>\n",
       "      <td>Control</td>\n",
       "    </tr>\n",
       "    <tr>\n",
       "      <th>50482</th>\n",
       "      <td>5826160</td>\n",
       "      <td>20</td>\n",
       "      <td>249</td>\n",
       "      <td>56.5</td>\n",
       "      <td>Female</td>\n",
       "      <td>2</td>\n",
       "      <td>44837.16</td>\n",
       "      <td>2</td>\n",
       "      <td>5</td>\n",
       "      <td>Test</td>\n",
       "    </tr>\n",
       "    <tr>\n",
       "      <th>50483</th>\n",
       "      <td>8739285</td>\n",
       "      <td>19</td>\n",
       "      <td>229</td>\n",
       "      <td>69.5</td>\n",
       "      <td>Female</td>\n",
       "      <td>2</td>\n",
       "      <td>44994.24</td>\n",
       "      <td>1</td>\n",
       "      <td>4</td>\n",
       "      <td>Test</td>\n",
       "    </tr>\n",
       "    <tr>\n",
       "      <th>50484</th>\n",
       "      <td>7468138</td>\n",
       "      <td>18</td>\n",
       "      <td>222</td>\n",
       "      <td>61.0</td>\n",
       "      <td>Female</td>\n",
       "      <td>3</td>\n",
       "      <td>209278.15</td>\n",
       "      <td>0</td>\n",
       "      <td>3</td>\n",
       "      <td>Test</td>\n",
       "    </tr>\n",
       "  </tbody>\n",
       "</table>\n",
       "<p>50485 rows × 10 columns</p>\n",
       "</div>"
      ],
      "text/plain": [
       "       client_id  client_tenure_year  client_tenure_month  client_age  \\\n",
       "0         836976                   6                   73        60.5   \n",
       "1        2304905                   7                   94        58.0   \n",
       "2        1439522                   5                   64        32.0   \n",
       "3        1562045                  16                  198        49.0   \n",
       "4        5126305                  12                  145        33.0   \n",
       "...          ...                 ...                  ...         ...   \n",
       "50480    1780858                  21                  262        68.5   \n",
       "50481    6967120                  21                  260        68.5   \n",
       "50482    5826160                  20                  249        56.5   \n",
       "50483    8739285                  19                  229        69.5   \n",
       "50484    7468138                  18                  222        61.0   \n",
       "\n",
       "        gender  number_of_accounts     balance  calls_last_6_months  \\\n",
       "0      Unknown                   2    45105.30                    6   \n",
       "1      Unknown                   2   110860.30                    6   \n",
       "2      Unknown                   2    52467.79                    6   \n",
       "3         Male                   2    67454.65                    3   \n",
       "4       Female                   2   103671.75                    0   \n",
       "...        ...                 ...         ...                  ...   \n",
       "50480     Male                   3   372100.59                    6   \n",
       "50481     Male                   3  4279873.38                    6   \n",
       "50482   Female                   2    44837.16                    2   \n",
       "50483   Female                   2    44994.24                    1   \n",
       "50484   Female                   3   209278.15                    0   \n",
       "\n",
       "       logins_last_6_months Variation  \n",
       "0                         9      Test  \n",
       "1                         9   Control  \n",
       "2                         9      Test  \n",
       "3                         6      Test  \n",
       "4                         3   Control  \n",
       "...                     ...       ...  \n",
       "50480                     9      Test  \n",
       "50481                     9   Control  \n",
       "50482                     5      Test  \n",
       "50483                     4      Test  \n",
       "50484                     3      Test  \n",
       "\n",
       "[50485 rows x 10 columns]"
      ]
     },
     "execution_count": 66,
     "metadata": {},
     "output_type": "execute_result"
    }
   ],
   "source": [
    "df_client"
   ]
  },
  {
   "cell_type": "markdown",
   "id": "edae7e5f",
   "metadata": {},
   "source": [
    "COMPARING VARIATION COLUMN AND logins_last_6_months COLUMNS:"
   ]
  },
  {
   "cell_type": "code",
   "execution_count": 67,
   "id": "9c393fe4",
   "metadata": {},
   "outputs": [
    {
     "name": "stdout",
     "output_type": "stream",
     "text": [
      "logins_last_6_months     3     4     5     6     7     8     9\n",
      "Variation                                                     \n",
      "Control               3318  3553  3480  2732  2294  2290  5859\n",
      "Test                  3993  4301  3803  3233  2619  2520  6490\n"
     ]
    }
   ],
   "source": [
    "login_counts = df_client.groupby(['Variation','logins_last_6_months']).size().unstack(fill_value=0)\n",
    "print(login_counts)"
   ]
  },
  {
   "cell_type": "code",
   "execution_count": 68,
   "id": "b9d9a366",
   "metadata": {},
   "outputs": [
    {
     "name": "stdout",
     "output_type": "stream",
     "text": [
      "logins_last_6_months      3      4      5      6     7     8      9\n",
      "Variation                                                          \n",
      "Control               14.10  15.10  14.79  11.61  9.75  9.73  24.90\n",
      "Test                  14.81  15.95  14.11  11.99  9.71  9.35  24.07\n"
     ]
    }
   ],
   "source": [
    "login_percent = df_client.groupby('Variation')['logins_last_6_months'].value_counts(normalize=True).unstack(fill_value=0) * 100\n",
    "print(login_percent.round(2))"
   ]
  },
  {
   "cell_type": "code",
   "execution_count": 69,
   "id": "f03dcd46",
   "metadata": {},
   "outputs": [
    {
     "data": {
      "image/png": "[encoded data removed]",
      "text/plain": [
       "<Figure size 1200x600 with 1 Axes>"
      ]
     },
     "metadata": {},
     "output_type": "display_data"
    }
   ],
   "source": [
    "plot_data =df_client.groupby(['Variation', 'logins_last_6_months']).size().reset_index(name='count')\n",
    "\n",
    "plt.figure(figsize=(12, 6))\n",
    "sns.barplot(data=plot_data, x='logins_last_6_months', y='count', hue='Variation')\n",
    "plt.xticks(rotation=45)\n",
    "plt.title('Login Method Distribution by Variation')\n",
    "plt.ylabel('Count')\n",
    "plt.xlabel('Login Method')\n",
    "plt.tight_layout()\n",
    "plt.show()"
   ]
  },
  {
   "cell_type": "code",
   "execution_count": 70,
   "id": "dffdee99",
   "metadata": {},
   "outputs": [
    {
     "data": {
      "text/html": [
       "<div>\n",
       "<style scoped>\n",
       "    .dataframe tbody tr th:only-of-type {\n",
       "        vertical-align: middle;\n",
       "    }\n",
       "\n",
       "    .dataframe tbody tr th {\n",
       "        vertical-align: top;\n",
       "    }\n",
       "\n",
       "    .dataframe thead th {\n",
       "        text-align: right;\n",
       "    }\n",
       "</style>\n",
       "<table border=\"1\" class=\"dataframe\">\n",
       "  <thead>\n",
       "    <tr style=\"text-align: right;\">\n",
       "      <th></th>\n",
       "      <th>client_id</th>\n",
       "      <th>visitor_id</th>\n",
       "      <th>visit_id</th>\n",
       "      <th>process_step</th>\n",
       "      <th>date_time</th>\n",
       "      <th>client_tenure_year</th>\n",
       "      <th>client_tenure_month</th>\n",
       "      <th>client_age</th>\n",
       "      <th>gender</th>\n",
       "      <th>number_of_accounts</th>\n",
       "      <th>balance</th>\n",
       "      <th>calls_last_6_months</th>\n",
       "      <th>logins_last_6_months</th>\n",
       "      <th>Variation</th>\n",
       "    </tr>\n",
       "  </thead>\n",
       "  <tbody>\n",
       "    <tr>\n",
       "      <th>0</th>\n",
       "      <td>9988021</td>\n",
       "      <td>580560515_7732621733</td>\n",
       "      <td>781255054_21935453173_531117</td>\n",
       "      <td>step_3</td>\n",
       "      <td>2017-04-17 15:27:07</td>\n",
       "      <td>5</td>\n",
       "      <td>64</td>\n",
       "      <td>79.0</td>\n",
       "      <td>Unknown</td>\n",
       "      <td>2</td>\n",
       "      <td>189023.86</td>\n",
       "      <td>1</td>\n",
       "      <td>4</td>\n",
       "      <td>Test</td>\n",
       "    </tr>\n",
       "    <tr>\n",
       "      <th>1</th>\n",
       "      <td>9988021</td>\n",
       "      <td>580560515_7732621733</td>\n",
       "      <td>781255054_21935453173_531117</td>\n",
       "      <td>step_2</td>\n",
       "      <td>2017-04-17 15:26:51</td>\n",
       "      <td>5</td>\n",
       "      <td>64</td>\n",
       "      <td>79.0</td>\n",
       "      <td>Unknown</td>\n",
       "      <td>2</td>\n",
       "      <td>189023.86</td>\n",
       "      <td>1</td>\n",
       "      <td>4</td>\n",
       "      <td>Test</td>\n",
       "    </tr>\n",
       "    <tr>\n",
       "      <th>2</th>\n",
       "      <td>9988021</td>\n",
       "      <td>580560515_7732621733</td>\n",
       "      <td>781255054_21935453173_531117</td>\n",
       "      <td>step_3</td>\n",
       "      <td>2017-04-17 15:19:22</td>\n",
       "      <td>5</td>\n",
       "      <td>64</td>\n",
       "      <td>79.0</td>\n",
       "      <td>Unknown</td>\n",
       "      <td>2</td>\n",
       "      <td>189023.86</td>\n",
       "      <td>1</td>\n",
       "      <td>4</td>\n",
       "      <td>Test</td>\n",
       "    </tr>\n",
       "    <tr>\n",
       "      <th>3</th>\n",
       "      <td>9988021</td>\n",
       "      <td>580560515_7732621733</td>\n",
       "      <td>781255054_21935453173_531117</td>\n",
       "      <td>step_2</td>\n",
       "      <td>2017-04-17 15:19:13</td>\n",
       "      <td>5</td>\n",
       "      <td>64</td>\n",
       "      <td>79.0</td>\n",
       "      <td>Unknown</td>\n",
       "      <td>2</td>\n",
       "      <td>189023.86</td>\n",
       "      <td>1</td>\n",
       "      <td>4</td>\n",
       "      <td>Test</td>\n",
       "    </tr>\n",
       "    <tr>\n",
       "      <th>4</th>\n",
       "      <td>9988021</td>\n",
       "      <td>580560515_7732621733</td>\n",
       "      <td>781255054_21935453173_531117</td>\n",
       "      <td>step_3</td>\n",
       "      <td>2017-04-17 15:18:04</td>\n",
       "      <td>5</td>\n",
       "      <td>64</td>\n",
       "      <td>79.0</td>\n",
       "      <td>Unknown</td>\n",
       "      <td>2</td>\n",
       "      <td>189023.86</td>\n",
       "      <td>1</td>\n",
       "      <td>4</td>\n",
       "      <td>Test</td>\n",
       "    </tr>\n",
       "    <tr>\n",
       "      <th>...</th>\n",
       "      <td>...</td>\n",
       "      <td>...</td>\n",
       "      <td>...</td>\n",
       "      <td>...</td>\n",
       "      <td>...</td>\n",
       "      <td>...</td>\n",
       "      <td>...</td>\n",
       "      <td>...</td>\n",
       "      <td>...</td>\n",
       "      <td>...</td>\n",
       "      <td>...</td>\n",
       "      <td>...</td>\n",
       "      <td>...</td>\n",
       "      <td>...</td>\n",
       "    </tr>\n",
       "    <tr>\n",
       "      <th>317110</th>\n",
       "      <td>1574008</td>\n",
       "      <td>117364417_77840596075</td>\n",
       "      <td>528720790_71583064618_169151</td>\n",
       "      <td>start</td>\n",
       "      <td>2017-05-06 23:43:27</td>\n",
       "      <td>10</td>\n",
       "      <td>121</td>\n",
       "      <td>55.0</td>\n",
       "      <td>Unknown</td>\n",
       "      <td>2</td>\n",
       "      <td>153238.83</td>\n",
       "      <td>3</td>\n",
       "      <td>6</td>\n",
       "      <td>Test</td>\n",
       "    </tr>\n",
       "    <tr>\n",
       "      <th>317111</th>\n",
       "      <td>2908510</td>\n",
       "      <td>814969699_90652851448</td>\n",
       "      <td>562606085_36368381773_92090</td>\n",
       "      <td>start</td>\n",
       "      <td>2017-05-10 22:57:17</td>\n",
       "      <td>21</td>\n",
       "      <td>252</td>\n",
       "      <td>34.0</td>\n",
       "      <td>Male</td>\n",
       "      <td>3</td>\n",
       "      <td>141808.05</td>\n",
       "      <td>6</td>\n",
       "      <td>9</td>\n",
       "      <td>Control</td>\n",
       "    </tr>\n",
       "    <tr>\n",
       "      <th>317112</th>\n",
       "      <td>2908510</td>\n",
       "      <td>814969699_90652851448</td>\n",
       "      <td>562606085_36368381773_92090</td>\n",
       "      <td>step_2</td>\n",
       "      <td>2017-05-10 22:56:31</td>\n",
       "      <td>21</td>\n",
       "      <td>252</td>\n",
       "      <td>34.0</td>\n",
       "      <td>Male</td>\n",
       "      <td>3</td>\n",
       "      <td>141808.05</td>\n",
       "      <td>6</td>\n",
       "      <td>9</td>\n",
       "      <td>Control</td>\n",
       "    </tr>\n",
       "    <tr>\n",
       "      <th>317113</th>\n",
       "      <td>2908510</td>\n",
       "      <td>814969699_90652851448</td>\n",
       "      <td>562606085_36368381773_92090</td>\n",
       "      <td>step_1</td>\n",
       "      <td>2017-05-10 22:56:23</td>\n",
       "      <td>21</td>\n",
       "      <td>252</td>\n",
       "      <td>34.0</td>\n",
       "      <td>Male</td>\n",
       "      <td>3</td>\n",
       "      <td>141808.05</td>\n",
       "      <td>6</td>\n",
       "      <td>9</td>\n",
       "      <td>Control</td>\n",
       "    </tr>\n",
       "    <tr>\n",
       "      <th>317114</th>\n",
       "      <td>2908510</td>\n",
       "      <td>814969699_90652851448</td>\n",
       "      <td>562606085_36368381773_92090</td>\n",
       "      <td>start</td>\n",
       "      <td>2017-05-10 22:56:20</td>\n",
       "      <td>21</td>\n",
       "      <td>252</td>\n",
       "      <td>34.0</td>\n",
       "      <td>Male</td>\n",
       "      <td>3</td>\n",
       "      <td>141808.05</td>\n",
       "      <td>6</td>\n",
       "      <td>9</td>\n",
       "      <td>Control</td>\n",
       "    </tr>\n",
       "  </tbody>\n",
       "</table>\n",
       "<p>317115 rows × 14 columns</p>\n",
       "</div>"
      ],
      "text/plain": [
       "        client_id             visitor_id                      visit_id  \\\n",
       "0         9988021   580560515_7732621733  781255054_21935453173_531117   \n",
       "1         9988021   580560515_7732621733  781255054_21935453173_531117   \n",
       "2         9988021   580560515_7732621733  781255054_21935453173_531117   \n",
       "3         9988021   580560515_7732621733  781255054_21935453173_531117   \n",
       "4         9988021   580560515_7732621733  781255054_21935453173_531117   \n",
       "...           ...                    ...                           ...   \n",
       "317110    1574008  117364417_77840596075  528720790_71583064618_169151   \n",
       "317111    2908510  814969699_90652851448   562606085_36368381773_92090   \n",
       "317112    2908510  814969699_90652851448   562606085_36368381773_92090   \n",
       "317113    2908510  814969699_90652851448   562606085_36368381773_92090   \n",
       "317114    2908510  814969699_90652851448   562606085_36368381773_92090   \n",
       "\n",
       "       process_step            date_time  client_tenure_year  \\\n",
       "0            step_3  2017-04-17 15:27:07                   5   \n",
       "1            step_2  2017-04-17 15:26:51                   5   \n",
       "2            step_3  2017-04-17 15:19:22                   5   \n",
       "3            step_2  2017-04-17 15:19:13                   5   \n",
       "4            step_3  2017-04-17 15:18:04                   5   \n",
       "...             ...                  ...                 ...   \n",
       "317110        start  2017-05-06 23:43:27                  10   \n",
       "317111        start  2017-05-10 22:57:17                  21   \n",
       "317112       step_2  2017-05-10 22:56:31                  21   \n",
       "317113       step_1  2017-05-10 22:56:23                  21   \n",
       "317114        start  2017-05-10 22:56:20                  21   \n",
       "\n",
       "        client_tenure_month  client_age   gender  number_of_accounts  \\\n",
       "0                        64        79.0  Unknown                   2   \n",
       "1                        64        79.0  Unknown                   2   \n",
       "2                        64        79.0  Unknown                   2   \n",
       "3                        64        79.0  Unknown                   2   \n",
       "4                        64        79.0  Unknown                   2   \n",
       "...                     ...         ...      ...                 ...   \n",
       "317110                  121        55.0  Unknown                   2   \n",
       "317111                  252        34.0     Male                   3   \n",
       "317112                  252        34.0     Male                   3   \n",
       "317113                  252        34.0     Male                   3   \n",
       "317114                  252        34.0     Male                   3   \n",
       "\n",
       "          balance  calls_last_6_months  logins_last_6_months Variation  \n",
       "0       189023.86                    1                     4      Test  \n",
       "1       189023.86                    1                     4      Test  \n",
       "2       189023.86                    1                     4      Test  \n",
       "3       189023.86                    1                     4      Test  \n",
       "4       189023.86                    1                     4      Test  \n",
       "...           ...                  ...                   ...       ...  \n",
       "317110  153238.83                    3                     6      Test  \n",
       "317111  141808.05                    6                     9   Control  \n",
       "317112  141808.05                    6                     9   Control  \n",
       "317113  141808.05                    6                     9   Control  \n",
       "317114  141808.05                    6                     9   Control  \n",
       "\n",
       "[317115 rows x 14 columns]"
      ]
     },
     "execution_count": 70,
     "metadata": {},
     "output_type": "execute_result"
    }
   ],
   "source": [
    "df_final= pd.merge(merged_df,df_client, on='client_id', how='inner')\n",
    "df_final"
   ]
  },
  {
   "cell_type": "markdown",
   "id": "95a8ea85",
   "metadata": {},
   "source": [
    "ANALYSING WHETHER THE MAJORITY OF THE CLIENTS ARE YOUNGER OR OLDER"
   ]
  },
  {
   "cell_type": "code",
   "execution_count": 71,
   "id": "eadb1660",
   "metadata": {},
   "outputs": [
    {
     "data": {
      "text/plain": [
       "0        above 55\n",
       "1        above 55\n",
       "2        above 55\n",
       "3        above 55\n",
       "4        above 55\n",
       "           ...   \n",
       "70604       46-55\n",
       "70605       46-55\n",
       "70606       36-45\n",
       "70607    above 55\n",
       "70608    above 55\n",
       "Name: age_group, Length: 70609, dtype: object"
      ]
     },
     "execution_count": 71,
     "metadata": {},
     "output_type": "execute_result"
    }
   ],
   "source": [
    "df['age_group'] = df_final['client_age'].apply(\n",
    "    lambda x: 'under 25' if x < 25 else(\n",
    "        '26-35' if x < 35 else (\n",
    "            '36-45' if x < 45 else(\n",
    "                '46-55' if x < 55 else 'above 55'\n",
    "            )\n",
    "        )\n",
    "    )\n",
    ")\n",
    "df['age_group']"
   ]
  },
  {
   "cell_type": "markdown",
   "id": "cf340a76",
   "metadata": {},
   "source": [
    "SEPARATING CONTROL AND TEST"
   ]
  },
  {
   "cell_type": "code",
   "execution_count": 72,
   "id": "9b6260d4",
   "metadata": {},
   "outputs": [],
   "source": [
    "df_control = df_final[df_final['Variation'] == 'Control']\n",
    "df_test = df_final[df_final['Variation'] == 'Test']"
   ]
  },
  {
   "cell_type": "code",
   "execution_count": 73,
   "id": "97337f94",
   "metadata": {},
   "outputs": [],
   "source": [
    "df_control = df_final[df_final['Variation'] == 'Control'].copy()\n",
    "df_control['age_group'] = df_final['client_age'].apply(\n",
    "    lambda x: 'under 25' if x < 25 else(\n",
    "        '26-35' if x < 35 else (\n",
    "            '36-45' if x < 45 else(\n",
    "                '46-55' if x < 55 else 'above 55'\n",
    "            )\n",
    "        )\n",
    "    )\n",
    ")"
   ]
  },
  {
   "cell_type": "code",
   "execution_count": 74,
   "id": "f6d75b17",
   "metadata": {},
   "outputs": [
    {
     "name": "stdout",
     "output_type": "stream",
     "text": [
      "age_group\n",
      "above 55    54643\n",
      "46-55       27456\n",
      "26-35       27346\n",
      "36-45       22308\n",
      "under 25     8729\n",
      "Name: count, dtype: int64\n"
     ]
    }
   ],
   "source": [
    "print(df_control['age_group'].value_counts())"
   ]
  },
  {
   "cell_type": "code",
   "execution_count": 75,
   "id": "8ac5801b",
   "metadata": {},
   "outputs": [
    {
     "name": "stderr",
     "output_type": "stream",
     "text": [
      "C:\\Users\\Naveen\\AppData\\Local\\Temp\\ipykernel_2816\\1441729912.py:7: FutureWarning: \n",
      "\n",
      "Passing `palette` without assigning `hue` is deprecated and will be removed in v0.14.0. Assign the `x` variable to `hue` and set `legend=False` for the same effect.\n",
      "\n",
      "  sns.barplot(x=age_counts.index, y=age_counts.values, palette='viridis')\n"
     ]
    },
    {
     "data": {
      "image/png": "[encoded data removed]",
      "text/plain": [
       "<Figure size 800x500 with 1 Axes>"
      ]
     },
     "metadata": {},
     "output_type": "display_data"
    }
   ],
   "source": [
    "age_counts = df_control['age_group'].value_counts().reindex(\n",
    "    ['under 25', '26-35', '36-45', '46-55', 'above 55']\n",
    ")\n",
    "\n",
    "# Plot\n",
    "plt.figure(figsize=(8, 5))\n",
    "sns.barplot(x=age_counts.index, y=age_counts.values, palette='viridis')\n",
    "\n",
    "plt.title('Age Group Distribution in Control Group')\n",
    "plt.xlabel('Age Group')\n",
    "plt.ylabel('Count')\n",
    "plt.xticks(rotation=45)\n",
    "plt.tight_layout()\n",
    "plt.show()\n"
   ]
  },
  {
   "cell_type": "code",
   "execution_count": 76,
   "id": "bcfe679d",
   "metadata": {},
   "outputs": [],
   "source": [
    "df_test = df_final[df_final['Variation'] == 'Test'].copy()\n",
    "df_test['age_group'] = df_final['client_age'].apply(\n",
    "    lambda x: 'under 25' if x < 25 else(\n",
    "        '26-35' if x < 34 else (\n",
    "            '36-45' if x < 44 else(\n",
    "                '46-55' if x < 54 else 'above 55'\n",
    "            )\n",
    "        )\n",
    "    )\n",
    ")"
   ]
  },
  {
   "cell_type": "code",
   "execution_count": 77,
   "id": "b3b7f4fa",
   "metadata": {},
   "outputs": [
    {
     "name": "stdout",
     "output_type": "stream",
     "text": [
      "age_group\n",
      "above 55    74935\n",
      "46-55       33529\n",
      "26-35       30208\n",
      "36-45       27033\n",
      "under 25    10928\n",
      "Name: count, dtype: int64\n"
     ]
    }
   ],
   "source": [
    "print(df_test['age_group'].value_counts())"
   ]
  },
  {
   "cell_type": "code",
   "execution_count": 78,
   "id": "d6eeaf66",
   "metadata": {},
   "outputs": [
    {
     "name": "stderr",
     "output_type": "stream",
     "text": [
      "C:\\Users\\Naveen\\AppData\\Local\\Temp\\ipykernel_2816\\1892792943.py:7: FutureWarning: \n",
      "\n",
      "Passing `palette` without assigning `hue` is deprecated and will be removed in v0.14.0. Assign the `x` variable to `hue` and set `legend=False` for the same effect.\n",
      "\n",
      "  sns.barplot(x=age_counts.index, y=age_counts.values, palette='viridis')\n"
     ]
    },
    {
     "data": {
      "image/png": "[encoded data removed]",
      "text/plain": [
       "<Figure size 800x500 with 1 Axes>"
      ]
     },
     "metadata": {},
     "output_type": "display_data"
    }
   ],
   "source": [
    "age_counts = df_test['age_group'].value_counts().reindex(\n",
    "    ['under 25', '26-35', '36-45', '46-55', 'above 55']\n",
    ")\n",
    "\n",
    "# Plot\n",
    "plt.figure(figsize=(8, 5))\n",
    "sns.barplot(x=age_counts.index, y=age_counts.values, palette='viridis')\n",
    "\n",
    "plt.title('Age Group Distribution in Test Group')\n",
    "plt.xlabel('Age Group')\n",
    "plt.ylabel('Count')\n",
    "plt.xticks(rotation=45)\n",
    "plt.tight_layout()\n",
    "plt.show()\n"
   ]
  },
  {
   "cell_type": "markdown",
   "id": "51250326",
   "metadata": {},
   "source": [
    "ANALYSING THE CLIENTS ARE NEW ARE LONG STANDING"
   ]
  },
  {
   "cell_type": "code",
   "execution_count": 79,
   "id": "9156997c",
   "metadata": {},
   "outputs": [
    {
     "data": {
      "text/plain": [
       "array([ 6,  7,  5, 16, 12, 30, 15,  8,  4,  3, 10, 11, 13, 14, 19, 18, 25,\n",
       "       23, 21, 17,  9, 27, 24, 20, 28, 22, 29, 46, 26, 32, 33, 35,  2, 38,\n",
       "       31, 48, 34, 36, 51, 47, 49, 37, 39, 40, 55, 42, 44, 43, 50, 54, 41,\n",
       "       45, 52])"
      ]
     },
     "execution_count": 79,
     "metadata": {},
     "output_type": "execute_result"
    }
   ],
   "source": [
    "df_client['client_tenure_year'].unique()"
   ]
  },
  {
   "cell_type": "code",
   "execution_count": 80,
   "id": "ae4bfc7b",
   "metadata": {},
   "outputs": [
    {
     "data": {
      "text/plain": [
       "<Axes: >"
      ]
     },
     "execution_count": 80,
     "metadata": {},
     "output_type": "execute_result"
    },
    {
     "data": {
      "image/png": "[encoded data removed]",
      "text/plain": [
       "<Figure size 640x480 with 1 Axes>"
      ]
     },
     "metadata": {},
     "output_type": "display_data"
    }
   ],
   "source": [
    "df_client['client_tenure_year'].hist(bins=100)"
   ]
  },
  {
   "cell_type": "code",
   "execution_count": 81,
   "id": "cedb10b5",
   "metadata": {},
   "outputs": [],
   "source": [
    "df['year'] = df_final['client_tenure_year'].apply(\n",
    "    lambda x: '< 10' if x < 10 else (\n",
    "        '10-20' if x < 20 else (\n",
    "            '20-30' if x < 30  else '> 30'\n",
    "        )\n",
    "    )\n",
    ")\n"
   ]
  },
  {
   "cell_type": "code",
   "execution_count": 82,
   "id": "e1cf5137",
   "metadata": {},
   "outputs": [],
   "source": [
    "df_control = df_final[df_final['Variation'] == 'Control'].copy()\n",
    "df_control['year'] = df_final['client_tenure_year'].apply(\n",
    "    lambda x: '< 10' if x < 10 else (\n",
    "        '10-20' if x < 20 else(\n",
    "            '20-30' if x < 30 else '> 30'\n",
    "        )\n",
    "    )\n",
    ")\n"
   ]
  },
  {
   "cell_type": "code",
   "execution_count": 83,
   "id": "e5323a2a",
   "metadata": {},
   "outputs": [
    {
     "name": "stdout",
     "output_type": "stream",
     "text": [
      "year\n",
      "< 10     62593\n",
      "10-20    54162\n",
      "20-30    20919\n",
      "> 30      2808\n",
      "Name: count, dtype: int64\n"
     ]
    }
   ],
   "source": [
    "print(df_control['year'].value_counts())"
   ]
  },
  {
   "cell_type": "code",
   "execution_count": 84,
   "id": "4d6e3303",
   "metadata": {},
   "outputs": [
    {
     "name": "stderr",
     "output_type": "stream",
     "text": [
      "C:\\Users\\Naveen\\AppData\\Local\\Temp\\ipykernel_2816\\2167306000.py:6: FutureWarning: \n",
      "\n",
      "Passing `palette` without assigning `hue` is deprecated and will be removed in v0.14.0. Assign the `x` variable to `hue` and set `legend=False` for the same effect.\n",
      "\n",
      "  ax = sns.barplot(x=year_counts.index, y=year_counts.values, palette='crest')\n"
     ]
    },
    {
     "data": {
      "image/png": "[encoded data removed]",
      "text/plain": [
       "<Figure size 800x500 with 1 Axes>"
      ]
     },
     "metadata": {},
     "output_type": "display_data"
    }
   ],
   "source": [
    "year_counts = df_control['year'].value_counts().reindex(['< 10', '10-20', '20-30', '> 30'])\n",
    "total = year_counts.sum()\n",
    "percentages = (year_counts / total * 100).round(1)\n",
    "# Plot\n",
    "plt.figure(figsize=(8, 5))\n",
    "ax = sns.barplot(x=year_counts.index, y=year_counts.values, palette='crest')\n",
    "\n",
    "for i, (count, pct) in enumerate(zip(year_counts.values, percentages.values)):\n",
    "    ax.text(i, count + total * 0.01, f'{pct}%', ha='center', va='bottom', fontsize=10)\n",
    "    \n",
    "plt.title('Client Tenure Distribution in Control Group')\n",
    "plt.xlabel('Tenure (Years)')\n",
    "plt.ylabel('Count')\n",
    "plt.tight_layout()\n",
    "plt.show()\n"
   ]
  },
  {
   "cell_type": "code",
   "execution_count": 85,
   "id": "7d399623",
   "metadata": {},
   "outputs": [],
   "source": [
    "df_test = df_final[df_final['Variation'] == 'Test'].copy()\n",
    "df_test['year'] = df_final['client_tenure_year'].apply(\n",
    "    lambda x: '< 10' if x < 10 else (\n",
    "        '10-20' if x < 20 else(\n",
    "            '20-30' if x < 30 else '> 30'\n",
    "        )\n",
    "    )\n",
    ")\n"
   ]
  },
  {
   "cell_type": "code",
   "execution_count": 86,
   "id": "1271bdf4",
   "metadata": {},
   "outputs": [
    {
     "name": "stdout",
     "output_type": "stream",
     "text": [
      "year\n",
      "< 10     78084\n",
      "10-20    68844\n",
      "20-30    26075\n",
      "> 30      3630\n",
      "Name: count, dtype: int64\n"
     ]
    }
   ],
   "source": [
    "print(df_test['year'].value_counts())"
   ]
  },
  {
   "cell_type": "code",
   "execution_count": 87,
   "id": "c933319d",
   "metadata": {},
   "outputs": [
    {
     "name": "stderr",
     "output_type": "stream",
     "text": [
      "C:\\Users\\Naveen\\AppData\\Local\\Temp\\ipykernel_2816\\1712808437.py:7: FutureWarning: \n",
      "\n",
      "Passing `palette` without assigning `hue` is deprecated and will be removed in v0.14.0. Assign the `x` variable to `hue` and set `legend=False` for the same effect.\n",
      "\n",
      "  ax = sns.barplot(x=year_counts.index, y=year_counts.values, palette='crest')\n"
     ]
    },
    {
     "data": {
      "image/png": "[encoded data removed]",
      "text/plain": [
       "<Figure size 800x500 with 1 Axes>"
      ]
     },
     "metadata": {},
     "output_type": "display_data"
    }
   ],
   "source": [
    "year_counts = df_test['year'].value_counts().reindex(['< 10', '10-20', '20-30', '> 30'])\n",
    "total = year_counts.sum()\n",
    "percentages = (year_counts / total * 100).round(1)\n",
    "\n",
    "# Plot\n",
    "plt.figure(figsize=(8, 5))\n",
    "ax = sns.barplot(x=year_counts.index, y=year_counts.values, palette='crest')\n",
    "\n",
    "for i, (count, pct) in enumerate(zip(year_counts.values, percentages.values)):\n",
    "    ax.text(i, count + total * 0.01, f'{pct}%', ha='center', va='bottom', fontsize=10)\n",
    "    \n",
    "plt.title('Client Tenure Distribution in Control Group')\n",
    "plt.xlabel('Tenure (Years)')\n",
    "plt.ylabel('Count')\n",
    "plt.tight_layout()\n",
    "plt.show()\n"
   ]
  },
  {
   "cell_type": "code",
   "execution_count": 88,
   "id": "2b38a9ba",
   "metadata": {},
   "outputs": [
    {
     "data": {
      "text/plain": [
       "array(['Unknown', 'Male', 'Female'], dtype=object)"
      ]
     },
     "execution_count": 88,
     "metadata": {},
     "output_type": "execute_result"
    }
   ],
   "source": [
    "df_final['gender'].unique()"
   ]
  },
  {
   "cell_type": "code",
   "execution_count": 89,
   "id": "58458685",
   "metadata": {},
   "outputs": [
    {
     "data": {
      "text/html": [
       "<div>\n",
       "<style scoped>\n",
       "    .dataframe tbody tr th:only-of-type {\n",
       "        vertical-align: middle;\n",
       "    }\n",
       "\n",
       "    .dataframe tbody tr th {\n",
       "        vertical-align: top;\n",
       "    }\n",
       "\n",
       "    .dataframe thead th {\n",
       "        text-align: right;\n",
       "    }\n",
       "</style>\n",
       "<table border=\"1\" class=\"dataframe\">\n",
       "  <thead>\n",
       "    <tr style=\"text-align: right;\">\n",
       "      <th>gender</th>\n",
       "      <th>Female</th>\n",
       "      <th>Male</th>\n",
       "      <th>Unknown</th>\n",
       "    </tr>\n",
       "    <tr>\n",
       "      <th>Variation</th>\n",
       "      <th></th>\n",
       "      <th></th>\n",
       "      <th></th>\n",
       "    </tr>\n",
       "  </thead>\n",
       "  <tbody>\n",
       "    <tr>\n",
       "      <th>Control</th>\n",
       "      <td>44629</td>\n",
       "      <td>47415</td>\n",
       "      <td>48438</td>\n",
       "    </tr>\n",
       "    <tr>\n",
       "      <th>Test</th>\n",
       "      <td>58169</td>\n",
       "      <td>59288</td>\n",
       "      <td>59176</td>\n",
       "    </tr>\n",
       "  </tbody>\n",
       "</table>\n",
       "</div>"
      ],
      "text/plain": [
       "gender     Female   Male  Unknown\n",
       "Variation                        \n",
       "Control     44629  47415    48438\n",
       "Test        58169  59288    59176"
      ]
     },
     "execution_count": 89,
     "metadata": {},
     "output_type": "execute_result"
    }
   ],
   "source": [
    "df_final.groupby(['Variation','gender']).size().unstack(fill_value=0)"
   ]
  },
  {
   "cell_type": "code",
   "execution_count": 90,
   "id": "8fa0b474",
   "metadata": {},
   "outputs": [],
   "source": [
    "pivot_table = pd.crosstab(df_final['Variation'],df_final['gender'])"
   ]
  },
  {
   "cell_type": "code",
   "execution_count": 91,
   "id": "ebf59bdf",
   "metadata": {},
   "outputs": [
    {
     "data": {
      "image/png": "[encoded data removed]",
      "text/plain": [
       "<Figure size 800x500 with 2 Axes>"
      ]
     },
     "metadata": {},
     "output_type": "display_data"
    }
   ],
   "source": [
    "plt.figure(figsize=(8, 5))\n",
    "sns.set_theme(style='white')\n",
    "\n",
    "ax = sns.heatmap(\n",
    "    pivot_table,\n",
    "    annot=True,        # show counts\n",
    "    fmt='d',           # integer format\n",
    "    cmap='YlGnBu',     # beautiful colormap\n",
    "    linewidths=0.5,    # grid lines\n",
    "    cbar_kws={'label': 'Count'}  # color bar label\n",
    ")\n",
    "\n",
    "plt.title('Gender Distribution Heatmap by Variation', fontsize=14)\n",
    "plt.xlabel('Gender', fontsize=12)\n",
    "plt.ylabel('Variation', fontsize=12)\n",
    "plt.tight_layout()\n",
    "plt.show()"
   ]
  },
  {
   "cell_type": "markdown",
   "id": "44eb43fd",
   "metadata": {},
   "source": [
    "PERFORMANCE MATRICS"
   ]
  },
  {
   "cell_type": "markdown",
   "id": "90f90662",
   "metadata": {},
   "source": [
    "Completion Rate"
   ]
  },
  {
   "cell_type": "code",
   "execution_count": 92,
   "id": "b16d0f62",
   "metadata": {},
   "outputs": [
    {
     "data": {
      "text/plain": [
       "process_step\n",
       "start      101109\n",
       "step_1      68181\n",
       "step_2      56652\n",
       "step_3      48250\n",
       "confirm     42923\n",
       "Name: count, dtype: int64"
      ]
     },
     "execution_count": 92,
     "metadata": {},
     "output_type": "execute_result"
    }
   ],
   "source": [
    "df_final['process_step'].value_counts()"
   ]
  },
  {
   "cell_type": "code",
   "execution_count": 93,
   "id": "0081b2bb",
   "metadata": {},
   "outputs": [
    {
     "name": "stdout",
     "output_type": "stream",
     "text": [
      "proportion of 'confirm':13.54%\n"
     ]
    }
   ],
   "source": [
    "confirm_proportion = (df_final['process_step'] == 'confirm').mean()\n",
    "print(f\"proportion of 'confirm':{confirm_proportion:.2%}\")"
   ]
  },
  {
   "cell_type": "code",
   "execution_count": 94,
   "id": "a1d809e8",
   "metadata": {},
   "outputs": [
    {
     "name": "stdout",
     "output_type": "stream",
     "text": [
      "proportion of 'confirm':31.88%\n"
     ]
    }
   ],
   "source": [
    "confirm_proportion = (df_final['process_step'] == 'start').mean()\n",
    "print(f\"proportion of 'confirm':{confirm_proportion:.2%}\")"
   ]
  },
  {
   "cell_type": "code",
   "execution_count": 95,
   "id": "6e471eaa",
   "metadata": {},
   "outputs": [
    {
     "name": "stdout",
     "output_type": "stream",
     "text": [
      "proportion of 'confirm':21.50%\n"
     ]
    }
   ],
   "source": [
    "confirm_proportion = (df_final['process_step'] == 'step_1').mean()\n",
    "print(f\"proportion of 'confirm':{confirm_proportion:.2%}\")"
   ]
  },
  {
   "cell_type": "code",
   "execution_count": 96,
   "id": "6565d2ed",
   "metadata": {},
   "outputs": [
    {
     "name": "stdout",
     "output_type": "stream",
     "text": [
      "proportion of 'confirm':17.86%\n"
     ]
    }
   ],
   "source": [
    "confirm_proportion = (df_final['process_step'] == 'step_2').mean()\n",
    "print(f\"proportion of 'confirm':{confirm_proportion:.2%}\")"
   ]
  },
  {
   "cell_type": "code",
   "execution_count": 97,
   "id": "5d433555",
   "metadata": {},
   "outputs": [
    {
     "name": "stdout",
     "output_type": "stream",
     "text": [
      "proportion of 'confirm':15.22%\n"
     ]
    }
   ],
   "source": [
    "confirm_proportion = (df_final['process_step'] == 'step_3').mean()\n",
    "print(f\"proportion of 'confirm':{confirm_proportion:.2%}\")"
   ]
  },
  {
   "cell_type": "code",
   "execution_count": 98,
   "id": "2335d06d",
   "metadata": {},
   "outputs": [
    {
     "name": "stdout",
     "output_type": "stream",
     "text": [
      "proportion of 'confirm':13.54%\n"
     ]
    }
   ],
   "source": [
    "df_control = df_final[df_final['Variation'] == 'Control'].copy()\n",
    "confirm_proportion = (df_final['process_step'] == 'confirm').mean()\n",
    "df_control['confirm_propotion'] = confirm_proportion\n",
    "print(f\"proportion of 'confirm':{confirm_proportion:.2%}\")"
   ]
  },
  {
   "cell_type": "code",
   "execution_count": 99,
   "id": "b0fa3714",
   "metadata": {},
   "outputs": [
    {
     "name": "stdout",
     "output_type": "stream",
     "text": [
      "proportion of 'confirm':13.54%\n"
     ]
    }
   ],
   "source": [
    "df_test = df_final[df_final['Variation'] == 'Test'].copy()\n",
    "confirm_proportion = (df_final['process_step'] == 'confirm').mean()\n",
    "df_test['confirm_propotion'] = confirm_proportion\n",
    "print(f\"proportion of 'confirm':{confirm_proportion:.2%}\")"
   ]
  }
 ],
 "metadata": {
  "kernelspec": {
   "display_name": "base",
   "language": "python",
   "name": "python3"
  },
  "language_info": {
   "codemirror_mode": {
    "name": "ipython",
    "version": 3
   },
   "file_extension": ".py",
   "mimetype": "text/x-python",
   "name": "python",
   "nbconvert_exporter": "python",
   "pygments_lexer": "ipython3",
   "version": "3.12.7"
  }
 },
 "nbformat": 4,
 "nbformat_minor": 5
}
